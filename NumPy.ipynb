{
 "cells": [
  {
   "cell_type": "code",
   "execution_count": 5,
   "id": "b0944e66-9d5f-47a2-9d98-5263ecfae816",
   "metadata": {},
   "outputs": [],
   "source": [
    "###################### AGENDA #######################\n",
    "\n",
    "# Fundamentals of NumPy\n",
    "# NumPy: Array Object\n",
    "# Attributes of NumPy Arrays\n",
    "# Arithmetic Operations using NumPy\n",
    "# Statistical Function in NumPy\n",
    "# String Functions in NumPy\n",
    "# NumPy Array Indexing\n",
    "# Numpy Array Slicing\n",
    "# Practical usecase at the end of each module - code along\n",
    "# Knowledge Check."
   ]
  },
  {
   "cell_type": "code",
   "execution_count": 8,
   "id": "c6f3c177-62cb-4516-9a23-64cf817d81e3",
   "metadata": {},
   "outputs": [
    {
     "name": "stdout",
     "output_type": "stream",
     "text": [
      "[1 2 3 4 5]\n",
      "<class 'numpy.ndarray'>\n"
     ]
    }
   ],
   "source": [
    "# Install NumPy\n",
    "\n",
    "import numpy as np\n",
    "ar1d = np.array([1,2,3,4,5])      # 1-D array\n",
    "print(ar1d)\n",
    "print(type(ar1d))"
   ]
  },
  {
   "cell_type": "code",
   "execution_count": 9,
   "id": "06ea11d8-08bd-4c7c-b3bd-842c6811bb8b",
   "metadata": {},
   "outputs": [],
   "source": [
    "# Learn about CLASS and OOPs"
   ]
  },
  {
   "cell_type": "code",
   "execution_count": 10,
   "id": "c0d09094-e0b0-4e22-bb91-e899a9114d75",
   "metadata": {},
   "outputs": [
    {
     "name": "stdout",
     "output_type": "stream",
     "text": [
      "<class 'numpy.ndarray'> [1]\n"
     ]
    }
   ],
   "source": [
    "ar0d = np.array([1])       # 0-D array\n",
    "print(type(ar0d), ar0d)"
   ]
  },
  {
   "cell_type": "code",
   "execution_count": 11,
   "id": "205783ef-bf3d-4793-8bea-2330bd561671",
   "metadata": {},
   "outputs": [
    {
     "name": "stdout",
     "output_type": "stream",
     "text": [
      "[[ 1  2  3  4  5]\n",
      " [ 6  7  8  9 10]]\n"
     ]
    }
   ],
   "source": [
    "# Define 2-D array\n",
    "\n",
    "ar2d = np.array([[1,2,3,4,5],[6,7,8,9,10]])\n",
    "print(ar2d)"
   ]
  },
  {
   "cell_type": "code",
   "execution_count": 12,
   "id": "94e320f4-4135-41fe-8e60-807c3a6da1a3",
   "metadata": {},
   "outputs": [
    {
     "name": "stdout",
     "output_type": "stream",
     "text": [
      "[[[ 1  2  3  4]\n",
      "  [ 5  6  7  8]\n",
      "  [10 20 30 40]]]\n"
     ]
    }
   ],
   "source": [
    "# Define 3-D array  \n",
    "\n",
    "ar3d = np.array([[[1,2,3,4],[5,6,7,8],[10,20,30,40]]])\n",
    "print(ar3d)"
   ]
  },
  {
   "cell_type": "code",
   "execution_count": 13,
   "id": "f26c5dc4-1177-47c0-baab-200d52477c57",
   "metadata": {},
   "outputs": [],
   "source": [
    "# 4-D array is a combination of two 3-D array\n",
    "# 3-D array is a combination of two 2-D array\n",
    "# 2-D array is a combination of two 1-D array\n",
    "# 1-D array is a combination of two 0-D array"
   ]
  },
  {
   "cell_type": "code",
   "execution_count": 14,
   "id": "4bb7c672-5e1c-44dc-86b0-a172f66849b2",
   "metadata": {},
   "outputs": [
    {
     "name": "stdout",
     "output_type": "stream",
     "text": [
      "[ 2  4  6  8 10]\n"
     ]
    }
   ],
   "source": [
    "# Exercise 1\n",
    "\n",
    "# 1.Create a 1D array with 5 even numbers\n",
    "\n",
    "arr1D = np.array([2,4,6,8,10])\n",
    "print(arr1D)"
   ]
  },
  {
   "cell_type": "code",
   "execution_count": 15,
   "id": "9fa139cf-b9fa-4df7-8c1f-51765486be35",
   "metadata": {},
   "outputs": [
    {
     "name": "stdout",
     "output_type": "stream",
     "text": [
      "[[ 2  4]\n",
      " [ 6  8]\n",
      " [10 12]]\n"
     ]
    }
   ],
   "source": [
    "# 2. Create a 2D array with 6 even number (3X2)\n",
    "\n",
    "arr2D = np.array([[2,4],[6,8],[10,12]])\n",
    "print(arr2D)"
   ]
  },
  {
   "cell_type": "code",
   "execution_count": 17,
   "id": "edc5d215-178e-4bc8-be81-bc9dd1dadc38",
   "metadata": {},
   "outputs": [
    {
     "name": "stdout",
     "output_type": "stream",
     "text": [
      "2\n",
      "(3, 2)\n",
      "6\n",
      "int64\n",
      "8\n",
      "<memory at 0x0000029DFEBEB370>\n"
     ]
    }
   ],
   "source": [
    "# Attributes\n",
    "\n",
    "print(arr2D.ndim)     # 1. Dimensions      : array.ndim\n",
    "print(arr2D.shape)    # 2. Shape           : array.shape\n",
    "print(arr2D.size)    # 3. Size            : array.size      (Total elements in the array)\n",
    "print(arr2D.dtype)    # 4. Type            : array.dtype\n",
    "print(arr2D.itemsize) # 5. size            : array.itemsize  (Size of the array)\n",
    "print(arr2D.data)     # 6. Memory/data     : array.data"
   ]
  },
  {
   "cell_type": "code",
   "execution_count": 24,
   "id": "5451b1ce-b69a-4e97-bc6e-7ed2fc9b1c39",
   "metadata": {},
   "outputs": [
    {
     "name": "stdout",
     "output_type": "stream",
     "text": [
      "[[ 2  4  6]\n",
      " [ 8 10 12]] (2, 3)\n"
     ]
    }
   ],
   "source": [
    "# Reshaping Array\n",
    "\n",
    "arr2D = np.array([[2,4],[6,8],[10,12]])\n",
    "# print(arr2D)\n",
    "\n",
    "newarr = arr2D.reshape(2,3)\n",
    "print(newarr,(newarr.shape))"
   ]
  },
  {
   "cell_type": "code",
   "execution_count": 26,
   "id": "21d0428c-7d22-48d8-841d-2c8dafd92f28",
   "metadata": {},
   "outputs": [
    {
     "name": "stdout",
     "output_type": "stream",
     "text": [
      "[ 2  4  6  8 10 12]\n"
     ]
    }
   ],
   "source": [
    "# Flatten the Array\n",
    "\n",
    "flatarr = arr2D.flatten()\n",
    "print(flatarr)"
   ]
  },
  {
   "cell_type": "code",
   "execution_count": 27,
   "id": "358c05f3-f8cc-4cc0-94b7-3ddb7aedefaa",
   "metadata": {},
   "outputs": [
    {
     "data": {
      "text/plain": [
       "array([[ 2,  4],\n",
       "       [ 6,  8],\n",
       "       [10, 12]])"
      ]
     },
     "execution_count": 27,
     "metadata": {},
     "output_type": "execute_result"
    }
   ],
   "source": [
    "arr2D"
   ]
  },
  {
   "cell_type": "code",
   "execution_count": 30,
   "id": "6ce2e32b-dcd3-488c-80fe-c4f675f3b0da",
   "metadata": {},
   "outputs": [
    {
     "name": "stdout",
     "output_type": "stream",
     "text": [
      "[[ 2  6 10]\n",
      " [ 4  8 12]]\n"
     ]
    }
   ],
   "source": [
    "# Transpose Array\n",
    "\n",
    "trans_array = arr2D.transpose()\n",
    "print(trans_array)"
   ]
  },
  {
   "cell_type": "code",
   "execution_count": 33,
   "id": "4d406bab-0bdf-4ac9-85b4-358339775980",
   "metadata": {},
   "outputs": [
    {
     "data": {
      "text/plain": [
       "array([1, 3, 5, 7, 9])"
      ]
     },
     "execution_count": 33,
     "metadata": {},
     "output_type": "execute_result"
    }
   ],
   "source": [
    "# Generate numbers using 'arange'\n",
    "\n",
    "np.arange(1,11,2)   #It will generate from 1 to 11 with a space of 2 elements."
   ]
  },
  {
   "cell_type": "code",
   "execution_count": 36,
   "id": "a2a0f6be-82d4-4bb6-9300-4fbd9b9e4234",
   "metadata": {},
   "outputs": [
    {
     "name": "stdout",
     "output_type": "stream",
     "text": [
      "[[0.30834627 0.75754451 0.92681992 0.38521787 0.75358488]\n",
      " [0.08965854 0.98690011 0.29852479 0.14121842 0.65278277]\n",
      " [0.91745078 0.20754424 0.06269833 0.77926712 0.76273971]\n",
      " [0.9172433  0.36099685 0.6394476  0.53971508 0.85353065]\n",
      " [0.7712884  0.98062691 0.28301446 0.79869685 0.66427037]]\n"
     ]
    }
   ],
   "source": [
    "# Generate Random Numbers with specified shape.\n",
    "# Values uniformly distributed between 0 and 1.\n",
    "\n",
    "random_arr = np.random.rand(5,5)\n",
    "print(random_arr)"
   ]
  },
  {
   "cell_type": "code",
   "execution_count": 47,
   "id": "8bcdc9ad-46f7-4305-b04f-5bd53c50e0c4",
   "metadata": {},
   "outputs": [
    {
     "name": "stdout",
     "output_type": "stream",
     "text": [
      "[[0 1]\n",
      " [2 3]\n",
      " [4 5]]\n"
     ]
    }
   ],
   "source": [
    "# Creating multidim array using arange.\n",
    "\n",
    "multi_arr = np.arange(6)\n",
    "multi_arr = multi_arr.reshape(3,2)\n",
    "print(multi_arr)"
   ]
  },
  {
   "cell_type": "code",
   "execution_count": null,
   "id": "094d2e83-efa1-49fe-bf5b-791476ee5fb0",
   "metadata": {},
   "outputs": [],
   "source": [
    "############## Exercise 1 ###############\n",
    "\n",
    "# Dimension and Shape\n",
    "# Create a NumPy array arr1 of shape (3,4) filled with integers from 1 to 12\n",
    "# Print the number of dimension(ndim) of arr1\n",
    "# Print the shape of the arr1\n",
    "# Size and datatype"
   ]
  },
  {
   "cell_type": "code",
   "execution_count": 56,
   "id": "9bf78f68-4f5d-44c1-84b3-6fca4260fbeb",
   "metadata": {},
   "outputs": [
    {
     "name": "stdout",
     "output_type": "stream",
     "text": [
      "[[[ 1  2  3  4]\n",
      "  [ 5  6  7  8]\n",
      "  [ 9 10 11 12]]]\n",
      "3\n",
      "(1, 3, 4)\n",
      "12\n",
      "int64\n"
     ]
    }
   ],
   "source": [
    "# arr1 = np.arange(1,13)\n",
    "# print(arr1)\n",
    "\n",
    "arr1 = np.array([[[1,2,3,4],[5,6,7,8],[9,10,11,12]]])\n",
    "print(arr1)\n",
    "\n",
    "# arr1 = arr1.reshape(3,4)\n",
    "# print(arr1)\n",
    "\n",
    "print(arr1.ndim)\n",
    "\n",
    "print(arr1.shape)\n",
    "\n",
    "print(arr1.size)\n",
    "\n",
    "print(arr1.dtype)"
   ]
  },
  {
   "cell_type": "code",
   "execution_count": null,
   "id": "d2eaec2f-17dd-4c23-aa04-4d8f084a6cd1",
   "metadata": {},
   "outputs": [],
   "source": [
    "################ Exercise 2 ###################\n",
    "\n",
    "# Flatten the arr1 into 1D array\n",
    "# Print flatten array\n",
    "# Transpose function"
   ]
  },
  {
   "cell_type": "code",
   "execution_count": 66,
   "id": "e7aeaeb5-ca10-42a4-8007-c85b6ed75d23",
   "metadata": {},
   "outputs": [
    {
     "name": "stdout",
     "output_type": "stream",
     "text": [
      "[ 2  4  6  8 10 12]\n",
      "[[ 2  6 10]\n",
      " [ 4  8 12]]\n"
     ]
    }
   ],
   "source": [
    "arr2D = np.array([[2,4],[6,8],[10,12]])\n",
    "\n",
    "f_arr1 = arr2D.flatten()\n",
    "print(f_arr1)\n",
    "\n",
    "t_arr1 = arr2D.transpose()\n",
    "print(t_arr1)"
   ]
  },
  {
   "cell_type": "code",
   "execution_count": 81,
   "id": "03062dc6-bf24-4082-898e-ca10bd4986b5",
   "metadata": {},
   "outputs": [
    {
     "name": "stdout",
     "output_type": "stream",
     "text": [
      "[[ 11  22  33]\n",
      " [ 44  55 606]]\n",
      "[[  9  18  27]\n",
      " [ 36  45 594]]\n",
      "[[  10   40   90]\n",
      " [ 160  250 3600]]\n",
      "[[0.1  0.1  0.1 ]\n",
      " [0.1  0.1  0.01]]\n",
      "[[                   1              1048576      205891132094649]\n",
      " [                   0 -6776596920136667815                    0]]\n"
     ]
    }
   ],
   "source": [
    "# Arithmetic operations in array\n",
    "\n",
    "arr_A = np.array([[1,2,3],[4,5,6]])\n",
    "arr_B = np.array([[10,20,30],[40,50,600]])\n",
    "\n",
    "arr_add = np.add(arr_A,arr_B)\n",
    "print(arr_add)\n",
    "\n",
    "arr_sub = np.subtract(arr_B,arr_A)\n",
    "print(arr_sub)\n",
    "\n",
    "arr_mul = np.multiply(arr_A,arr_B)\n",
    "print(arr_mul)\n",
    "\n",
    "arr_div = np.divide(arr_A,arr_B)\n",
    "print(arr_div)\n",
    "\n",
    "arr_pow = np.power(arr_A,arr_B)\n",
    "print(arr_pow)"
   ]
  },
  {
   "cell_type": "code",
   "execution_count": null,
   "id": "6f36b49f-8f2b-445e-bc45-65cef7c4c616",
   "metadata": {},
   "outputs": [],
   "source": [
    "################ Exercise 3 ####################\n",
    "# Question: Perform the following operations using NumPy arrays:\n",
    "\n",
    "# Add the arrays a = np.array([10,20,30]) and b = np.array([5,10,15])\n",
    "# Subtract the arrays c = np.array ([[50,40],[30,20]]) and d = np.array([[10,20],[5,15]])\n",
    "# Multiply the arrays e = np.array([2,4,6]) and f = np.array([3,6,9])\n",
    "# Divide the array g = np.array([[10,20,30],[40,50,60]]) by h = np.array([2,5,10])\n",
    "# Compute the power of i = np.array([1,2,3,4]) raised to j = np.array([2,3,4,5])"
   ]
  },
  {
   "cell_type": "code",
   "execution_count": 83,
   "id": "cc729542-e853-4c1b-b175-822c61ea82e1",
   "metadata": {},
   "outputs": [
    {
     "name": "stdout",
     "output_type": "stream",
     "text": [
      "[15 30 45]\n"
     ]
    }
   ],
   "source": [
    "a = np.array([10,20,30])\n",
    "b = np.array([5,10,15])\n",
    "print(np.add(a,b))"
   ]
  },
  {
   "cell_type": "code",
   "execution_count": 85,
   "id": "4d3aaa99-89c5-4d61-a9d8-a7eb48e12c26",
   "metadata": {},
   "outputs": [
    {
     "name": "stdout",
     "output_type": "stream",
     "text": [
      "[[40 20]\n",
      " [25  5]]\n"
     ]
    }
   ],
   "source": [
    "c = np.array ([[50,40],[30,20]])\n",
    "d = np.array([[10,20],[5,15]])\n",
    "print(np.subtract(c,d))"
   ]
  },
  {
   "cell_type": "code",
   "execution_count": 86,
   "id": "7dfd0942-f98d-4c77-98c7-97f9ee78f5f8",
   "metadata": {},
   "outputs": [
    {
     "name": "stdout",
     "output_type": "stream",
     "text": [
      "[ 6 24 54]\n"
     ]
    }
   ],
   "source": [
    "e = np.array([2,4,6])  \n",
    "f = np.array([3,6,9])\n",
    "print(np.multiply(e,f))"
   ]
  },
  {
   "cell_type": "code",
   "execution_count": 87,
   "id": "3042289f-4800-48f4-b3e2-f36a1ab6c61b",
   "metadata": {},
   "outputs": [
    {
     "name": "stdout",
     "output_type": "stream",
     "text": [
      "[[ 5.  4.  3.]\n",
      " [20. 10.  6.]]\n"
     ]
    }
   ],
   "source": [
    "g = np.array([[10,20,30],[40,50,60]])\n",
    "h = np.array([2,5,10])\n",
    "print(np.divide(g,h))\n"
   ]
  },
  {
   "cell_type": "code",
   "execution_count": 89,
   "id": "de225548-d346-4109-b51c-7ddc8bf2a929",
   "metadata": {},
   "outputs": [
    {
     "name": "stdout",
     "output_type": "stream",
     "text": [
      "[   1    8   81 1024]\n"
     ]
    }
   ],
   "source": [
    "i = np.array([1,2,3,4]) \n",
    "j = np.array([2,3,4,5])\n",
    "print(np.power(i,j))"
   ]
  },
  {
   "cell_type": "code",
   "execution_count": 99,
   "id": "cee3e231-845e-403a-ba78-de931dc98e0a",
   "metadata": {},
   "outputs": [
    {
     "name": "stdout",
     "output_type": "stream",
     "text": [
      "5.0\n",
      "5.0\n",
      "2.581988897471611\n",
      "6.666666666666667\n",
      "7.0\n"
     ]
    }
   ],
   "source": [
    "# Statistics for Arrays.\n",
    "\n",
    "arr_stat = np.array([[1,2,3],[4,5,6],[7,8,9]])\n",
    "\n",
    "# Median\n",
    "print(np.median(arr_stat))\n",
    "\n",
    "# Mean\n",
    "print(np.mean(arr_stat))\n",
    "\n",
    "# Standart Deviation\n",
    "print(np.std(arr_stat))\n",
    "\n",
    "# Variance\n",
    "print(np.var(arr_stat))\n",
    "\n",
    "# 75th Percentile\n",
    "print(np.percentile(arr_stat,75))"
   ]
  },
  {
   "cell_type": "code",
   "execution_count": 107,
   "id": "a29889bf-3b18-4be4-b0e2-c9be60b1d37e",
   "metadata": {},
   "outputs": [],
   "source": [
    "# String Functions on Array\n",
    "\n",
    "str1 = np.array([\"Hello\",\" World\"])\n",
    "str2 = np.array([\" Welcome\",\" to NumPy\"])"
   ]
  },
  {
   "cell_type": "code",
   "execution_count": 108,
   "id": "49f76f1c-9555-4e74-b8c8-5b88d024891b",
   "metadata": {},
   "outputs": [
    {
     "name": "stdout",
     "output_type": "stream",
     "text": [
      "['Hello Welcome' ' World to NumPy']\n"
     ]
    }
   ],
   "source": [
    "# Concatinate Strings(Adding)\n",
    "\n",
    "str12 = np.char.add (str1 ,str2)\n",
    "print(str12)"
   ]
  },
  {
   "cell_type": "code",
   "execution_count": 110,
   "id": "fa70e4f7-8bd2-4b7d-90fc-47f6cddec323",
   "metadata": {},
   "outputs": [
    {
     "name": "stdout",
     "output_type": "stream",
     "text": [
      " Hi, how are you!\n"
     ]
    }
   ],
   "source": [
    "# SubString replacement\n",
    "\n",
    "str = ' Hello, how are you!'\n",
    "print(np.char.replace(str,'Hello','Hi'))"
   ]
  },
  {
   "cell_type": "code",
   "execution_count": 112,
   "id": "a9c7cfdb-a564-4ac0-880e-95f7be8fd54d",
   "metadata": {},
   "outputs": [
    {
     "name": "stdout",
     "output_type": "stream",
     "text": [
      "hello world\n",
      "GOOD MORNING\n"
     ]
    }
   ],
   "source": [
    "# String Case conversion\n",
    "\n",
    "str = \"HELLO WORLD\"\n",
    "print(np.char.lower(str))\n",
    "\n",
    "str1 = 'good morning'\n",
    "print(np.char.upper(str1))"
   ]
  },
  {
   "cell_type": "code",
   "execution_count": 121,
   "id": "e6ad8c08-6f4b-4560-b492-e8683303ab17",
   "metadata": {},
   "outputs": [
    {
     "name": "stdout",
     "output_type": "stream",
     "text": [
      "1\n",
      "5\n",
      "[2 3 4 5]\n",
      "3\n",
      "[1 2 3 4 5 6]\n",
      "[3 4]\n"
     ]
    }
   ],
   "source": [
    "# Indexing and Slicing\n",
    "\n",
    "x = np.array([1,2,3,4,5,6])  #1D Array\n",
    "\n",
    "print(x[0])\n",
    "print(x[4])\n",
    "print(x[1:5])\n",
    "print(x[-4])\n",
    "print(x[:6])\n",
    "print(x[-4:-2])"
   ]
  },
  {
   "cell_type": "code",
   "execution_count": 151,
   "id": "07beb126-9fbb-4843-ae3b-f2b44832a81d",
   "metadata": {},
   "outputs": [
    {
     "name": "stdout",
     "output_type": "stream",
     "text": [
      "[[1 2 3 4]\n",
      " [5 6 7 8]]\n",
      "2\n",
      "8\n",
      "4\n",
      "[3 7]\n"
     ]
    }
   ],
   "source": [
    "y = np.array([[1,2,3,4],[5,6,7,8]])   #2D Array\n",
    "\n",
    "print(y)\n",
    "\n",
    "print(y[0,1])\n",
    "print(y[1,3])\n",
    "print(y[0,-1])\n",
    "print(y[ :,2])"
   ]
  },
  {
   "cell_type": "code",
   "execution_count": 174,
   "id": "8392fa21-e86e-4f6f-b34f-157d7df0f65e",
   "metadata": {},
   "outputs": [
    {
     "name": "stdout",
     "output_type": "stream",
     "text": [
      "3 [[[ 1  2  3  4]\n",
      "  [ 5  6  7  8]]\n",
      "\n",
      " [[10 20 30 40]\n",
      "  [50 60 70 80]]]\n",
      "5\n",
      "[5 6 7 8]\n",
      "8\n",
      "[5 6 7 8]\n",
      "[[10 20 30 40]\n",
      " [50 60 70 80]]\n"
     ]
    }
   ],
   "source": [
    "z = np.array([[[1,2,3,4],[5,6,7,8]],[[10,20,30,40],[50,60,70,80]]])   #3D Array\n",
    "print(np.ndim(z),z)\n",
    "\n",
    "print(z[0,1,0])\n",
    "print(z[0,1,:])\n",
    "print(z[0,1,-1])\n",
    "print(z[0,1])\n",
    "print(z[1,])"
   ]
  },
  {
   "cell_type": "code",
   "execution_count": 175,
   "id": "57e078b5-a1b0-403b-933b-41b0d0863ca0",
   "metadata": {},
   "outputs": [],
   "source": [
    "array_1d = np.array([1, 2, 3, 4, 5, 6])\n",
    "\n",
    "array_2d = np.array([[1, 2, 3], [4, 5, 6]])\n",
    "\n",
    "array_3d = np.array([[[1, 2, 3], [4, 5, 6]], [[7, 8, 9], [10, 11, 12]]])"
   ]
  },
  {
   "cell_type": "code",
   "execution_count": 194,
   "id": "37062bab-b3f5-44b1-943e-1e542ec54bb0",
   "metadata": {},
   "outputs": [
    {
     "name": "stdout",
     "output_type": "stream",
     "text": [
      "3\n",
      "7\n",
      "[3 5]\n"
     ]
    }
   ],
   "source": [
    "# Print the value of 3rd element of 1D array\n",
    "\n",
    "print(array_1d[2])\n",
    "\n",
    "print(array_1d[3]+array_1d[2])\n",
    "\n",
    "print(array_1d[2:6:2])"
   ]
  },
  {
   "cell_type": "code",
   "execution_count": 183,
   "id": "afd4f110-8a8c-4ad8-a39f-2a33f8d9a57a",
   "metadata": {},
   "outputs": [
    {
     "name": "stdout",
     "output_type": "stream",
     "text": [
      "3\n",
      "1\n",
      "8\n"
     ]
    }
   ],
   "source": [
    "# Print the 3rd element of the 1st row of 2D array\n",
    "\n",
    "print(array_2d[0,2])\n",
    "\n",
    "# Print 1st row of the 1element of 3D array\n",
    "\n",
    "print(array_3d[0,0,0])\n",
    "\n",
    "# Print 8 from the 3D array\n",
    "\n",
    "print(array_3d[1,0,1])"
   ]
  },
  {
   "cell_type": "code",
   "execution_count": null,
   "id": "30b25548-ff46-4d20-adf7-efb5e33a0eea",
   "metadata": {},
   "outputs": [],
   "source": [
    "# Practical Exercise: Analyzing Temperature Data\n",
    "\n",
    "# Scenario: \n",
    "# You are a data analyst working with weather data. You have a dataset containing\n",
    "# a daily temperature record over a month(30 days) for 3 different cities\n",
    "# City A, City B, City C. Your task is to extract and analyse specifics of this data\n",
    "# using slicing technique\n",
    "\n",
    "# Generating data\n",
    "# import numpy as np\n",
    "\n",
    "# Generate random temperature data for demonstation purpose\n",
    "np.random.seed(0) #For producibility\n",
    "temperature_data = np.random.radiant(15,35, size(30,3))\n",
    "\n",
    "# Parameters:\n",
    "# 15: The lower boundary (inclusive) of the random integers to be generated.\n",
    "# 35: The upper buondary (exclusive) of the random integers to be generated.\n",
    "# size=(30,3): Specifies the shape of dimensions of the output array, Here it creates\n",
    "# an array with 30 rows and columns."
   ]
  },
  {
   "cell_type": "code",
   "execution_count": 199,
   "id": "9e672be5-a1a5-4f82-8cfe-2f687cf98b6f",
   "metadata": {},
   "outputs": [
    {
     "name": "stdout",
     "output_type": "stream",
     "text": [
      "[[27 30 15]\n",
      " [18 18 22]\n",
      " [24 34 33]\n",
      " [19 21 27]\n",
      " [16 21 22]\n",
      " [29 32 20]\n",
      " [28 23 24]\n",
      " [34 31 34]\n",
      " [20 30 30]\n",
      " [15 33 18]\n",
      " [32 34 34]\n",
      " [34 29 22]\n",
      " [15 16 24]\n",
      " [15 25 18]\n",
      " [26 33 17]\n",
      " [15 15 19]\n",
      " [20 21 23]\n",
      " [32 30 19]\n",
      " [24 25 16]\n",
      " [16 22 24]\n",
      " [18 21 26]\n",
      " [29 33 15]\n",
      " [29 18 27]\n",
      " [25 26 19]\n",
      " [21 19 30]\n",
      " [18 27 19]\n",
      " [23 29 30]\n",
      " [18 30 28]\n",
      " [31 32 20]\n",
      " [24 18 15]]\n"
     ]
    }
   ],
   "source": [
    "# Generate random temperature data for demonstation purpose\n",
    "np.random.seed(0) #For producibility\n",
    "temperature_data = np.random.randint(15,35, size=(30,3))\n",
    "print(temperature_data)"
   ]
  },
  {
   "cell_type": "code",
   "execution_count": 232,
   "id": "d74f0867-4f9a-4068-83ec-daeb22a9784b",
   "metadata": {},
   "outputs": [
    {
     "name": "stdout",
     "output_type": "stream",
     "text": [
      "[[27 30 15]\n",
      " [18 18 22]\n",
      " [24 34 33]\n",
      " [19 21 27]\n",
      " [16 21 22]\n",
      " [29 32 20]\n",
      " [28 23 24]\n",
      " [34 31 34]\n",
      " [20 30 30]\n",
      " [15 33 18]]\n"
     ]
    }
   ],
   "source": [
    "# Questions:\n",
    "\n",
    "# Extract the temprature data for the first 10 days for all three cities\n",
    "# print(temperature_data[:10])\n",
    "print(temperature_data[:10,0:3])"
   ]
  },
  {
   "cell_type": "code",
   "execution_count": 201,
   "id": "bdd324bf-ab9f-470d-8e65-dfe704f3e032",
   "metadata": {},
   "outputs": [
    {
     "name": "stdout",
     "output_type": "stream",
     "text": [
      "[30 18 34 21 21 32 23 31 30 33 34 29 16 25 33 15 21 30 25 22 21 33 18 26\n",
      " 19 27 29 30 32 18]\n"
     ]
    }
   ],
   "source": [
    "# Extract the temperature data for City B for the entire month\n",
    "\n",
    "print(temperature_data[:,1])"
   ]
  },
  {
   "cell_type": "code",
   "execution_count": 235,
   "id": "69cd0ee1-690e-40d8-aef0-ef61da40a461",
   "metadata": {},
   "outputs": [
    {
     "name": "stdout",
     "output_type": "stream",
     "text": [
      "[[25 19]\n",
      " [21 30]\n",
      " [18 19]\n",
      " [23 30]\n",
      " [18 28]\n",
      " [31 20]\n",
      " [24 15]]\n"
     ]
    }
   ],
   "source": [
    "# Extract the temperature data for the last 7 days for City A and City C\n",
    "\n",
    "print(temperature_data[-7:,[0,2]])  #[0,2] is passed as a list. \n",
    "# print(temperature_data[-7:,0])\n",
    "# print(temperature_data[-7:,2])"
   ]
  },
  {
   "cell_type": "code",
   "execution_count": 215,
   "id": "65ca9661-5b07-47c3-9e3f-a014daa23be1",
   "metadata": {},
   "outputs": [
    {
     "name": "stdout",
     "output_type": "stream",
     "text": [
      "[15 22 33 27 22]\n",
      "[19 30 28 20 15]\n"
     ]
    }
   ],
   "source": [
    "# Extract the temperature data for the first 5 days and last 5 days of city C\n",
    "\n",
    "print(temperature_data[:5,2])\n",
    "print(temperature_data[-5:,2])"
   ]
  },
  {
   "cell_type": "code",
   "execution_count": 222,
   "id": "bc2f3783-0ab9-4703-99f5-04a5c8709f56",
   "metadata": {},
   "outputs": [
    {
     "name": "stdout",
     "output_type": "stream",
     "text": [
      "24.933333333333334\n",
      "23.08888888888889\n"
     ]
    }
   ],
   "source": [
    "# Calculate the average temperature for the first half(15 days) and second half (15 days)\n",
    "# of the month\n",
    "\n",
    "half1 = temperature_data[:15, ]\n",
    "# print(half1)\n",
    "\n",
    "print(np.mean(half1))\n",
    "\n",
    "half2 = temperature_data[15:, ]\n",
    "# print(half2)\n",
    "\n",
    "print(np.mean(half2))"
   ]
  },
  {
   "cell_type": "code",
   "execution_count": 231,
   "id": "2d0b77da-e85a-4456-b626-767271b073a5",
   "metadata": {},
   "outputs": [
    {
     "name": "stdout",
     "output_type": "stream",
     "text": [
      "[[4 5 2 3 2]\n",
      " [5 7 9 3 4]]\n"
     ]
    }
   ],
   "source": [
    "a = np.random.randint(1,10, size=(2,5))\n",
    "# np.random.randint creates random number\n",
    "# it creates between 1 to 10 \n",
    "# it creates of shape 2X5\n",
    "\n",
    "print(a)"
   ]
  }
 ],
 "metadata": {
  "kernelspec": {
   "display_name": "Python 3 (ipykernel)",
   "language": "python",
   "name": "python3"
  },
  "language_info": {
   "codemirror_mode": {
    "name": "ipython",
    "version": 3
   },
   "file_extension": ".py",
   "mimetype": "text/x-python",
   "name": "python",
   "nbconvert_exporter": "python",
   "pygments_lexer": "ipython3",
   "version": "3.12.4"
  }
 },
 "nbformat": 4,
 "nbformat_minor": 5
}
