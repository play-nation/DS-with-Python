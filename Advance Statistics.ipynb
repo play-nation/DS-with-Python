{
 "cells": [
  {
   "cell_type": "markdown",
   "id": "699966fe-d6ac-473b-9d09-a783092a5567",
   "metadata": {},
   "source": [
    "## __Hypothesis Testing__"
   ]
  },
  {
   "cell_type": "code",
   "execution_count": 1,
   "id": "c02e218e-65dc-4c91-823a-89d57d5a03ad",
   "metadata": {},
   "outputs": [],
   "source": [
    "# Hypothesis to be tested: You believe that more students prefer pizza over\n",
    "# other lunch option like burger or sandwiches"
   ]
  },
  {
   "cell_type": "code",
   "execution_count": 2,
   "id": "26029d48-8785-45ef-a661-542b2eb274c6",
   "metadata": {},
   "outputs": [],
   "source": [
    "# Null hypothesis(H0): Students do not prefer pizza over other lunch options.\n",
    "# Alternate hypothesis(H1): Students do prefer pizza over other lunch options."
   ]
  },
  {
   "cell_type": "code",
   "execution_count": 3,
   "id": "1881e485-01c3-4c95-85b4-8bd240179715",
   "metadata": {},
   "outputs": [
    {
     "name": "stdout",
     "output_type": "stream",
     "text": [
      "[1 1 1 1 1 1 1 0 0 1 0 1 1 0 1 1 1 0 0 0]\n",
      "\n",
      " 13\n"
     ]
    }
   ],
   "source": [
    "import numpy as np\n",
    "\n",
    "# Simulate the student preferences\n",
    "# '1' for pizza and '0' for other options\n",
    "\n",
    "np.random.seed(0) #For reproducibility\n",
    "\n",
    "preference = np.random.choice([1,0], size=20,p=[0.75,0.25]) #60% pizza, 40% others\n",
    "\n",
    "# Count how many prefer pizza\n",
    "pizza_count = np.sum(preference == 1)\n",
    "\n",
    "print(preference)\n",
    "print(f\"\\n {pizza_count}\")"
   ]
  },
  {
   "cell_type": "code",
   "execution_count": 4,
   "id": "1c8db4b7-ee93-46e9-b8a2-394f678e9333",
   "metadata": {},
   "outputs": [
    {
     "name": "stdout",
     "output_type": "stream",
     "text": [
      "Our guess might be right! More student prefer pizza\n"
     ]
    }
   ],
   "source": [
    "# simple decision based on our expectation\n",
    "\n",
    "expected_pizza = 20*0.5 #we expect half of the student to prefer pizza\n",
    "\n",
    "if pizza_count > expected_pizza:\n",
    "    print(\"Our guess might be right! More student prefer pizza\")\n",
    "else:\n",
    "    print(\"Our guess might be wrong! fewer student prefer pizza\")"
   ]
  },
  {
   "cell_type": "code",
   "execution_count": 5,
   "id": "5bb1e94b-9f84-4f96-983f-8ef2b95c6a14",
   "metadata": {},
   "outputs": [],
   "source": [
    "# Example : Let's say we want to calculate a 95% confidence interval for the average \n",
    "# height of students in a school. \n",
    "# We randomly sample 50 students and measure their heights. \n",
    "# Here's how we can do it using Python."
   ]
  },
  {
   "cell_type": "code",
   "execution_count": 6,
   "id": "6b46b5a6-3b89-41fa-9dd9-3c5b44d25313",
   "metadata": {},
   "outputs": [],
   "source": [
    "import numpy as np\n",
    "import scipy.stats as stats\n",
    "\n",
    "# Step 1: Simulate sample data\n",
    "np.random.seed(42)  # For reproducibility\n",
    "sample_size = 50\n",
    "# Simulate heights (in cm) from a normal distribution with mean=170 and std=10\n",
    "sample_heights = np.random.normal(loc=170, scale=10, size=sample_size)\n",
    "\n",
    "# Step 2: Calculate sample statistics\n",
    "sample_mean = np.mean(sample_heights)\n",
    "sample_std = np.std(sample_heights, ddof =1)   # Sample standard deviation"
   ]
  },
  {
   "cell_type": "code",
   "execution_count": 7,
   "id": "b2c2ba47-3cc2-437d-8c03-2a9593aaf3c7",
   "metadata": {},
   "outputs": [],
   "source": [
    "# Step 3:  Define Confidence Level and calculate z-score\n",
    "confidence_level = 0.95\n",
    "alpha = 1 - confidence_level\n",
    "\n",
    "z_score = stats.norm.ppf(1-alpha/2)  #z-score for two tailed test\n",
    "\n",
    "# Step 4: Calculate the margin of error\n",
    "margin_of_error = z_score * (sample_std / np.sqrt(sample_size))\n",
    "\n",
    "# Step 5: Calculate confidence interval\n",
    "ci_lower = sample_mean - margin_of_error\n",
    "ci_upper = sample_mean + margin_of_error"
   ]
  },
  {
   "cell_type": "code",
   "execution_count": 8,
   "id": "2cfd6efd-3ac0-48bc-affc-e0604dc5e26e",
   "metadata": {},
   "outputs": [
    {
     "data": {
      "text/plain": [
       "0.050000000000000044"
      ]
     },
     "execution_count": 8,
     "metadata": {},
     "output_type": "execute_result"
    }
   ],
   "source": [
    "alpha"
   ]
  },
  {
   "cell_type": "code",
   "execution_count": 9,
   "id": "ed303d36-cf0c-495f-8efd-5b56691cc790",
   "metadata": {},
   "outputs": [
    {
     "name": "stdout",
     "output_type": "stream",
     "text": [
      "Sample Mean: Average height of 50 Students: 167.75\n"
     ]
    }
   ],
   "source": [
    "print(f\"Sample Mean: Average height of 50 Students: {sample_mean:.2f}\")"
   ]
  },
  {
   "cell_type": "code",
   "execution_count": 10,
   "id": "aaff50af-606d-423b-b89d-33d160571424",
   "metadata": {},
   "outputs": [
    {
     "name": "stdout",
     "output_type": "stream",
     "text": [
      "Sample Standard Deviation: 9.34\n",
      "Z-Score: 1.96\n"
     ]
    }
   ],
   "source": [
    "print(f\"Sample Standard Deviation: {sample_std:.2f}\")\n",
    "print(f\"Z-Score: {z_score:.2f}\")"
   ]
  },
  {
   "cell_type": "code",
   "execution_count": 11,
   "id": "05aa1dca-af6a-4e46-b37a-ec5447907bc3",
   "metadata": {},
   "outputs": [
    {
     "name": "stdout",
     "output_type": "stream",
     "text": [
      "Margin of Error: 2.59\n",
      "95% Confidence Interval: (165.16, 170.33)\n"
     ]
    }
   ],
   "source": [
    "print(f\"Margin of Error: {margin_of_error:.2f}\")\n",
    "print(f\"95% Confidence Interval: ({ci_lower:.2f}, {ci_upper:.2f})\")"
   ]
  },
  {
   "cell_type": "markdown",
   "id": "c18a0f98-a290-4c66-a3fd-9db3c7aa63d1",
   "metadata": {},
   "source": [
    "## __Z-Distribution (Standard Normal Distribution)__"
   ]
  },
  {
   "cell_type": "code",
   "execution_count": 12,
   "id": "5ba872ce-6220-4fca-9d12-4ab9b1cdf354",
   "metadata": {},
   "outputs": [],
   "source": [
    "# Greater than 30 data points\n",
    "# Example: Basketball Perforamance\n",
    "# Imagine you have data on the average points scored by the players in \n",
    "# your league and want to see how you compare"
   ]
  },
  {
   "cell_type": "code",
   "execution_count": 13,
   "id": "11960494-9816-4648-ac6b-55e13543c73f",
   "metadata": {},
   "outputs": [],
   "source": [
    "import numpy as np\n",
    "\n",
    "# Example data: Points scored by players in a basketball league\n",
    "points = [15,20,22,18,25,24,20,21,19,23]\n",
    "your_score = 26"
   ]
  },
  {
   "cell_type": "code",
   "execution_count": 14,
   "id": "7a893f42-0046-4d38-96d3-6afddbb5b658",
   "metadata": {},
   "outputs": [
    {
     "name": "stdout",
     "output_type": "stream",
     "text": [
      "Mean points: 20.7\n",
      "\n",
      "Standard Deviation of points: 2.83\n"
     ]
    }
   ],
   "source": [
    "# Calculate mean and standard deviation\n",
    "\n",
    "mean_points = np.mean(points)\n",
    "print(f\"Mean points: {mean_points}\")\n",
    "std_points = np.std(points)\n",
    "print(f\"\\nStandard Deviation of points: {std_points:.2f}\")"
   ]
  },
  {
   "cell_type": "code",
   "execution_count": 15,
   "id": "f99c78e7-173d-4a9b-b7e8-90d156916993",
   "metadata": {},
   "outputs": [
    {
     "name": "stdout",
     "output_type": "stream",
     "text": [
      "z-score: 1.8726629213445694\n"
     ]
    }
   ],
   "source": [
    "# Calculate the z-score for your performance\n",
    "z_score = (your_score - mean_points)/std_points\n",
    "print(f\"z-score: {z_score}\")"
   ]
  },
  {
   "cell_type": "code",
   "execution_count": 16,
   "id": "9531c261-b9ce-4b3a-bc1a-ae715cd65b52",
   "metadata": {},
   "outputs": [],
   "source": [
    "## Positive z-score means that my score lies on right side of the mean. \n",
    "## This means my performance is better than the average performance."
   ]
  },
  {
   "cell_type": "markdown",
   "id": "6a419f7e-d1de-4921-81f0-808f045bcf1c",
   "metadata": {},
   "source": [
    "## __T-Distribution__\n",
    "# Less than 30 datapoints are available"
   ]
  },
  {
   "cell_type": "markdown",
   "id": "a6cbea54-189b-4380-85de-94b2592db64f",
   "metadata": {},
   "source": [
    "## __T - Test__"
   ]
  },
  {
   "cell_type": "code",
   "execution_count": 17,
   "id": "55842ce3-526f-4d74-b887-7863961d4cb4",
   "metadata": {},
   "outputs": [],
   "source": [
    "# Null Hyposthesis (H0): There is no difference in average test score\n",
    "# between the old and the new teaching methods\n",
    "\n",
    "# Alternate Hypothesis (H1): The new teaching method leads to higher average \n",
    "# test scores compared to the old method"
   ]
  },
  {
   "cell_type": "code",
   "execution_count": 18,
   "id": "46012c20-7a7e-4f92-8067-2baa8ab18231",
   "metadata": {},
   "outputs": [
    {
     "name": "stdout",
     "output_type": "stream",
     "text": [
      "[74.96714153 68.61735699 76.47688538 85.23029856 67.65846625 67.65863043\n",
      " 85.79212816 77.67434729 65.30525614 75.42560044 65.36582307 65.34270246\n",
      " 72.41962272 50.86719755 52.75082167 64.37712471 59.8716888  73.14247333\n",
      " 60.91975924 55.87696299 84.65648769 67.742237   70.67528205 55.75251814\n",
      " 64.55617275 71.1092259  58.49006423 73.75698018 63.9936131  67.0830625 ]\n",
      "[68.98293388 93.52278185 74.86502775 64.42289071 83.22544912 62.7915635\n",
      " 77.08863595 55.40329876 61.71813951 76.96861236 82.3846658  76.71368281\n",
      " 73.84351718 71.98896304 60.2147801  67.80155792 70.39361229 85.57122226\n",
      " 78.4361829  57.36959845 78.24083969 71.1491772  68.23078    81.11676289\n",
      " 85.30999522 84.31280119 66.60782477 71.90787624 78.31263431 84.75545127]\n"
     ]
    }
   ],
   "source": [
    "import numpy as np\n",
    "from scipy import stats\n",
    "\n",
    "# simulate test scores of two groups of students\n",
    "np.random.seed(42) #For reproducibility\n",
    "\n",
    "# Old methods score(mean = 70, std = 10)\n",
    "old_method_score = np.random.normal(loc = 70, scale = 10, size = 30)\n",
    "print(old_method_score)\n",
    "\n",
    "# New Method score (mean = 75, std = 10)\n",
    "new_method_score = np.random.normal(loc=75, scale=10, size=30)\n",
    "print(new_method_score)"
   ]
  },
  {
   "cell_type": "code",
   "execution_count": 19,
   "id": "fa611dcd-5d43-489b-8a2f-9f1cd3e43b37",
   "metadata": {},
   "outputs": [
    {
     "name": "stdout",
     "output_type": "stream",
     "text": [
      "new_method_score (first 5):[68.98293388 93.52278185 74.86502775 64.42289071 83.22544912]\n",
      "old_method_score (first 5): [74.96714153 68.61735699 76.47688538 85.23029856 67.65846625]\n",
      "t-statistic: -2.40\n",
      "p-value: 0.0197\n"
     ]
    }
   ],
   "source": [
    "# Perform an independent t-test to compare the means of the group.\n",
    "t_statistic, p_value = stats.ttest_ind(old_method_score, new_method_score)\n",
    "\n",
    "# Print the result\n",
    "print(f\"new_method_score (first 5):{new_method_score[:5]}\")\n",
    "print(f\"old_method_score (first 5): {old_method_score[:5]}\")\n",
    "\n",
    "print(f\"t-statistic: {t_statistic:.2f}\")\n",
    "print(f\"p-value: {p_value:.4f}\")"
   ]
  },
  {
   "cell_type": "code",
   "execution_count": 20,
   "id": "1560da52-8899-40ca-9673-345a960957fb",
   "metadata": {},
   "outputs": [
    {
     "name": "stdout",
     "output_type": "stream",
     "text": [
      "The new teaching method is likely leads to higher test score compared to the old method\n"
     ]
    }
   ],
   "source": [
    "# Interpretation\n",
    "alpha = 0.05 #Significance level\n",
    "\n",
    "if p_value < alpha:\n",
    "    print(\"The new teaching method is likely leads to higher test score compared to the old method\")\n",
    "else:\n",
    "    print(\"There is no significant difference in test score between the new and old teaching methods\")\n"
   ]
  },
  {
   "cell_type": "markdown",
   "id": "65092e50-0815-47f6-8258-fa718c757efc",
   "metadata": {},
   "source": [
    "## __two-sample T-test__"
   ]
  },
  {
   "cell_type": "code",
   "execution_count": 21,
   "id": "78c717e1-000d-49fa-bafa-a393780651ec",
   "metadata": {},
   "outputs": [],
   "source": [
    "import numpy as np\n",
    "import scipy.stats as stats"
   ]
  },
  {
   "cell_type": "code",
   "execution_count": 22,
   "id": "5cb446da-4b20-4016-8960-8c8a0f653e4d",
   "metadata": {},
   "outputs": [],
   "source": [
    "# Data: Weight before and after the diet\n",
    "\n",
    "before = np.array([85,78,92,88,95,78,84,91,79,87])\n",
    "after = np.array([80,74,88,85,90,76,82,86,77,83])\n",
    "\n",
    "# H0: The diet program affected weight loss\n",
    "# H1: The diet program did not affect the weight loss"
   ]
  },
  {
   "cell_type": "code",
   "execution_count": 23,
   "id": "861962f1-f058-4c80-a93f-c582b7b16028",
   "metadata": {},
   "outputs": [],
   "source": [
    "# Calculate the difference\n",
    "difference = before-after\n",
    "\n",
    "# Calculate the mean and Std of difference\n",
    "mean_diff = np.mean(difference)\n",
    "std_diff = np.std(difference, ddof=1) #ddof=delta degree of freedom\n",
    "n = len(difference)\n",
    "\n",
    "# Calculate the t-statistics\n",
    "t_statistic = mean_diff/(std_diff / np.sqrt(n)) \n",
    "\n",
    "# Calculate the p-value(two tailed)\n",
    "p_value = 2 * (1- stats.t.cdf(np.abs(t_statistic),df = n-1 ))"
   ]
  },
  {
   "cell_type": "code",
   "execution_count": 24,
   "id": "baa83811-60e6-4d2e-a332-a04bb1df2bef",
   "metadata": {},
   "outputs": [
    {
     "name": "stdout",
     "output_type": "stream",
     "text": [
      "Mean difference: 3.60\n",
      "\n",
      "Standard Deviation of difference: 1.26\n",
      "\n",
      "t-statistic: 9.00\n",
      "\n",
      "p-value: 0.000009\n",
      "\n"
     ]
    }
   ],
   "source": [
    "print(f\"Mean difference: {mean_diff:.2f}\\n\")\n",
    "print(f\"Standard Deviation of difference: {std_diff:.2f}\\n\")\n",
    "print(f\"t-statistic: {t_statistic:.2f}\\n\")\n",
    "print(f\"p-value: {p_value:4f}\\n\")"
   ]
  },
  {
   "cell_type": "code",
   "execution_count": 25,
   "id": "cc3ca5d4-a1d2-4e3a-b9ef-2476662a1457",
   "metadata": {},
   "outputs": [
    {
     "name": "stdout",
     "output_type": "stream",
     "text": [
      "Reject the H0, the diet program affected weight loss\n"
     ]
    }
   ],
   "source": [
    "alpha = 0.05\n",
    "\n",
    "if p_value < alpha:\n",
    "    print(\"Reject the H0, the diet program affected weight loss\")\n",
    "else:\n",
    "    print(\"Fail to reject the H0, not enight evidence that diet program affected the weight loss\")"
   ]
  },
  {
   "cell_type": "raw",
   "id": "4977a388-882b-4ce0-9dc5-e4323cfff4b1",
   "metadata": {},
   "source": [
    "##  __What is p-value?__\n",
    "\n",
    "# P-value is a probability that measures the strength of evidence against the null hypothesis\n",
    "# It quantifies the liklihood of obtaining the observed data or something more extreme assuming the null hypothesis is true."
   ]
  },
  {
   "cell_type": "raw",
   "id": "0aae5447-a3d8-45d2-b7fe-79288b9cb9d3",
   "metadata": {},
   "source": [
    "H0: Average age of employee is > 30\n",
    "H1: Average age of employee is not > 30\n",
    "\n",
    "alpha = 0.05\n",
    "p-value = 0.001\n",
    "\n",
    "P low null go."
   ]
  },
  {
   "cell_type": "markdown",
   "id": "b4a2a31a-7c98-4679-a509-c19d7742a635",
   "metadata": {},
   "source": [
    "## __Chi Square Distribution__"
   ]
  },
  {
   "cell_type": "raw",
   "id": "3a3a3ea6-80e7-4a2b-ac17-59e4c084b46e",
   "metadata": {},
   "source": [
    "The chi-square distribution is like a tool that helps us find out if something we observe is happening by chance\n",
    "or if there's a real reason behind it.\n",
    "It's often used with categorical data, like counting how many times different things happen"
   ]
  },
  {
   "cell_type": "raw",
   "id": "7c126d66-033a-4fb8-b90a-f3129f85e574",
   "metadata": {},
   "source": [
    "Problem Statement:\n",
    "A company wants to determine customers prefer one product type over others among four categories:\n",
    "Electronics, chothing, Groceries and Books.\n",
    "The company conducted a survey where 200 customers chose their favourite product category."
   ]
  },
  {
   "cell_type": "raw",
   "id": "faf51ff3-2ab6-47b2-b3c7-b6477138a3c5",
   "metadata": {},
   "source": [
    "Hypothesis-\n",
    "\n",
    "H0: The customer does not prefer one product over the other and each category is equally popular.\n",
    "H1: The customer does prefer one product over the other"
   ]
  },
  {
   "cell_type": "code",
   "execution_count": 26,
   "id": "73bfbadb-2cc4-4bf3-863a-bbfccc12abe3",
   "metadata": {},
   "outputs": [],
   "source": [
    "import numpy as np\n",
    "from scipy.stats import chisquare\n",
    "\n",
    "# observed frequecy from the survey\n",
    "observed = np.array([50,60,40,50])\n",
    "\n",
    "# Expected frequency if each category is equally prefered\n",
    "expected = np.array([50,50,50,50])"
   ]
  },
  {
   "cell_type": "code",
   "execution_count": 27,
   "id": "afaf5baa-4c1b-4ef7-8816-59cf5a0701cc",
   "metadata": {},
   "outputs": [],
   "source": [
    "# Performing Chi-Square test\n",
    "chi2_statistic,p_value = chisquare(observed,expected)"
   ]
  },
  {
   "cell_type": "code",
   "execution_count": 28,
   "id": "a8515e6e-b779-4b5b-8489-12afee8eb274",
   "metadata": {},
   "outputs": [
    {
     "name": "stdout",
     "output_type": "stream",
     "text": [
      "Chi-Square statistic: 4.00\n",
      "P-value: 0.2615\n"
     ]
    }
   ],
   "source": [
    "# Print Result.\n",
    "print(f\"Chi-Square statistic: {chi2_statistic:.2f}\")\n",
    "print(f\"P-value: {p_value:.4f}\")"
   ]
  },
  {
   "cell_type": "raw",
   "id": "07cf1be1-8c9c-4605-8edd-55e6c3b65704",
   "metadata": {},
   "source": [
    "Chi statistic = sum of (square of (observed-expected))/expected obs"
   ]
  },
  {
   "cell_type": "code",
   "execution_count": 29,
   "id": "1bea0c6e-7d04-4c97-9ecf-a9cd4e9d54ec",
   "metadata": {},
   "outputs": [
    {
     "name": "stdout",
     "output_type": "stream",
     "text": [
      "Failed to Reject the H0: The customer does not prefer categories\n"
     ]
    }
   ],
   "source": [
    "alpha=0.05\n",
    "\n",
    "if p_value < alpha:\n",
    "    print(\"Reject the H0: Customer prefer categorical products\")\n",
    "else:\n",
    "    print(\"Failed to Reject the H0: The customer does not prefer categories\")    "
   ]
  },
  {
   "cell_type": "markdown",
   "id": "217e335c-47f9-4251-94a0-ce00a0297d00",
   "metadata": {},
   "source": [
    "## __Anova: Analysis of Variance__"
   ]
  },
  {
   "cell_type": "raw",
   "id": "4a975094-c2e9-4bc4-8521-cf49f31051c7",
   "metadata": {},
   "source": [
    "ANOVA is a statistical method to determine if there are significance difference between the means of three or more groups.\n",
    "It helps to answer the questions: \"Do different groups have different average outcomes?\""
   ]
  },
  {
   "cell_type": "raw",
   "id": "1bae56d1-6412-4d1a-a439-f88211fe9b25",
   "metadata": {},
   "source": [
    "Why do we use ANOVA?\n",
    "Compare groups: ANOVA is used when comparing more than two groups. If you only compare two groups a t-test might be used.\n",
    "Unserstand variability: It helps understand if the differences in data are duw to acctual group differences or just random variations."
   ]
  },
  {
   "cell_type": "markdown",
   "id": "cdf52805-618f-410b-b780-77b0df69da20",
   "metadata": {},
   "source": [
    "## One Way ANOVA"
   ]
  },
  {
   "cell_type": "raw",
   "id": "f9a9eb89-ad95-46f5-9688-4739a8427966",
   "metadata": {},
   "source": [
    "Lets say you want to find out if difference study methods lead to different average scores on a math test.\n",
    "\n",
    "You have 3 groyups of student, each using different way of studing.\n",
    "Group A: Reads the textbooks.\n",
    "Group B: Watches online video tutorials.\n",
    "Group C: Practices problem-solving exercies.\n",
    "\n",
    "Test Score: After the test, you record their scores.\n",
    "Group A: textbook= 75,80,85,90,95\n",
    "Group B: videos= 70,75,80,85,90\n",
    "Group C: exercise= 85,90,95,100,105\n",
    "\n",
    "Hypothesis:\n",
    "H0: There is no significance difference in average scores between the study methods (All group means are equal)\n",
    "H1: There is a significant difference in average score between at least tow study methods (At least one group mean is different)"
   ]
  },
  {
   "cell_type": "code",
   "execution_count": 30,
   "id": "b36e8205-eadb-4120-909c-c5b0367f199c",
   "metadata": {},
   "outputs": [
    {
     "name": "stderr",
     "output_type": "stream",
     "text": [
      "C:\\Users\\0litt\\AppData\\Local\\Temp\\ipykernel_7964\\2601519081.py:10: MatplotlibDeprecationWarning: The 'labels' parameter of boxplot() has been renamed 'tick_labels' since Matplotlib 3.9; support for the old name will be dropped in 3.11.\n",
      "  plt.boxplot([group_a,group_b,group_c], labels=['textbook','videos','exercises'])\n"
     ]
    },
    {
     "data": {
      "image/png": "[encoded data removed]",
      "text/plain": [
       "<Figure size 640x480 with 1 Axes>"
      ]
     },
     "metadata": {},
     "output_type": "display_data"
    }
   ],
   "source": [
    "import matplotlib.pyplot as plt\n",
    "\n",
    "# Data from the group\n",
    "\n",
    "group_a= 75,80,85,90,95\n",
    "group_b= 70,75,80,85,90\n",
    "group_c= 85,90,95,100,105\n",
    "\n",
    "# box plot\n",
    "plt.boxplot([group_a,group_b,group_c], labels=['textbook','videos','exercises'])\n",
    "plt.title('Test Score by study menthod')\n",
    "plt.ylabel('Scores')\n",
    "plt.show()"
   ]
  },
  {
   "cell_type": "code",
   "execution_count": 31,
   "id": "86b0b04f-5118-4792-9ed7-130a87944cf6",
   "metadata": {},
   "outputs": [
    {
     "name": "stdout",
     "output_type": "stream",
     "text": [
      "F-Statistic: 4.67\n",
      "p-value: 0.0317\n",
      "Reject the H0:  There is a significant difference in average score between at least two study methods\n"
     ]
    }
   ],
   "source": [
    "import numpy as np\n",
    "from scipy.stats import f_oneway\n",
    "\n",
    "# Scores of each group\n",
    "group_a= 75,80,85,90,95\n",
    "group_b= 70,75,80,85,90\n",
    "group_c= 85,90,95,100,105\n",
    "\n",
    "# Perform one-way ANOVA\n",
    "f_statistic, p_value = f_oneway(group_a,group_b,group_c)\n",
    "\n",
    "print(f\"F-Statistic: {f_statistic:.2f}\")\n",
    "print(f\"p-value: {p_value:.4f}\")\n",
    "\n",
    "# Decision Based on P-value\n",
    "alpha=0.05\n",
    "\n",
    "if p_value < alpha:\n",
    "    print(\"Reject the H0:  There is a significant difference in average score between at least two study methods\")\n",
    "else:\n",
    "    print(\"Failed to reject the H0: There is no significance difference in average scores between the study methods\")"
   ]
  },
  {
   "cell_type": "raw",
   "id": "611e8247-286b-4ea1-9f10-624948aadb33",
   "metadata": {},
   "source": [
    "# F-statistic: A higher value than (3.4) indicates more significance difference between group means."
   ]
  },
  {
   "cell_type": "raw",
   "id": "772d44d6-7f84-4a27-a228-8a97fa568a1f",
   "metadata": {},
   "source": [
    "Example 2: \n",
    "\n",
    "A high school science club wants to find out whcih type of fertilizer leads to the best plant growth\n",
    "they decide to test three different fertilizers: Fertilizer A, Fertilizer B, Fertilizer C\n",
    "\n",
    "The plant seeds in identical pots, use the same soil and wanter the plant equally but use different fertilizers."
   ]
  },
  {
   "cell_type": "raw",
   "id": "038e94fd-38bb-4d36-a9c9-8cd2433e34b3",
   "metadata": {},
   "source": [
    "H0: All fertilizer have same affect on the plant growth. ie. the average plant height is the same for all groups.\n",
    "H1: Atleast one fertilizer results in a different average plant height compared to the others"
   ]
  },
  {
   "cell_type": "code",
   "execution_count": 32,
   "id": "239406d7-8bee-4887-b3ed-df1bae679b19",
   "metadata": {},
   "outputs": [
    {
     "data": {
      "image/png": "[encoded data removed]",
      "text/plain": [
       "<Figure size 640x480 with 1 Axes>"
      ]
     },
     "metadata": {},
     "output_type": "display_data"
    }
   ],
   "source": [
    "import matplotlib.pyplot as plt\n",
    "\n",
    "# height of the plant for each fertilizer group\n",
    "ferlilizer_a = [15,17,16,14,18]\n",
    "ferlilizer_b = [20,22,19,21,23]\n",
    "ferlilizer_c = [25,27,26,24,28]\n",
    "\n",
    "# boxplot\n",
    "\n",
    "plt.boxplot([ferlilizer_a,ferlilizer_b,ferlilizer_c], tick_labels=['A','B','C'])\n",
    "plt.ylabel('Height')\n",
    "plt.title(\"Plant height by each fertilizer group\")\n",
    "plt.show()"
   ]
  },
  {
   "cell_type": "code",
   "execution_count": 33,
   "id": "adbcfecf-b8c5-4fc4-91b0-400fc715b74e",
   "metadata": {},
   "outputs": [
    {
     "name": "stdout",
     "output_type": "stream",
     "text": [
      " F-Statistics: 50.00\n",
      "P-Value: 0.0000\n",
      "Reject the H0:Atleast one fertilizer results in a different average plant height\n"
     ]
    }
   ],
   "source": [
    "import numpy as np\n",
    "from scipy.stats import f_oneway\n",
    "\n",
    "# Plant height for each fertilizer\n",
    "ferlilizer_a = [15,17,16,14,18]\n",
    "ferlilizer_b = [20,22,19,21,23]\n",
    "ferlilizer_c = [25,27,26,24,28]\n",
    "\n",
    "# Calulating Chi Square test\n",
    "f_statistic, p_value = f_oneway(ferlilizer_a,ferlilizer_b,ferlilizer_c)\n",
    "\n",
    "print(f\" F-Statistics: {f_statistic:.2f}\")\n",
    "print(f\"P-Value: {p_value:.4f}\")\n",
    "\n",
    "alpha=0.05 #95% Confidence Interval\n",
    "\n",
    "if p_value < alpha:\n",
    "    print(\"Reject the H0:Atleast one fertilizer results in a different average plant height\")\n",
    "else:\n",
    "    print(\"Failed to Reject the H0: Fertilizer does not have affect on the plant height\")"
   ]
  },
  {
   "cell_type": "code",
   "execution_count": 34,
   "id": "d9f0e77c-3092-4386-8d88-d3bd0c6df8fb",
   "metadata": {},
   "outputs": [
    {
     "ename": "SyntaxError",
     "evalue": "invalid syntax (871634310.py, line 1)",
     "output_type": "error",
     "traceback": [
      "\u001b[1;36m  Cell \u001b[1;32mIn[34], line 1\u001b[1;36m\u001b[0m\n\u001b[1;33m    Example 3:\u001b[0m\n\u001b[1;37m            ^\u001b[0m\n\u001b[1;31mSyntaxError\u001b[0m\u001b[1;31m:\u001b[0m invalid syntax\n"
     ]
    }
   ],
   "source": [
    "Example 3: \n",
    "An investor wants to determine which of the three different strategies yeilds the highest annual returns.\n",
    "The strategies are:\n",
    "Strategy A (Stocks)\n",
    "Strategy B (Bonds)\n",
    "Strategy C (Real Estate)"
   ]
  },
  {
   "cell_type": "raw",
   "id": "d59d5f1c-b3c6-4233-8b1a-64f833854a6c",
   "metadata": {},
   "source": [
    "H0: The average annual returns are the same for all the investment strategies\n",
    "H1: Atleast one strategy yeilds different average annual return"
   ]
  },
  {
   "cell_type": "code",
   "execution_count": null,
   "id": "285ab04c-fbd0-49cd-be74-80a2a3b6bd0d",
   "metadata": {},
   "outputs": [],
   "source": [
    "import numpy as np\n",
    "from scipy.stats import f_oneway\n",
    "\n",
    "# Annual percentage return of each investment strategies\n",
    "strategy_a = [8.2,9.1,10.5,11.3,7.8]\n",
    "strategy_b = [4.5,4.8,5.0,4.7,4.6]\n",
    "strategy_c = [12.3,13.0,11.8,14.2,12.8]\n",
    "\n",
    "import matplotlib.pyplot as plt\n",
    "\n",
    "# Plotting the returns based on Strategy\n",
    "plt.boxplot([strategy_a,strategy_b,strategy_c], tick_labels = ['Stocks','Bonds','Real Estate'])\n",
    "plt.title(\"Returns on Investment\")\n",
    "plt.ylabel(\"Annual Return\")\n",
    "plt.show()"
   ]
  },
  {
   "cell_type": "code",
   "execution_count": null,
   "id": "f657b820-0f41-4525-8484-1a51ad83dd54",
   "metadata": {},
   "outputs": [],
   "source": [
    "# /Calculating Chi Square test\n",
    "f_statistic, p_value = f_oneway(strategy_a, strategy_b, strategy_c)\n",
    "\n",
    "# Print Result\n",
    "print(f\" F-Statistics: {f_statistic:.2f}\")\n",
    "print(f\"P-Value: {p_value:.4f}\")\n",
    "\n",
    "alpha=0.05 #95% Confidence Interval\n",
    "\n",
    "# /Decision based on P-Value\n",
    "if p_value < alpha:\n",
    "    print(\"Reject the H0: There is difference in annual return using different strategies\")\n",
    "else:\n",
    "    print(\"Failed to Reject the H0: No difference in annual return in all 3 strategies\")"
   ]
  },
  {
   "cell_type": "markdown",
   "id": "802e1263-6cbe-4083-a5bc-cb633fa4045a",
   "metadata": {},
   "source": [
    "## Two Way ANOVA\n",
    "The two-way ANOVA is an extension of the one-way ANOVA that allows you to investigate the effect of two independent variables(factors)\n",
    "On the dependent variable, and also to see if there is any interaction between those tow independent variables.\n",
    "This is perticualarly useful when you want to see how differnt groups or conditions affect a response and if the combination of factors leads to different outcomes. "
   ]
  },
  {
   "cell_type": "raw",
   "id": "dfe782bf-36a6-42b6-b0fe-96d39dd51bb7",
   "metadata": {},
   "source": [
    "When we have 2 or more independent variable to test on dependent variable we will use TWO-WAY ANOVA"
   ]
  },
  {
   "cell_type": "raw",
   "id": "94bc4a42-eeb8-487f-8b4b-42e3070868da",
   "metadata": {},
   "source": [
    "Real Life Example: School performance based on study method and gender\n",
    "\n",
    "Problem statement\n",
    "A researcher wants to study the affect of different student methods and gender on students test scores. They want to know:\n",
    "\n",
    "Is there a difference in test scores based on study method\n",
    "Is there a difference in test scores based on gender\n",
    "Is there an interaction between study method and gender"
   ]
  },
  {
   "cell_type": "raw",
   "id": "3e8a8bd8-a53b-4c5f-9d5e-0ed9fa139ad5",
   "metadata": {},
   "source": [
    "Independent variables:\n",
    "Study method: (Reading, Videos, Pratical)\n",
    "Gender: (Male, Female)\n",
    "\n",
    "Independent variable:\n",
    "Test Score\n",
    "\n",
    "H0A: There is no significant effect of study method on the scores\n",
    "H0B: There is no significant effect of gender on the scores\n",
    "H0AB: There is no significant effect of study method and gender on the scores\n",
    "\n",
    "H1A: There is significant effect of study method on the scores\n",
    "H1B: There is significant effect of gender on the scores\n",
    "H1AB: There is significant effect of study method and gender on the scores"
   ]
  },
  {
   "cell_type": "code",
   "execution_count": 36,
   "id": "af0e321a-6c7d-4311-b7be-6e9d496e48af",
   "metadata": {},
   "outputs": [
    {
     "data": {
      "text/html": [
       "<div>\n",
       "<style scoped>\n",
       "    .dataframe tbody tr th:only-of-type {\n",
       "        vertical-align: middle;\n",
       "    }\n",
       "\n",
       "    .dataframe tbody tr th {\n",
       "        vertical-align: top;\n",
       "    }\n",
       "\n",
       "    .dataframe thead th {\n",
       "        text-align: right;\n",
       "    }\n",
       "</style>\n",
       "<table border=\"1\" class=\"dataframe\">\n",
       "  <thead>\n",
       "    <tr style=\"text-align: right;\">\n",
       "      <th></th>\n",
       "      <th>StudyMethod</th>\n",
       "      <th>Gender</th>\n",
       "      <th>TestScore</th>\n",
       "    </tr>\n",
       "  </thead>\n",
       "  <tbody>\n",
       "    <tr>\n",
       "      <th>0</th>\n",
       "      <td>Reading</td>\n",
       "      <td>Male</td>\n",
       "      <td>85</td>\n",
       "    </tr>\n",
       "    <tr>\n",
       "      <th>1</th>\n",
       "      <td>Reading</td>\n",
       "      <td>Male</td>\n",
       "      <td>78</td>\n",
       "    </tr>\n",
       "    <tr>\n",
       "      <th>2</th>\n",
       "      <td>Reading</td>\n",
       "      <td>Male</td>\n",
       "      <td>92</td>\n",
       "    </tr>\n",
       "    <tr>\n",
       "      <th>3</th>\n",
       "      <td>Reading</td>\n",
       "      <td>Female</td>\n",
       "      <td>88</td>\n",
       "    </tr>\n",
       "    <tr>\n",
       "      <th>4</th>\n",
       "      <td>Reading</td>\n",
       "      <td>Female</td>\n",
       "      <td>90</td>\n",
       "    </tr>\n",
       "    <tr>\n",
       "      <th>5</th>\n",
       "      <td>Reading</td>\n",
       "      <td>Female</td>\n",
       "      <td>86</td>\n",
       "    </tr>\n",
       "    <tr>\n",
       "      <th>6</th>\n",
       "      <td>Videos</td>\n",
       "      <td>Male</td>\n",
       "      <td>79</td>\n",
       "    </tr>\n",
       "    <tr>\n",
       "      <th>7</th>\n",
       "      <td>Videos</td>\n",
       "      <td>Male</td>\n",
       "      <td>85</td>\n",
       "    </tr>\n",
       "    <tr>\n",
       "      <th>8</th>\n",
       "      <td>Videos</td>\n",
       "      <td>Male</td>\n",
       "      <td>80</td>\n",
       "    </tr>\n",
       "    <tr>\n",
       "      <th>9</th>\n",
       "      <td>Videos</td>\n",
       "      <td>Female</td>\n",
       "      <td>83</td>\n",
       "    </tr>\n",
       "    <tr>\n",
       "      <th>10</th>\n",
       "      <td>Videos</td>\n",
       "      <td>Female</td>\n",
       "      <td>87</td>\n",
       "    </tr>\n",
       "    <tr>\n",
       "      <th>11</th>\n",
       "      <td>Videos</td>\n",
       "      <td>Female</td>\n",
       "      <td>82</td>\n",
       "    </tr>\n",
       "    <tr>\n",
       "      <th>12</th>\n",
       "      <td>Practice</td>\n",
       "      <td>Male</td>\n",
       "      <td>90</td>\n",
       "    </tr>\n",
       "    <tr>\n",
       "      <th>13</th>\n",
       "      <td>Practice</td>\n",
       "      <td>Male</td>\n",
       "      <td>94</td>\n",
       "    </tr>\n",
       "    <tr>\n",
       "      <th>14</th>\n",
       "      <td>Practice</td>\n",
       "      <td>Male</td>\n",
       "      <td>89</td>\n",
       "    </tr>\n",
       "    <tr>\n",
       "      <th>15</th>\n",
       "      <td>Practice</td>\n",
       "      <td>Female</td>\n",
       "      <td>92</td>\n",
       "    </tr>\n",
       "    <tr>\n",
       "      <th>16</th>\n",
       "      <td>Practice</td>\n",
       "      <td>Female</td>\n",
       "      <td>95</td>\n",
       "    </tr>\n",
       "    <tr>\n",
       "      <th>17</th>\n",
       "      <td>Practice</td>\n",
       "      <td>Female</td>\n",
       "      <td>91</td>\n",
       "    </tr>\n",
       "  </tbody>\n",
       "</table>\n",
       "</div>"
      ],
      "text/plain": [
       "   StudyMethod  Gender  TestScore\n",
       "0      Reading    Male         85\n",
       "1      Reading    Male         78\n",
       "2      Reading    Male         92\n",
       "3      Reading  Female         88\n",
       "4      Reading  Female         90\n",
       "5      Reading  Female         86\n",
       "6       Videos    Male         79\n",
       "7       Videos    Male         85\n",
       "8       Videos    Male         80\n",
       "9       Videos  Female         83\n",
       "10      Videos  Female         87\n",
       "11      Videos  Female         82\n",
       "12    Practice    Male         90\n",
       "13    Practice    Male         94\n",
       "14    Practice    Male         89\n",
       "15    Practice  Female         92\n",
       "16    Practice  Female         95\n",
       "17    Practice  Female         91"
      ]
     },
     "execution_count": 36,
     "metadata": {},
     "output_type": "execute_result"
    }
   ],
   "source": [
    "import pandas as pd\n",
    "import statsmodels.api as sm\n",
    "from statsmodels.formula.api import ols\n",
    "\n",
    "# Create a DataFrame with the data\n",
    "\n",
    "data = {\n",
    "    'StudyMethod': ['Reading','Reading','Reading','Reading','Reading','Reading',\n",
    "                   'Videos','Videos','Videos','Videos','Videos','Videos',\n",
    "                   'Practice','Practice','Practice','Practice','Practice','Practice',],\n",
    "    'Gender': ['Male','Male','Male','Female','Female','Female',\n",
    "               'Male','Male','Male','Female','Female','Female',\n",
    "               'Male','Male','Male','Female','Female','Female'],\n",
    "    'TestScore': [85,78,92,88,90,86,\n",
    "                 79,85,80,83,87,82,\n",
    "                 90,94,89,92,95,91]\n",
    "}\n",
    "\n",
    "df = pd.DataFrame(data)\n",
    "df"
   ]
  },
  {
   "cell_type": "code",
   "execution_count": 37,
   "id": "6c0c0201-a97c-4d94-94c6-d22c21fdf1c3",
   "metadata": {},
   "outputs": [
    {
     "name": "stdout",
     "output_type": "stream",
     "text": [
      "                              sum_sq    df         F    PR(>F)\n",
      "C(StudyMethod)            254.333333   2.0  9.342857  0.003577\n",
      "C(Gender)                  26.888889   1.0  1.975510  0.185223\n",
      "C(StudyMethod):C(Gender)    1.444444   2.0  0.053061  0.948543\n",
      "Residual                  163.333333  12.0       NaN       NaN\n"
     ]
    }
   ],
   "source": [
    "# Fit the two-way ANOVA model\n",
    "# ols = oridinary least square method\n",
    "model = ols('TestScore ~ C(StudyMethod)+C(Gender) + C(StudyMethod):C(Gender)', data = df).fit()\n",
    "anova_table =sm.stats.anova_lm(model, typ=2)\n",
    "\n",
    "print(anova_table)"
   ]
  },
  {
   "cell_type": "raw",
   "id": "e7c07c0b-faaf-4523-8a97-c332ccd3ed19",
   "metadata": {},
   "source": [
    "# Explanation of the output\n",
    "\n",
    "C(StudyMethod): The p-value (0.003577) is less than 0.05, indicating a significant effect to student methods on test score\n",
    "\n",
    "C(Gender): The p-value 0.185223 is greater than 0.05, indicating no significant effect of gender on test score\n",
    "\n",
    "C(StudyMethod):C(Gender):- The p-value 0.948543 is greater then 0.05, indicating no significant interaction effect between study methods and gender"
   ]
  },
  {
   "cell_type": "raw",
   "id": "53b713aa-19d8-4548-b5e2-1d7b1930f0bc",
   "metadata": {},
   "source": [
    "# Interpretation\n",
    "\n",
    "StudyMethod: There is a significant difference in test score based on study method used.\n",
    "Gender: There is no significant difference in test scores based on gender\n",
    "Interaction: There is no significant interaction between study method and gender, meaning the effect of the study method is consistent across genders"
   ]
  },
  {
   "cell_type": "code",
   "execution_count": 41,
   "id": "974a855a-9df0-4005-82a4-1edd404dc2e1",
   "metadata": {},
   "outputs": [
    {
     "data": {
      "image/png": "[encoded data removed]",
      "text/plain": [
       "<Figure size 640x480 with 1 Axes>"
      ]
     },
     "metadata": {},
     "output_type": "display_data"
    }
   ],
   "source": [
    "import seaborn as sns\n",
    "import matplotlib.pyplot as plt\n",
    "\n",
    "# Creating a box plot to show the distribution of scores by study method and gender\n",
    "\n",
    "sns.boxplot(x='StudyMethod', y='TestScore',hue= 'Gender', data=df)\n",
    "plt.title('Test Score based on StudyMethod and Gender')\n",
    "plt.ylabel('Test Score')\n",
    "plt.show()"
   ]
  },
  {
   "cell_type": "code",
   "execution_count": null,
   "id": "a919e8d3-333f-4355-9fda-74c1e3cc27ab",
   "metadata": {},
   "outputs": [],
   "source": []
  },
  {
   "cell_type": "code",
   "execution_count": 43,
   "id": "8ecf7b91-b978-4f1c-a587-c492a095cbab",
   "metadata": {},
   "outputs": [
    {
     "data": {
      "text/html": [
       "<div>\n",
       "<style scoped>\n",
       "    .dataframe tbody tr th:only-of-type {\n",
       "        vertical-align: middle;\n",
       "    }\n",
       "\n",
       "    .dataframe tbody tr th {\n",
       "        vertical-align: top;\n",
       "    }\n",
       "\n",
       "    .dataframe thead th {\n",
       "        text-align: right;\n",
       "    }\n",
       "</style>\n",
       "<table border=\"1\" class=\"dataframe\">\n",
       "  <thead>\n",
       "    <tr style=\"text-align: right;\">\n",
       "      <th></th>\n",
       "      <th>production_method</th>\n",
       "      <th>packaging_type</th>\n",
       "      <th>quality_score</th>\n",
       "    </tr>\n",
       "  </thead>\n",
       "  <tbody>\n",
       "    <tr>\n",
       "      <th>0</th>\n",
       "      <td>manual</td>\n",
       "      <td>standart</td>\n",
       "      <td>75</td>\n",
       "    </tr>\n",
       "    <tr>\n",
       "      <th>1</th>\n",
       "      <td>manual</td>\n",
       "      <td>premium</td>\n",
       "      <td>80</td>\n",
       "    </tr>\n",
       "    <tr>\n",
       "      <th>2</th>\n",
       "      <td>automated</td>\n",
       "      <td>standart</td>\n",
       "      <td>85</td>\n",
       "    </tr>\n",
       "    <tr>\n",
       "      <th>3</th>\n",
       "      <td>automated</td>\n",
       "      <td>premium</td>\n",
       "      <td>90</td>\n",
       "    </tr>\n",
       "  </tbody>\n",
       "</table>\n",
       "</div>"
      ],
      "text/plain": [
       "  production_method packaging_type  quality_score\n",
       "0            manual       standart             75\n",
       "1            manual        premium             80\n",
       "2         automated       standart             85\n",
       "3         automated        premium             90"
      ]
     },
     "execution_count": 43,
     "metadata": {},
     "output_type": "execute_result"
    }
   ],
   "source": [
    "import pandas as pd\n",
    "import statsmodels.formula.api as ols\n",
    "import statsmodels.api as sm\n",
    "import matplotlib.pyplot as plt\n",
    "import seaborn as sns\n",
    "\n",
    "# Create DataFrame with the data\n",
    "data = {\n",
    "    'production_method': ['manual','manual', 'automated','automated'],\n",
    "    'packaging_type': ['standart','premium','standart','premium'],\n",
    "    'quality_score': [75,80,85,90]\n",
    "}\n",
    "\n",
    "df = pd.DataFrame(data)\n",
    "df"
   ]
  },
  {
   "cell_type": "code",
   "execution_count": 48,
   "id": "ff8992da-b094-4d5c-8df5-bbf2e69bdb28",
   "metadata": {},
   "outputs": [
    {
     "ename": "TypeError",
     "evalue": "'module' object is not callable",
     "output_type": "error",
     "traceback": [
      "\u001b[1;31m---------------------------------------------------------------------------\u001b[0m",
      "\u001b[1;31mTypeError\u001b[0m                                 Traceback (most recent call last)",
      "Cell \u001b[1;32mIn[48], line 2\u001b[0m\n\u001b[0;32m      1\u001b[0m \u001b[38;5;66;03m# Fit the two-way ANOVA model with interaction\u001b[39;00m\n\u001b[1;32m----> 2\u001b[0m model \u001b[38;5;241m=\u001b[39m \u001b[43mols\u001b[49m\u001b[43m(\u001b[49m\u001b[38;5;124;43m'\u001b[39;49m\u001b[38;5;124;43mquality_score ~ C(production_method) * C(packaging_type)\u001b[39;49m\u001b[38;5;124;43m'\u001b[39;49m\u001b[43m,\u001b[49m\u001b[43m \u001b[49m\u001b[43mdata\u001b[49m\u001b[43m \u001b[49m\u001b[38;5;241;43m=\u001b[39;49m\u001b[43m \u001b[49m\u001b[43mdf\u001b[49m\u001b[43m)\u001b[49m\u001b[38;5;241m.\u001b[39mfit()\n\u001b[0;32m      4\u001b[0m anova_table \u001b[38;5;241m=\u001b[39m sm\u001b[38;5;241m.\u001b[39mstats\u001b[38;5;241m.\u001b[39manova_lm(model, typ\u001b[38;5;241m=\u001b[39m\u001b[38;5;241m2\u001b[39m)\n",
      "\u001b[1;31mTypeError\u001b[0m: 'module' object is not callable"
     ]
    }
   ],
   "source": [
    "# Fit the two-way ANOVA model with interaction\n",
    "model = ols('quality_score ~ C(production_method) * C(packaging_type)', data = df).fit()\n",
    "\n",
    "anova_table = sm.stats.anova_lm(model, typ=2)"
   ]
  },
  {
   "cell_type": "markdown",
   "id": "0d3e7c8b-3876-44ac-aaea-bd06b515b9fa",
   "metadata": {},
   "source": [
    "## __F Distribution with F Test__"
   ]
  },
  {
   "cell_type": "raw",
   "id": "c6d9ca4b-6531-42b3-bb02-09eb0c470617",
   "metadata": {},
   "source": [
    "The F distribution is a special type of probability distributiion that arises in statistics\n",
    "It's used when we want to compare the variability(or spread) of two different sets of the data"
   ]
  },
  {
   "cell_type": "raw",
   "id": "c1a2e915-1a92-4a01-b775-12dbbfe0f86b",
   "metadata": {},
   "source": [
    "Imagine you have 2 friends, you are comparing how consistently they score in baseketball games\n",
    "\n",
    "The F distribution helps us understand whether the differences in their score are significant or just due to random chance."
   ]
  },
  {
   "cell_type": "raw",
   "id": "d7177b69-5504-4c55-a910-a2e461213245",
   "metadata": {},
   "source": [
    "How the f-test works:\n",
    "\n",
    "Calculate the variance: For each group, calculate how spread out the data is(variance)\n",
    "Compute the F-Ratio: Divide the larger variance by the smaller variance to get the F-ratio\n",
    "Compare the F-Distribution: Use the F-Distribution to determine if the F-ratio is significant"
   ]
  },
  {
   "cell_type": "code",
   "execution_count": 49,
   "id": "78bba122-2fd9-43ab-83d5-aed6f0e1a6f8",
   "metadata": {},
   "outputs": [
    {
     "name": "stdout",
     "output_type": "stream",
     "text": [
      " Variance team A: 62.50\n",
      " Variance team B: 62.50\n",
      " F Ratio: 1.00\n",
      " Critical F value 6.39\n"
     ]
    }
   ],
   "source": [
    "import numpy as np\n",
    "from scipy.stats import f\n",
    "\n",
    "# H0: There is no significance difference in variability between the teams.\n",
    "# H1: There is significance difference in variability between the teams.    \n",
    "\n",
    "# scores of basketball teams\n",
    "team_a_scores = [80,85,90,95,100]\n",
    "team_b_scores = [75,80,85,90,95]\n",
    "\n",
    "# Calculate variances\n",
    "variance_a = np.var(team_a_scores, ddof=1)\n",
    "variance_b = np.var(team_b_scores, ddof=1)\n",
    "\n",
    "# Calculate the F-ratio\n",
    "f_ratio = variance_a / variance_b\n",
    "\n",
    "# Degree of freedom\n",
    "df1 = len(team_a_scores) - 1\n",
    "df2 = len(team_b_scores) - 1\n",
    "\n",
    "# Critical F-value for significance level 0.05\n",
    "alpha = 0.05\n",
    "f_critical = f.ppf(1-alpha, df1, df2)\n",
    "\n",
    "# Print Results\n",
    "print(f\" Variance team A: {variance_a:.2f}\")\n",
    "print(f\" Variance team B: {variance_b:.2f}\")\n",
    "print(f\" F Ratio: {f_ratio:.2f}\")\n",
    "print(f\" Critical F value {f_critical:.2f}\")"
   ]
  },
  {
   "cell_type": "code",
   "execution_count": 50,
   "id": "f41bbd56-3793-4f2c-b2f2-645ef8282324",
   "metadata": {},
   "outputs": [
    {
     "name": "stdout",
     "output_type": "stream",
     "text": [
      "We failed to reject the null hypothesis: There is no significance difference in variability between the team\n"
     ]
    }
   ],
   "source": [
    "# Decision\n",
    "\n",
    "if f_ratio > f_critical:\n",
    "    print(\"Reject the null hypothesis: There is significance difference in variability between the team\")\n",
    "else:\n",
    "    print(\"We failed to reject the null hypothesis: There is no significance difference in variability between the team\")    "
   ]
  },
  {
   "cell_type": "raw",
   "id": "76198674-2e67-40ae-b267-bb6ee31b00d2",
   "metadata": {},
   "source": [
    "Interpretation:\n",
    "F-Ratio: The Calculated F-Ratio (1.00) is less than the Critical F Value (5.99)\n",
    "Decision: Since the F ration is not greater than the critical F value we fail to reject the null hypothesis,\n",
    "indicating no significant difference in variability between the two teams scores."
   ]
  },
  {
   "cell_type": "code",
   "execution_count": 52,
   "id": "58ac989c-d59e-44f9-8d81-63beb790b7ee",
   "metadata": {},
   "outputs": [
    {
     "data": {
      "image/png": "[encoded data removed]",
      "text/plain": [
       "<Figure size 640x480 with 1 Axes>"
      ]
     },
     "metadata": {},
     "output_type": "display_data"
    }
   ],
   "source": [
    "# Degree of Freedom of two groups\n",
    "df1,df2 = 4,4\n",
    "\n",
    "# Create a range of F-Values\n",
    "x = np.linspace(0,5,1000)\n",
    "\n",
    "# F Distribution\n",
    "y= f.pdf(x,df1,df2)\n",
    "\n",
    "# Plot the F distribution\n",
    "plt.plot(x,y, label=f'F Dist (df1={df1},df2={df2})')\n",
    "plt.axvline(x=f_critical, color='r', linestyle='--',label=f'critical f value = {f_critical:.2f}')\n",
    "plt.title('F Distribution')\n",
    "plt.xlabel('F value')\n",
    "plt.ylabel('probability Density')\n",
    "plt.legend()\n",
    "plt.show()"
   ]
  },
  {
   "cell_type": "raw",
   "id": "a318cfd7-2f2d-4bbd-87e1-9aef12756264",
   "metadata": {},
   "source": [
    "Key points:\n",
    "\n",
    "F Distribution: Used to compare variance between two datasets, it's right skewed and only takes positive values\n",
    "\n",
    "F Test: A statistical test to determine if there is a sgnificant difference in varibility between groups\n",
    " \n",
    "Real Life Application: Comparing the performance consistency of basketball teams to understand if one team is more variable in their scores than the other.\n",
    "\n",
    "Why use F Distribution and F Test?\n",
    "Understand variability: Helps in understading if differences in data variability are significant.\n",
    "Compare multiple Groups: Essential for comparing more than two groups in ANOVA"
   ]
  },
  {
   "cell_type": "code",
   "execution_count": null,
   "id": "565e46e2-7133-454f-8d91-a669b8210b92",
   "metadata": {},
   "outputs": [],
   "source": []
  },
  {
   "cell_type": "code",
   "execution_count": null,
   "id": "ed814c3f-e08a-4e6f-afc7-ec36c89c11c6",
   "metadata": {},
   "outputs": [],
   "source": []
  },
  {
   "cell_type": "code",
   "execution_count": null,
   "id": "72d89d78-9928-4fbc-bb58-3d37828eecde",
   "metadata": {},
   "outputs": [],
   "source": []
  },
  {
   "cell_type": "code",
   "execution_count": null,
   "id": "8d7cf483-af6f-4e5a-89a2-aca0d4ec2c1f",
   "metadata": {},
   "outputs": [],
   "source": []
  },
  {
   "cell_type": "code",
   "execution_count": null,
   "id": "8e9bc63d-22be-4e84-a5fd-295d3dc6f93b",
   "metadata": {},
   "outputs": [],
   "source": []
  },
  {
   "cell_type": "code",
   "execution_count": null,
   "id": "7ac321d9-93ca-4c2e-af9d-c1d909d5c00a",
   "metadata": {},
   "outputs": [],
   "source": []
  },
  {
   "cell_type": "code",
   "execution_count": null,
   "id": "3e4638ea-9af2-4a47-ab84-48eb4d50584d",
   "metadata": {},
   "outputs": [],
   "source": []
  },
  {
   "cell_type": "code",
   "execution_count": null,
   "id": "86b5e575-7ff0-4602-b46f-231fb03e874d",
   "metadata": {},
   "outputs": [],
   "source": []
  },
  {
   "cell_type": "code",
   "execution_count": null,
   "id": "e215917b-db74-4a54-bed7-a1444c7bde9a",
   "metadata": {},
   "outputs": [],
   "source": []
  },
  {
   "cell_type": "code",
   "execution_count": null,
   "id": "9c65f700-663b-4218-8619-f81ec8d83c1d",
   "metadata": {},
   "outputs": [],
   "source": []
  }
 ],
 "metadata": {
  "kernelspec": {
   "display_name": "Python 3 (ipykernel)",
   "language": "python",
   "name": "python3"
  },
  "language_info": {
   "codemirror_mode": {
    "name": "ipython",
    "version": 3
   },
   "file_extension": ".py",
   "mimetype": "text/x-python",
   "name": "python",
   "nbconvert_exporter": "python",
   "pygments_lexer": "ipython3",
   "version": "3.12.4"
  }
 },
 "nbformat": 4,
 "nbformat_minor": 5
}
