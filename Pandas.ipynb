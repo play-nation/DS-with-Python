{
 "cells": [
  {
   "cell_type": "code",
   "execution_count": 1,
   "id": "025609ed-6b37-4f16-bd9b-97d49a50b006",
   "metadata": {},
   "outputs": [],
   "source": [
    "# Importing Pandas.\n",
    "\n",
    "import pandas as pd\n",
    "import numpy as np"
   ]
  },
  {
   "cell_type": "code",
   "execution_count": 2,
   "id": "bfe3c3e4-27a6-4546-aea9-9a373eaa1c3d",
   "metadata": {},
   "outputs": [
    {
     "data": {
      "text/html": [
       "<div>\n",
       "<style scoped>\n",
       "    .dataframe tbody tr th:only-of-type {\n",
       "        vertical-align: middle;\n",
       "    }\n",
       "\n",
       "    .dataframe tbody tr th {\n",
       "        vertical-align: top;\n",
       "    }\n",
       "\n",
       "    .dataframe thead th {\n",
       "        text-align: right;\n",
       "    }\n",
       "</style>\n",
       "<table border=\"1\" class=\"dataframe\">\n",
       "  <thead>\n",
       "    <tr style=\"text-align: right;\">\n",
       "      <th></th>\n",
       "      <th>Unnamed: 0</th>\n",
       "      <th>MSSubClass</th>\n",
       "      <th>MSZoning</th>\n",
       "      <th>LotFrontage</th>\n",
       "      <th>LotArea</th>\n",
       "      <th>Street</th>\n",
       "      <th>Alley</th>\n",
       "      <th>LotShape</th>\n",
       "      <th>LandContour</th>\n",
       "      <th>Utilities</th>\n",
       "      <th>...</th>\n",
       "      <th>PoolArea</th>\n",
       "      <th>PoolQC</th>\n",
       "      <th>Fence</th>\n",
       "      <th>MiscFeature</th>\n",
       "      <th>MiscVal</th>\n",
       "      <th>MoSold</th>\n",
       "      <th>YrSold</th>\n",
       "      <th>SaleType</th>\n",
       "      <th>SaleCondition</th>\n",
       "      <th>SalePrice</th>\n",
       "    </tr>\n",
       "  </thead>\n",
       "  <tbody>\n",
       "    <tr>\n",
       "      <th>0</th>\n",
       "      <td>0</td>\n",
       "      <td>SC60</td>\n",
       "      <td>RL</td>\n",
       "      <td>65.0</td>\n",
       "      <td>8450</td>\n",
       "      <td>Pave</td>\n",
       "      <td>NaN</td>\n",
       "      <td>Reg</td>\n",
       "      <td>Lvl</td>\n",
       "      <td>AllPub</td>\n",
       "      <td>...</td>\n",
       "      <td>0</td>\n",
       "      <td>No</td>\n",
       "      <td>No</td>\n",
       "      <td>No</td>\n",
       "      <td>0</td>\n",
       "      <td>Feb</td>\n",
       "      <td>2008</td>\n",
       "      <td>WD</td>\n",
       "      <td>Normal</td>\n",
       "      <td>208500</td>\n",
       "    </tr>\n",
       "    <tr>\n",
       "      <th>1</th>\n",
       "      <td>1</td>\n",
       "      <td>SC20</td>\n",
       "      <td>RL</td>\n",
       "      <td>80.0</td>\n",
       "      <td>9600</td>\n",
       "      <td>Pave</td>\n",
       "      <td>NaN</td>\n",
       "      <td>Reg</td>\n",
       "      <td>Lvl</td>\n",
       "      <td>AllPub</td>\n",
       "      <td>...</td>\n",
       "      <td>0</td>\n",
       "      <td>No</td>\n",
       "      <td>No</td>\n",
       "      <td>No</td>\n",
       "      <td>0</td>\n",
       "      <td>May</td>\n",
       "      <td>2007</td>\n",
       "      <td>WD</td>\n",
       "      <td>Normal</td>\n",
       "      <td>181500</td>\n",
       "    </tr>\n",
       "    <tr>\n",
       "      <th>2</th>\n",
       "      <td>2</td>\n",
       "      <td>SC60</td>\n",
       "      <td>RL</td>\n",
       "      <td>68.0</td>\n",
       "      <td>11250</td>\n",
       "      <td>Pave</td>\n",
       "      <td>NaN</td>\n",
       "      <td>IR1</td>\n",
       "      <td>Lvl</td>\n",
       "      <td>AllPub</td>\n",
       "      <td>...</td>\n",
       "      <td>0</td>\n",
       "      <td>No</td>\n",
       "      <td>No</td>\n",
       "      <td>No</td>\n",
       "      <td>0</td>\n",
       "      <td>Sep</td>\n",
       "      <td>2008</td>\n",
       "      <td>WD</td>\n",
       "      <td>Normal</td>\n",
       "      <td>223500</td>\n",
       "    </tr>\n",
       "    <tr>\n",
       "      <th>3</th>\n",
       "      <td>3</td>\n",
       "      <td>SC70</td>\n",
       "      <td>RL</td>\n",
       "      <td>60.0</td>\n",
       "      <td>9550</td>\n",
       "      <td>Pave</td>\n",
       "      <td>NaN</td>\n",
       "      <td>IR1</td>\n",
       "      <td>Lvl</td>\n",
       "      <td>AllPub</td>\n",
       "      <td>...</td>\n",
       "      <td>0</td>\n",
       "      <td>No</td>\n",
       "      <td>No</td>\n",
       "      <td>No</td>\n",
       "      <td>0</td>\n",
       "      <td>Feb</td>\n",
       "      <td>2006</td>\n",
       "      <td>WD</td>\n",
       "      <td>Abnorml</td>\n",
       "      <td>140000</td>\n",
       "    </tr>\n",
       "    <tr>\n",
       "      <th>4</th>\n",
       "      <td>4</td>\n",
       "      <td>SC60</td>\n",
       "      <td>RL</td>\n",
       "      <td>84.0</td>\n",
       "      <td>14260</td>\n",
       "      <td>Pave</td>\n",
       "      <td>NaN</td>\n",
       "      <td>IR1</td>\n",
       "      <td>Lvl</td>\n",
       "      <td>AllPub</td>\n",
       "      <td>...</td>\n",
       "      <td>0</td>\n",
       "      <td>No</td>\n",
       "      <td>No</td>\n",
       "      <td>No</td>\n",
       "      <td>0</td>\n",
       "      <td>Dec</td>\n",
       "      <td>2008</td>\n",
       "      <td>WD</td>\n",
       "      <td>Normal</td>\n",
       "      <td>250000</td>\n",
       "    </tr>\n",
       "    <tr>\n",
       "      <th>...</th>\n",
       "      <td>...</td>\n",
       "      <td>...</td>\n",
       "      <td>...</td>\n",
       "      <td>...</td>\n",
       "      <td>...</td>\n",
       "      <td>...</td>\n",
       "      <td>...</td>\n",
       "      <td>...</td>\n",
       "      <td>...</td>\n",
       "      <td>...</td>\n",
       "      <td>...</td>\n",
       "      <td>...</td>\n",
       "      <td>...</td>\n",
       "      <td>...</td>\n",
       "      <td>...</td>\n",
       "      <td>...</td>\n",
       "      <td>...</td>\n",
       "      <td>...</td>\n",
       "      <td>...</td>\n",
       "      <td>...</td>\n",
       "      <td>...</td>\n",
       "    </tr>\n",
       "    <tr>\n",
       "      <th>1455</th>\n",
       "      <td>1455</td>\n",
       "      <td>SC60</td>\n",
       "      <td>RL</td>\n",
       "      <td>62.0</td>\n",
       "      <td>7917</td>\n",
       "      <td>Pave</td>\n",
       "      <td>NaN</td>\n",
       "      <td>Reg</td>\n",
       "      <td>Lvl</td>\n",
       "      <td>AllPub</td>\n",
       "      <td>...</td>\n",
       "      <td>0</td>\n",
       "      <td>No</td>\n",
       "      <td>No</td>\n",
       "      <td>No</td>\n",
       "      <td>0</td>\n",
       "      <td>Aug</td>\n",
       "      <td>2007</td>\n",
       "      <td>WD</td>\n",
       "      <td>Normal</td>\n",
       "      <td>175000</td>\n",
       "    </tr>\n",
       "    <tr>\n",
       "      <th>1456</th>\n",
       "      <td>1456</td>\n",
       "      <td>SC20</td>\n",
       "      <td>RL</td>\n",
       "      <td>85.0</td>\n",
       "      <td>13175</td>\n",
       "      <td>Pave</td>\n",
       "      <td>NaN</td>\n",
       "      <td>Reg</td>\n",
       "      <td>Lvl</td>\n",
       "      <td>AllPub</td>\n",
       "      <td>...</td>\n",
       "      <td>0</td>\n",
       "      <td>No</td>\n",
       "      <td>MnPrv</td>\n",
       "      <td>No</td>\n",
       "      <td>0</td>\n",
       "      <td>Feb</td>\n",
       "      <td>2010</td>\n",
       "      <td>WD</td>\n",
       "      <td>Normal</td>\n",
       "      <td>210000</td>\n",
       "    </tr>\n",
       "    <tr>\n",
       "      <th>1457</th>\n",
       "      <td>1457</td>\n",
       "      <td>SC70</td>\n",
       "      <td>RL</td>\n",
       "      <td>66.0</td>\n",
       "      <td>9042</td>\n",
       "      <td>Pave</td>\n",
       "      <td>NaN</td>\n",
       "      <td>Reg</td>\n",
       "      <td>Lvl</td>\n",
       "      <td>AllPub</td>\n",
       "      <td>...</td>\n",
       "      <td>0</td>\n",
       "      <td>No</td>\n",
       "      <td>GdPrv</td>\n",
       "      <td>Shed</td>\n",
       "      <td>2500</td>\n",
       "      <td>May</td>\n",
       "      <td>2010</td>\n",
       "      <td>WD</td>\n",
       "      <td>Normal</td>\n",
       "      <td>266500</td>\n",
       "    </tr>\n",
       "    <tr>\n",
       "      <th>1458</th>\n",
       "      <td>1458</td>\n",
       "      <td>SC20</td>\n",
       "      <td>RL</td>\n",
       "      <td>68.0</td>\n",
       "      <td>9717</td>\n",
       "      <td>Pave</td>\n",
       "      <td>NaN</td>\n",
       "      <td>Reg</td>\n",
       "      <td>Lvl</td>\n",
       "      <td>AllPub</td>\n",
       "      <td>...</td>\n",
       "      <td>0</td>\n",
       "      <td>No</td>\n",
       "      <td>No</td>\n",
       "      <td>No</td>\n",
       "      <td>0</td>\n",
       "      <td>Apr</td>\n",
       "      <td>2010</td>\n",
       "      <td>WD</td>\n",
       "      <td>Normal</td>\n",
       "      <td>142125</td>\n",
       "    </tr>\n",
       "    <tr>\n",
       "      <th>1459</th>\n",
       "      <td>1459</td>\n",
       "      <td>SC20</td>\n",
       "      <td>RL</td>\n",
       "      <td>75.0</td>\n",
       "      <td>9937</td>\n",
       "      <td>Pave</td>\n",
       "      <td>NaN</td>\n",
       "      <td>Reg</td>\n",
       "      <td>Lvl</td>\n",
       "      <td>AllPub</td>\n",
       "      <td>...</td>\n",
       "      <td>0</td>\n",
       "      <td>No</td>\n",
       "      <td>No</td>\n",
       "      <td>No</td>\n",
       "      <td>0</td>\n",
       "      <td>Jun</td>\n",
       "      <td>2008</td>\n",
       "      <td>WD</td>\n",
       "      <td>Normal</td>\n",
       "      <td>147500</td>\n",
       "    </tr>\n",
       "  </tbody>\n",
       "</table>\n",
       "<p>1460 rows × 81 columns</p>\n",
       "</div>"
      ],
      "text/plain": [
       "      Unnamed: 0 MSSubClass MSZoning  LotFrontage  LotArea Street Alley  \\\n",
       "0              0       SC60       RL         65.0     8450   Pave   NaN   \n",
       "1              1       SC20       RL         80.0     9600   Pave   NaN   \n",
       "2              2       SC60       RL         68.0    11250   Pave   NaN   \n",
       "3              3       SC70       RL         60.0     9550   Pave   NaN   \n",
       "4              4       SC60       RL         84.0    14260   Pave   NaN   \n",
       "...          ...        ...      ...          ...      ...    ...   ...   \n",
       "1455        1455       SC60       RL         62.0     7917   Pave   NaN   \n",
       "1456        1456       SC20       RL         85.0    13175   Pave   NaN   \n",
       "1457        1457       SC70       RL         66.0     9042   Pave   NaN   \n",
       "1458        1458       SC20       RL         68.0     9717   Pave   NaN   \n",
       "1459        1459       SC20       RL         75.0     9937   Pave   NaN   \n",
       "\n",
       "     LotShape LandContour Utilities  ... PoolArea PoolQC  Fence MiscFeature  \\\n",
       "0         Reg         Lvl    AllPub  ...        0     No     No          No   \n",
       "1         Reg         Lvl    AllPub  ...        0     No     No          No   \n",
       "2         IR1         Lvl    AllPub  ...        0     No     No          No   \n",
       "3         IR1         Lvl    AllPub  ...        0     No     No          No   \n",
       "4         IR1         Lvl    AllPub  ...        0     No     No          No   \n",
       "...       ...         ...       ...  ...      ...    ...    ...         ...   \n",
       "1455      Reg         Lvl    AllPub  ...        0     No     No          No   \n",
       "1456      Reg         Lvl    AllPub  ...        0     No  MnPrv          No   \n",
       "1457      Reg         Lvl    AllPub  ...        0     No  GdPrv        Shed   \n",
       "1458      Reg         Lvl    AllPub  ...        0     No     No          No   \n",
       "1459      Reg         Lvl    AllPub  ...        0     No     No          No   \n",
       "\n",
       "     MiscVal MoSold YrSold  SaleType  SaleCondition  SalePrice  \n",
       "0          0    Feb   2008        WD         Normal     208500  \n",
       "1          0    May   2007        WD         Normal     181500  \n",
       "2          0    Sep   2008        WD         Normal     223500  \n",
       "3          0    Feb   2006        WD        Abnorml     140000  \n",
       "4          0    Dec   2008        WD         Normal     250000  \n",
       "...      ...    ...    ...       ...            ...        ...  \n",
       "1455       0    Aug   2007        WD         Normal     175000  \n",
       "1456       0    Feb   2010        WD         Normal     210000  \n",
       "1457    2500    May   2010        WD         Normal     266500  \n",
       "1458       0    Apr   2010        WD         Normal     142125  \n",
       "1459       0    Jun   2008        WD         Normal     147500  \n",
       "\n",
       "[1460 rows x 81 columns]"
      ]
     },
     "execution_count": 2,
     "metadata": {},
     "output_type": "execute_result"
    }
   ],
   "source": [
    "hd_df= pd.read_csv(\"housing_data.csv\")\n",
    "hd_df\n",
    "\n",
    "# Speciy the path of the CSV file - not going to work in lab.\n",
    "# csv_path = r\"path\\to\\your\\file.csv\n",
    "# sf_csv = pd.read_csv(csv_path)\n",
    "# excel_xlx = pd.read_xlx(xlx_path)"
   ]
  },
  {
   "cell_type": "code",
   "execution_count": 3,
   "id": "a97fbc67-d56b-4f45-86f9-032e0606d1bf",
   "metadata": {},
   "outputs": [
    {
     "name": "stdout",
     "output_type": "stream",
     "text": [
      "0    1\n",
      "1    2\n",
      "2    3\n",
      "dtype: int64\n"
     ]
    }
   ],
   "source": [
    "# Series - 1D\n",
    "# Create a series from a list\n",
    "\n",
    "series = pd.Series([1,2,3])\n",
    "print(series)"
   ]
  },
  {
   "cell_type": "code",
   "execution_count": 6,
   "id": "2768e950-5372-4d82-a581-31fe82b1e67c",
   "metadata": {},
   "outputs": [
    {
     "name": "stdout",
     "output_type": "stream",
     "text": [
      "a   NaN\n",
      "b   NaN\n",
      "c   NaN\n",
      "dtype: float64\n"
     ]
    }
   ],
   "source": [
    "# Creating a index\n",
    "\n",
    "index = [\"a\",\"b\",\"c\"]\n",
    "\n",
    "series_index = pd.Series(series, index = index)\n",
    "print(series_index)"
   ]
  },
  {
   "cell_type": "code",
   "execution_count": 10,
   "id": "96c26a40-616f-40cc-980e-48a17d1d4fc7",
   "metadata": {},
   "outputs": [
    {
     "name": "stdout",
     "output_type": "stream",
     "text": [
      "Dict: \n",
      " a    1\n",
      "b    2\n",
      "c    3\n",
      "d    4\n",
      "e    5\n",
      "dtype: int64\n"
     ]
    }
   ],
   "source": [
    "# Creating a pandas series from a dictionary\n",
    "\n",
    "data_dict = {\"a\":1, 'b':2,'c':3,'d':4,'e':5}\n",
    "series_from_dict = pd.Series(data_dict)\n",
    "print(f'Dict: \\n {series_from_dict}')"
   ]
  },
  {
   "cell_type": "code",
   "execution_count": 18,
   "id": "80439de4-dde8-4168-9a47-04fcd2d35556",
   "metadata": {},
   "outputs": [
    {
     "name": "stdout",
     "output_type": "stream",
     "text": [
      "list: \n",
      "0    1\n",
      "1    2\n",
      "2    3\n",
      "3    4\n",
      "4    5\n",
      "dtype: int64\n",
      "\n",
      "\n",
      "indexed series :\n",
      "a    1\n",
      "b    2\n",
      "c    3\n",
      "d    4\n",
      "e    5\n",
      "dtype: int64\n"
     ]
    }
   ],
   "source": [
    "# Creating pandas series from a list\n",
    "\n",
    "data = [1,2,3,4,5]\n",
    "series = pd.Series(data)\n",
    "print(f'list: \\n{series}\\n\\n')\n",
    "\n",
    "# Creating pandas series from specific index\n",
    "\n",
    "indexx = ['a','b','c','d','e']\n",
    "series_index = pd.Series(data, index = indexx)\n",
    "print(f'indexed series :\\n{series_index}')"
   ]
  },
  {
   "cell_type": "code",
   "execution_count": 26,
   "id": "bdf12012-e0cd-41c4-a8a8-da93681c8ede",
   "metadata": {},
   "outputs": [
    {
     "data": {
      "text/plain": [
       "a    1\n",
       "b    2\n",
       "dtype: int64"
      ]
     },
     "execution_count": 26,
     "metadata": {},
     "output_type": "execute_result"
    }
   ],
   "source": [
    "series_index.head(2)"
   ]
  },
  {
   "cell_type": "code",
   "execution_count": 27,
   "id": "753e551b-eaba-47a3-8add-c9ab9da86880",
   "metadata": {},
   "outputs": [
    {
     "data": {
      "text/plain": [
       "c    3\n",
       "d    4\n",
       "e    5\n",
       "dtype: int64"
      ]
     },
     "execution_count": 27,
     "metadata": {},
     "output_type": "execute_result"
    }
   ],
   "source": [
    "series_index.tail(3)"
   ]
  },
  {
   "cell_type": "code",
   "execution_count": 29,
   "id": "687dbde5-fb22-4cc3-9fcf-22fb6129511b",
   "metadata": {},
   "outputs": [
    {
     "data": {
      "text/plain": [
       "(5,)"
      ]
     },
     "execution_count": 29,
     "metadata": {},
     "output_type": "execute_result"
    }
   ],
   "source": [
    "series_index.shape"
   ]
  },
  {
   "cell_type": "code",
   "execution_count": 31,
   "id": "6cd0ef20-37a8-4e2d-81e6-76f22a228013",
   "metadata": {},
   "outputs": [
    {
     "data": {
      "text/plain": [
       "count    5.000000\n",
       "mean     3.000000\n",
       "std      1.581139\n",
       "min      1.000000\n",
       "25%      2.000000\n",
       "50%      3.000000\n",
       "75%      4.000000\n",
       "max      5.000000\n",
       "dtype: float64"
      ]
     },
     "execution_count": 31,
     "metadata": {},
     "output_type": "execute_result"
    }
   ],
   "source": [
    "series_index.describe()"
   ]
  },
  {
   "cell_type": "code",
   "execution_count": 33,
   "id": "7cd7f70d-170f-48ee-b52f-2653e2364609",
   "metadata": {},
   "outputs": [
    {
     "data": {
      "text/plain": [
       "array([1, 2, 3, 4, 5])"
      ]
     },
     "execution_count": 33,
     "metadata": {},
     "output_type": "execute_result"
    }
   ],
   "source": [
    "series_index.unique()"
   ]
  },
  {
   "cell_type": "code",
   "execution_count": 34,
   "id": "5e09497f-ad4c-46e9-aa77-9489557646a0",
   "metadata": {},
   "outputs": [
    {
     "data": {
      "text/plain": [
       "0    1\n",
       "1    2\n",
       "2    3\n",
       "3    4\n",
       "4    5\n",
       "dtype: int64"
      ]
     },
     "execution_count": 34,
     "metadata": {},
     "output_type": "execute_result"
    }
   ],
   "source": [
    "series.sort_values()"
   ]
  },
  {
   "cell_type": "code",
   "execution_count": 36,
   "id": "c2f038f5-4bf0-4e23-80aa-21b5e7ffa082",
   "metadata": {},
   "outputs": [
    {
     "data": {
      "text/plain": [
       "a    False\n",
       "b    False\n",
       "c    False\n",
       "d    False\n",
       "e    False\n",
       "dtype: bool"
      ]
     },
     "execution_count": 36,
     "metadata": {},
     "output_type": "execute_result"
    }
   ],
   "source": [
    "series_index.isnull()"
   ]
  },
  {
   "cell_type": "code",
   "execution_count": 37,
   "id": "cfbafe8b-d180-4a09-b478-aefc329aa1f0",
   "metadata": {},
   "outputs": [
    {
     "data": {
      "text/plain": [
       "a    1\n",
       "b    2\n",
       "c    3\n",
       "d    4\n",
       "e    5\n",
       "dtype: int64"
      ]
     },
     "execution_count": 37,
     "metadata": {},
     "output_type": "execute_result"
    }
   ],
   "source": [
    "series_index.fillna(99)   #fills 99 for na values"
   ]
  },
  {
   "cell_type": "code",
   "execution_count": 38,
   "id": "29c98939-ea7f-499d-81ac-b3afe0ff7848",
   "metadata": {},
   "outputs": [
    {
     "name": "stdout",
     "output_type": "stream",
     "text": [
      "a    10\n",
      "b    20\n",
      "c    30\n",
      "d    40\n",
      "e    50\n",
      "dtype: int64\n"
     ]
    }
   ],
   "source": [
    "data = {\"a\":10, 'b':20,'c':30,'d':40,'e':50}\n",
    "series = pd.Series(data)\n",
    "print(series)"
   ]
  },
  {
   "cell_type": "code",
   "execution_count": 39,
   "id": "bbc3b4d8-b095-40fe-b9de-93328da78b0e",
   "metadata": {},
   "outputs": [
    {
     "data": {
      "text/plain": [
       "d    40\n",
       "e    50\n",
       "dtype: int64"
      ]
     },
     "execution_count": 39,
     "metadata": {},
     "output_type": "execute_result"
    }
   ],
   "source": [
    "series[series>30] "
   ]
  },
  {
   "cell_type": "code",
   "execution_count": 42,
   "id": "8546dc12-244a-4169-a207-f24dea98490d",
   "metadata": {},
   "outputs": [
    {
     "data": {
      "text/plain": [
       "a     True\n",
       "b    False\n",
       "c    False\n",
       "d    False\n",
       "e    False\n",
       "dtype: bool"
      ]
     },
     "execution_count": 42,
     "metadata": {},
     "output_type": "execute_result"
    }
   ],
   "source": [
    "series<20"
   ]
  },
  {
   "cell_type": "code",
   "execution_count": 43,
   "id": "e98dc666-fb1e-4853-a120-be4f2542a32b",
   "metadata": {},
   "outputs": [
    {
     "data": {
      "text/plain": [
       "b    20\n",
       "dtype: int64"
      ]
     },
     "execution_count": 43,
     "metadata": {},
     "output_type": "execute_result"
    }
   ],
   "source": [
    "series[series == 20]"
   ]
  },
  {
   "cell_type": "code",
   "execution_count": 44,
   "id": "b0ae6864-5621-4e72-a8c3-92a759e1861f",
   "metadata": {},
   "outputs": [
    {
     "data": {
      "text/plain": [
       "a    10\n",
       "c    30\n",
       "d    40\n",
       "e    50\n",
       "dtype: int64"
      ]
     },
     "execution_count": 44,
     "metadata": {},
     "output_type": "execute_result"
    }
   ],
   "source": [
    "series[series != 20]"
   ]
  },
  {
   "cell_type": "code",
   "execution_count": 50,
   "id": "fb3c4451-349c-41f4-bc80-fff32c6d7eb0",
   "metadata": {},
   "outputs": [
    {
     "data": {
      "text/plain": [
       "c    30\n",
       "d    40\n",
       "dtype: int64"
      ]
     },
     "execution_count": 50,
     "metadata": {},
     "output_type": "execute_result"
    }
   ],
   "source": [
    "series[(series > 20) & (series <50) ]"
   ]
  },
  {
   "cell_type": "code",
   "execution_count": 56,
   "id": "42d4a8bb-a4f8-4f8e-bc79-154694b94601",
   "metadata": {},
   "outputs": [
    {
     "data": {
      "text/plain": [
       "b    20\n",
       "d    40\n",
       "dtype: int64"
      ]
     },
     "execution_count": 56,
     "metadata": {},
     "output_type": "execute_result"
    }
   ],
   "source": [
    "series[series.isin([20,40])] "
   ]
  },
  {
   "cell_type": "code",
   "execution_count": 60,
   "id": "739b234d-936b-455f-a0a6-8438a17a2e15",
   "metadata": {},
   "outputs": [
    {
     "data": {
      "text/plain": [
       "1    banana\n",
       "dtype: object"
      ]
     },
     "execution_count": 60,
     "metadata": {},
     "output_type": "execute_result"
    }
   ],
   "source": [
    "# Select element using string methods (if applicable)\n",
    "\n",
    "string_series = pd.Series(['apple','banana','cherry','date','elderberry'])\n",
    "\n",
    "# selected_by_string_method = string_series[string_series.str.startswith('b')]\n",
    "\n",
    "string_series[string_series.str.startswith('b')]\n",
    "# print(selected_by_string_method)"
   ]
  },
  {
   "cell_type": "code",
   "execution_count": 61,
   "id": "3937d199-ac69-48cc-a3c8-0bc7f4560173",
   "metadata": {},
   "outputs": [
    {
     "data": {
      "text/plain": [
       "a    10\n",
       "b    20\n",
       "c    30\n",
       "d    40\n",
       "e    50\n",
       "dtype: int64"
      ]
     },
     "execution_count": 61,
     "metadata": {},
     "output_type": "execute_result"
    }
   ],
   "source": [
    "series"
   ]
  },
  {
   "cell_type": "code",
   "execution_count": 62,
   "id": "8b9babdd-8e3b-415f-8f2b-fa43ab851c1c",
   "metadata": {},
   "outputs": [
    {
     "data": {
      "text/plain": [
       "a    10\n",
       "c    30\n",
       "e    50\n",
       "dtype: int64"
      ]
     },
     "execution_count": 62,
     "metadata": {},
     "output_type": "execute_result"
    }
   ],
   "source": [
    "series.loc[['a','c','e']]  #slicing using indexing"
   ]
  },
  {
   "cell_type": "code",
   "execution_count": 64,
   "id": "102ecc8b-3a95-456b-9d78-83bce47d1862",
   "metadata": {},
   "outputs": [
    {
     "data": {
      "text/plain": [
       "c    30\n",
       "d    40\n",
       "e    50\n",
       "dtype: int64"
      ]
     },
     "execution_count": 64,
     "metadata": {},
     "output_type": "execute_result"
    }
   ],
   "source": [
    "series.iloc[2:5]       #iloc = integer loc"
   ]
  },
  {
   "cell_type": "code",
   "execution_count": 66,
   "id": "4fb1e919-7674-4de0-8e2c-bdfed663b936",
   "metadata": {},
   "outputs": [
    {
     "name": "stdout",
     "output_type": "stream",
     "text": [
      "0    120\n",
      "1    150\n",
      "2    130\n",
      "3    170\n",
      "4    160\n",
      "5    180\n",
      "6    140\n",
      "dtype: int64\n"
     ]
    }
   ],
   "source": [
    "#################  Practice ######################\n",
    "\n",
    "sales_data = [120,150,130,170,160,180,140]\n",
    "days_of_week = ['Monday','Tuesday','Wednesday','Thursday','Friday','Saturday','Sunday']\n",
    "\n",
    "# Create Pandas series for sales data\n",
    "pd_sales = pd.Series(sales_data)\n",
    "print(pd_sales)"
   ]
  },
  {
   "cell_type": "code",
   "execution_count": 67,
   "id": "974baac9-f635-446d-8392-cd21a2edfd19",
   "metadata": {},
   "outputs": [
    {
     "name": "stdout",
     "output_type": "stream",
     "text": [
      "Monday       120\n",
      "Tuesday      150\n",
      "Wednesday    130\n",
      "Thursday     170\n",
      "Friday       160\n",
      "Saturday     180\n",
      "Sunday       140\n",
      "dtype: int64\n"
     ]
    }
   ],
   "source": [
    "# Assign days of the week as index\n",
    "\n",
    "sales_index = pd.Series(sales_data, index = days_of_week)\n",
    "print(sales_index)"
   ]
  },
  {
   "cell_type": "code",
   "execution_count": 70,
   "id": "04ea6c06-3238-4d00-b663-809512211deb",
   "metadata": {},
   "outputs": [
    {
     "name": "stdout",
     "output_type": "stream",
     "text": [
      "Sales on Monday : 120\n"
     ]
    }
   ],
   "source": [
    "# Access sales data for specific days using index lables - Monday\n",
    "\n",
    "sales_index.loc[\"Monday\"]\n",
    "\n",
    "print(\"Sales on Monday :\", sales_index[\"Monday\"])"
   ]
  },
  {
   "cell_type": "code",
   "execution_count": 73,
   "id": "a734bb0b-313a-4c6e-80fa-9a90b1729a6f",
   "metadata": {},
   "outputs": [
    {
     "data": {
      "text/plain": [
       "np.int64(1050)"
      ]
     },
     "execution_count": 73,
     "metadata": {},
     "output_type": "execute_result"
    }
   ],
   "source": [
    "# Calculate total sales of the week.\n",
    "\n",
    "sales_index.sum()"
   ]
  },
  {
   "cell_type": "code",
   "execution_count": 74,
   "id": "b7f35368-cce2-43df-8535-916920413bd8",
   "metadata": {},
   "outputs": [
    {
     "data": {
      "text/plain": [
       "np.float64(150.0)"
      ]
     },
     "execution_count": 74,
     "metadata": {},
     "output_type": "execute_result"
    }
   ],
   "source": [
    "# Calculate the average sales\n",
    "\n",
    "sales_index.mean()"
   ]
  },
  {
   "cell_type": "code",
   "execution_count": 75,
   "id": "7b34cac4-baf5-4ec1-a58f-c9e8acb96622",
   "metadata": {},
   "outputs": [
    {
     "data": {
      "text/plain": [
       "np.int64(180)"
      ]
     },
     "execution_count": 75,
     "metadata": {},
     "output_type": "execute_result"
    }
   ],
   "source": [
    "# Calculate the max sales\n",
    "\n",
    "sales_index.max()"
   ]
  },
  {
   "cell_type": "code",
   "execution_count": 77,
   "id": "322c71ea-4c63-4d11-ade9-846600c77a5b",
   "metadata": {},
   "outputs": [
    {
     "data": {
      "text/plain": [
       "Saturday    180\n",
       "dtype: int64"
      ]
     },
     "execution_count": 77,
     "metadata": {},
     "output_type": "execute_result"
    }
   ],
   "source": [
    "# sales greater than 170\n",
    "\n",
    "# sales_index > 170\n",
    "sales_index[sales_index > 170]"
   ]
  },
  {
   "cell_type": "code",
   "execution_count": 5,
   "id": "15c9c009-4d3d-4fd6-a695-887bd5e9e442",
   "metadata": {},
   "outputs": [
    {
     "name": "stdout",
     "output_type": "stream",
     "text": [
      "DatetimeIndex(['2024-06-01', '2024-06-02', '2024-06-03', '2024-06-04',\n",
      "               '2024-06-05', '2024-06-06', '2024-06-07', '2024-06-08',\n",
      "               '2024-06-09', '2024-06-10', '2024-06-11', '2024-06-12',\n",
      "               '2024-06-13', '2024-06-14', '2024-06-15', '2024-06-16',\n",
      "               '2024-06-17', '2024-06-18', '2024-06-19', '2024-06-20',\n",
      "               '2024-06-21', '2024-06-22', '2024-06-23', '2024-06-24',\n",
      "               '2024-06-25', '2024-06-26', '2024-06-27', '2024-06-28',\n",
      "               '2024-06-29', '2024-06-30'],\n",
      "              dtype='datetime64[ns]', freq='D')\n"
     ]
    }
   ],
   "source": [
    "# Creating a date Range\n",
    "\n",
    "Date_range = pd.date_range(start = '2024-06-01', end = '2024-06-30', freq ='D')\n",
    "print(Date_range)"
   ]
  },
  {
   "cell_type": "code",
   "execution_count": 3,
   "id": "c38837a2-4bc4-44d1-9cea-d89c1879db20",
   "metadata": {},
   "outputs": [
    {
     "data": {
      "text/plain": [
       "Index([ 1,  2,  3,  4,  5,  6,  7,  8,  9, 10, 11, 12, 13, 14, 15, 16, 17, 18,\n",
       "       19, 20, 21, 22, 23, 24, 25, 26, 27, 28, 29, 30],\n",
       "      dtype='int32')"
      ]
     },
     "execution_count": 3,
     "metadata": {},
     "output_type": "execute_result"
    }
   ],
   "source": [
    "Date_range.day"
   ]
  },
  {
   "cell_type": "code",
   "execution_count": 17,
   "id": "2a088fc4-863a-4914-bf11-483813eddb04",
   "metadata": {},
   "outputs": [],
   "source": [
    "# Resampling Time Series data\n",
    "\n",
    "data = {\n",
    "    'Date':pd.date_range(start = '2024-01-01',periods = 10, freq ='h'),\n",
    "    'Value1': range(10),\n",
    "    'Value2': range(10,20)\n",
    "}\n",
    "\n",
    "df = pd.DataFrame(data)\n",
    "\n",
    "# Creating a timedelta of 3 days\n",
    "delta = pd.Timedelta(days=3)"
   ]
  },
  {
   "cell_type": "code",
   "execution_count": 20,
   "id": "7dd1f0d2-260f-4da3-88a8-c4205837e1b2",
   "metadata": {},
   "outputs": [
    {
     "name": "stdout",
     "output_type": "stream",
     "text": [
      "                 Date          FutureDate\n",
      "0 2024-01-01 00:00:00 2024-01-18 12:00:00\n",
      "1 2024-01-01 01:00:00 2024-01-18 13:00:00\n",
      "2 2024-01-01 02:00:00 2024-01-18 14:00:00\n",
      "3 2024-01-01 03:00:00 2024-01-18 15:00:00\n",
      "4 2024-01-01 04:00:00 2024-01-18 16:00:00\n",
      "5 2024-01-01 05:00:00 2024-01-18 17:00:00\n",
      "6 2024-01-01 06:00:00 2024-01-18 18:00:00\n",
      "7 2024-01-01 07:00:00 2024-01-18 19:00:00\n",
      "8 2024-01-01 08:00:00 2024-01-18 20:00:00\n",
      "9 2024-01-01 09:00:00 2024-01-18 21:00:00\n"
     ]
    }
   ],
   "source": [
    "# Performing arithmethic opertions with timedeltas\n",
    "\n",
    "df['Date'] = pd.to_datetime(df['Date'])\n",
    "df['FutureDate'] = df['Date'] + pd.Timedelta(weeks = 2, days=3, hours=12)\n",
    "print(df[['Date','FutureDate']])"
   ]
  },
  {
   "cell_type": "code",
   "execution_count": 21,
   "id": "48cab010-7ffb-4a45-b7aa-3679616c2059",
   "metadata": {},
   "outputs": [
    {
     "name": "stdout",
     "output_type": "stream",
     "text": [
      "            Value1  Value2\n",
      "Date                      \n",
      "2024-01-01      45     145\n"
     ]
    }
   ],
   "source": [
    "df.set_index('Date' , inplace = True)\n",
    "df_resampled = df.select_dtypes(include = 'number').resample('D').sum()\n",
    "print(df_resampled)"
   ]
  },
  {
   "cell_type": "code",
   "execution_count": 22,
   "id": "9947e596-83d7-4719-b882-4a14ada77fbe",
   "metadata": {},
   "outputs": [],
   "source": [
    "# Label Encoding\n",
    "\n",
    "df = pd.DataFrame({'Category':['A','B','A','C','B','A']})\n",
    "df['Category_labelencoded'] = df['Category'].astype('category').cat.codes"
   ]
  },
  {
   "cell_type": "code",
   "execution_count": 23,
   "id": "a9623d53-a4e3-40d7-bf38-257eb7fc9acd",
   "metadata": {},
   "outputs": [
    {
     "data": {
      "text/html": [
       "<div>\n",
       "<style scoped>\n",
       "    .dataframe tbody tr th:only-of-type {\n",
       "        vertical-align: middle;\n",
       "    }\n",
       "\n",
       "    .dataframe tbody tr th {\n",
       "        vertical-align: top;\n",
       "    }\n",
       "\n",
       "    .dataframe thead th {\n",
       "        text-align: right;\n",
       "    }\n",
       "</style>\n",
       "<table border=\"1\" class=\"dataframe\">\n",
       "  <thead>\n",
       "    <tr style=\"text-align: right;\">\n",
       "      <th></th>\n",
       "      <th>Category</th>\n",
       "      <th>Category_labelencoded</th>\n",
       "    </tr>\n",
       "  </thead>\n",
       "  <tbody>\n",
       "    <tr>\n",
       "      <th>0</th>\n",
       "      <td>A</td>\n",
       "      <td>0</td>\n",
       "    </tr>\n",
       "    <tr>\n",
       "      <th>1</th>\n",
       "      <td>B</td>\n",
       "      <td>1</td>\n",
       "    </tr>\n",
       "    <tr>\n",
       "      <th>2</th>\n",
       "      <td>A</td>\n",
       "      <td>0</td>\n",
       "    </tr>\n",
       "    <tr>\n",
       "      <th>3</th>\n",
       "      <td>C</td>\n",
       "      <td>2</td>\n",
       "    </tr>\n",
       "    <tr>\n",
       "      <th>4</th>\n",
       "      <td>B</td>\n",
       "      <td>1</td>\n",
       "    </tr>\n",
       "  </tbody>\n",
       "</table>\n",
       "</div>"
      ],
      "text/plain": [
       "  Category  Category_labelencoded\n",
       "0        A                      0\n",
       "1        B                      1\n",
       "2        A                      0\n",
       "3        C                      2\n",
       "4        B                      1"
      ]
     },
     "execution_count": 23,
     "metadata": {},
     "output_type": "execute_result"
    }
   ],
   "source": [
    "df.head()"
   ]
  },
  {
   "cell_type": "code",
   "execution_count": null,
   "id": "aa820562-5c71-41cb-b801-9cd30f88879e",
   "metadata": {},
   "outputs": [],
   "source": [
    "# Problem Statement:\n",
    "\n",
    "# Analyze the housing dataset with a focus on handling date and categorical\n",
    "# data to gain insight into house sales over time and influence of house\n",
    "# characteristics on its price"
   ]
  },
  {
   "cell_type": "code",
   "execution_count": 119,
   "id": "83fb4b4a-771b-43a8-81d5-8eec2f3a6a6f",
   "metadata": {},
   "outputs": [
    {
     "name": "stdout",
     "output_type": "stream",
     "text": [
      "      Unnamed: 0 MSSubClass MSZoning  LotFrontage  LotArea Street Alley  \\\n",
      "0              0       SC60       RL         65.0     8450   Pave   NaN   \n",
      "1              1       SC20       RL         80.0     9600   Pave   NaN   \n",
      "2              2       SC60       RL         68.0    11250   Pave   NaN   \n",
      "3              3       SC70       RL         60.0     9550   Pave   NaN   \n",
      "4              4       SC60       RL         84.0    14260   Pave   NaN   \n",
      "...          ...        ...      ...          ...      ...    ...   ...   \n",
      "1455        1455       SC60       RL         62.0     7917   Pave   NaN   \n",
      "1456        1456       SC20       RL         85.0    13175   Pave   NaN   \n",
      "1457        1457       SC70       RL         66.0     9042   Pave   NaN   \n",
      "1458        1458       SC20       RL         68.0     9717   Pave   NaN   \n",
      "1459        1459       SC20       RL         75.0     9937   Pave   NaN   \n",
      "\n",
      "     LotShape LandContour Utilities  ... PoolArea PoolQC  Fence MiscFeature  \\\n",
      "0         Reg         Lvl    AllPub  ...        0     No     No          No   \n",
      "1         Reg         Lvl    AllPub  ...        0     No     No          No   \n",
      "2         IR1         Lvl    AllPub  ...        0     No     No          No   \n",
      "3         IR1         Lvl    AllPub  ...        0     No     No          No   \n",
      "4         IR1         Lvl    AllPub  ...        0     No     No          No   \n",
      "...       ...         ...       ...  ...      ...    ...    ...         ...   \n",
      "1455      Reg         Lvl    AllPub  ...        0     No     No          No   \n",
      "1456      Reg         Lvl    AllPub  ...        0     No  MnPrv          No   \n",
      "1457      Reg         Lvl    AllPub  ...        0     No  GdPrv        Shed   \n",
      "1458      Reg         Lvl    AllPub  ...        0     No     No          No   \n",
      "1459      Reg         Lvl    AllPub  ...        0     No     No          No   \n",
      "\n",
      "     MiscVal MoSold YrSold  SaleType  SaleCondition  SalePrice  \n",
      "0          0    Feb   2008        WD         Normal     208500  \n",
      "1          0    May   2007        WD         Normal     181500  \n",
      "2          0    Sep   2008        WD         Normal     223500  \n",
      "3          0    Feb   2006        WD        Abnorml     140000  \n",
      "4          0    Dec   2008        WD         Normal     250000  \n",
      "...      ...    ...    ...       ...            ...        ...  \n",
      "1455       0    Aug   2007        WD         Normal     175000  \n",
      "1456       0    Feb   2010        WD         Normal     210000  \n",
      "1457    2500    May   2010        WD         Normal     266500  \n",
      "1458       0    Apr   2010        WD         Normal     142125  \n",
      "1459       0    Jun   2008        WD         Normal     147500  \n",
      "\n",
      "[1460 rows x 81 columns]\n"
     ]
    }
   ],
   "source": [
    "# Load the housing data set\n",
    "\n",
    "HD = pd.read_csv('housing_data.csv')\n",
    "# HD = pd.DataFrame(HD)\n",
    "print(HD)"
   ]
  },
  {
   "cell_type": "code",
   "execution_count": 120,
   "id": "451df5e3-6170-40e0-81f5-3059c670e124",
   "metadata": {},
   "outputs": [
    {
     "data": {
      "text/html": [
       "<div>\n",
       "<style scoped>\n",
       "    .dataframe tbody tr th:only-of-type {\n",
       "        vertical-align: middle;\n",
       "    }\n",
       "\n",
       "    .dataframe tbody tr th {\n",
       "        vertical-align: top;\n",
       "    }\n",
       "\n",
       "    .dataframe thead th {\n",
       "        text-align: right;\n",
       "    }\n",
       "</style>\n",
       "<table border=\"1\" class=\"dataframe\">\n",
       "  <thead>\n",
       "    <tr style=\"text-align: right;\">\n",
       "      <th></th>\n",
       "      <th>Unnamed: 0</th>\n",
       "      <th>MSSubClass</th>\n",
       "      <th>MSZoning</th>\n",
       "      <th>LotFrontage</th>\n",
       "      <th>LotArea</th>\n",
       "      <th>Street</th>\n",
       "      <th>Alley</th>\n",
       "      <th>LotShape</th>\n",
       "      <th>LandContour</th>\n",
       "      <th>Utilities</th>\n",
       "      <th>...</th>\n",
       "      <th>PoolArea</th>\n",
       "      <th>PoolQC</th>\n",
       "      <th>Fence</th>\n",
       "      <th>MiscFeature</th>\n",
       "      <th>MiscVal</th>\n",
       "      <th>MoSold</th>\n",
       "      <th>YrSold</th>\n",
       "      <th>SaleType</th>\n",
       "      <th>SaleCondition</th>\n",
       "      <th>SalePrice</th>\n",
       "    </tr>\n",
       "  </thead>\n",
       "  <tbody>\n",
       "    <tr>\n",
       "      <th>0</th>\n",
       "      <td>0</td>\n",
       "      <td>SC60</td>\n",
       "      <td>RL</td>\n",
       "      <td>65.0</td>\n",
       "      <td>8450</td>\n",
       "      <td>Pave</td>\n",
       "      <td>NaN</td>\n",
       "      <td>Reg</td>\n",
       "      <td>Lvl</td>\n",
       "      <td>AllPub</td>\n",
       "      <td>...</td>\n",
       "      <td>0</td>\n",
       "      <td>No</td>\n",
       "      <td>No</td>\n",
       "      <td>No</td>\n",
       "      <td>0</td>\n",
       "      <td>Feb</td>\n",
       "      <td>2008</td>\n",
       "      <td>WD</td>\n",
       "      <td>Normal</td>\n",
       "      <td>208500</td>\n",
       "    </tr>\n",
       "    <tr>\n",
       "      <th>1</th>\n",
       "      <td>1</td>\n",
       "      <td>SC20</td>\n",
       "      <td>RL</td>\n",
       "      <td>80.0</td>\n",
       "      <td>9600</td>\n",
       "      <td>Pave</td>\n",
       "      <td>NaN</td>\n",
       "      <td>Reg</td>\n",
       "      <td>Lvl</td>\n",
       "      <td>AllPub</td>\n",
       "      <td>...</td>\n",
       "      <td>0</td>\n",
       "      <td>No</td>\n",
       "      <td>No</td>\n",
       "      <td>No</td>\n",
       "      <td>0</td>\n",
       "      <td>May</td>\n",
       "      <td>2007</td>\n",
       "      <td>WD</td>\n",
       "      <td>Normal</td>\n",
       "      <td>181500</td>\n",
       "    </tr>\n",
       "    <tr>\n",
       "      <th>2</th>\n",
       "      <td>2</td>\n",
       "      <td>SC60</td>\n",
       "      <td>RL</td>\n",
       "      <td>68.0</td>\n",
       "      <td>11250</td>\n",
       "      <td>Pave</td>\n",
       "      <td>NaN</td>\n",
       "      <td>IR1</td>\n",
       "      <td>Lvl</td>\n",
       "      <td>AllPub</td>\n",
       "      <td>...</td>\n",
       "      <td>0</td>\n",
       "      <td>No</td>\n",
       "      <td>No</td>\n",
       "      <td>No</td>\n",
       "      <td>0</td>\n",
       "      <td>Sep</td>\n",
       "      <td>2008</td>\n",
       "      <td>WD</td>\n",
       "      <td>Normal</td>\n",
       "      <td>223500</td>\n",
       "    </tr>\n",
       "    <tr>\n",
       "      <th>3</th>\n",
       "      <td>3</td>\n",
       "      <td>SC70</td>\n",
       "      <td>RL</td>\n",
       "      <td>60.0</td>\n",
       "      <td>9550</td>\n",
       "      <td>Pave</td>\n",
       "      <td>NaN</td>\n",
       "      <td>IR1</td>\n",
       "      <td>Lvl</td>\n",
       "      <td>AllPub</td>\n",
       "      <td>...</td>\n",
       "      <td>0</td>\n",
       "      <td>No</td>\n",
       "      <td>No</td>\n",
       "      <td>No</td>\n",
       "      <td>0</td>\n",
       "      <td>Feb</td>\n",
       "      <td>2006</td>\n",
       "      <td>WD</td>\n",
       "      <td>Abnorml</td>\n",
       "      <td>140000</td>\n",
       "    </tr>\n",
       "    <tr>\n",
       "      <th>4</th>\n",
       "      <td>4</td>\n",
       "      <td>SC60</td>\n",
       "      <td>RL</td>\n",
       "      <td>84.0</td>\n",
       "      <td>14260</td>\n",
       "      <td>Pave</td>\n",
       "      <td>NaN</td>\n",
       "      <td>IR1</td>\n",
       "      <td>Lvl</td>\n",
       "      <td>AllPub</td>\n",
       "      <td>...</td>\n",
       "      <td>0</td>\n",
       "      <td>No</td>\n",
       "      <td>No</td>\n",
       "      <td>No</td>\n",
       "      <td>0</td>\n",
       "      <td>Dec</td>\n",
       "      <td>2008</td>\n",
       "      <td>WD</td>\n",
       "      <td>Normal</td>\n",
       "      <td>250000</td>\n",
       "    </tr>\n",
       "  </tbody>\n",
       "</table>\n",
       "<p>5 rows × 81 columns</p>\n",
       "</div>"
      ],
      "text/plain": [
       "   Unnamed: 0 MSSubClass MSZoning  LotFrontage  LotArea Street Alley LotShape  \\\n",
       "0           0       SC60       RL         65.0     8450   Pave   NaN      Reg   \n",
       "1           1       SC20       RL         80.0     9600   Pave   NaN      Reg   \n",
       "2           2       SC60       RL         68.0    11250   Pave   NaN      IR1   \n",
       "3           3       SC70       RL         60.0     9550   Pave   NaN      IR1   \n",
       "4           4       SC60       RL         84.0    14260   Pave   NaN      IR1   \n",
       "\n",
       "  LandContour Utilities  ... PoolArea PoolQC Fence MiscFeature MiscVal MoSold  \\\n",
       "0         Lvl    AllPub  ...        0     No    No          No       0    Feb   \n",
       "1         Lvl    AllPub  ...        0     No    No          No       0    May   \n",
       "2         Lvl    AllPub  ...        0     No    No          No       0    Sep   \n",
       "3         Lvl    AllPub  ...        0     No    No          No       0    Feb   \n",
       "4         Lvl    AllPub  ...        0     No    No          No       0    Dec   \n",
       "\n",
       "  YrSold  SaleType  SaleCondition  SalePrice  \n",
       "0   2008        WD         Normal     208500  \n",
       "1   2007        WD         Normal     181500  \n",
       "2   2008        WD         Normal     223500  \n",
       "3   2006        WD        Abnorml     140000  \n",
       "4   2008        WD         Normal     250000  \n",
       "\n",
       "[5 rows x 81 columns]"
      ]
     },
     "execution_count": 120,
     "metadata": {},
     "output_type": "execute_result"
    }
   ],
   "source": [
    "# How to view the data\n",
    "\n",
    "HD.head()"
   ]
  },
  {
   "cell_type": "code",
   "execution_count": 121,
   "id": "eb160ee3-ce19-487b-9b03-7f720e65d374",
   "metadata": {},
   "outputs": [
    {
     "data": {
      "text/plain": [
       "Index(['Unnamed: 0', 'MSSubClass', 'MSZoning', 'LotFrontage', 'LotArea',\n",
       "       'Street', 'Alley', 'LotShape', 'LandContour', 'Utilities', 'LotConfig',\n",
       "       'LandSlope', 'Neighborhood', 'Condition1', 'Condition2', 'BldgType',\n",
       "       'HouseStyle', 'OverallQual', 'OverallCond', 'YearBuilt', 'YearRemodAdd',\n",
       "       'RoofStyle', 'RoofMatl', 'Exterior1st', 'Exterior2nd', 'MasVnrType',\n",
       "       'MasVnrArea', 'ExterQual', 'ExterCond', 'Foundation', 'BsmtQual',\n",
       "       'BsmtCond', 'BsmtExposure', 'BsmtFinType1', 'BsmtFinSF1',\n",
       "       'BsmtFinType2', 'BsmtFinSF2', 'BsmtUnfSF', 'TotalBsmtSF', 'Heating',\n",
       "       'HeatingQC', 'CentralAir', 'Electrical', '1stFlrSF', '2ndFlrSF',\n",
       "       'LowQualFinSF', 'GrLivArea', 'BsmtFullBath', 'BsmtHalfBath', 'FullBath',\n",
       "       'HalfBath', 'BedroomAbvGr', 'KitchenAbvGr', 'KitchenQual',\n",
       "       'TotRmsAbvGrd', 'Functional', 'Fireplaces', 'FireplaceQu', 'GarageType',\n",
       "       'GarageYrBlt', 'GarageFinish', 'GarageCars', 'GarageArea', 'GarageQual',\n",
       "       'GarageCond', 'PavedDrive', 'WoodDeckSF', 'OpenPorchSF',\n",
       "       'EnclosedPorch', '3SsnPorch', 'ScreenPorch', 'PoolArea', 'PoolQC',\n",
       "       'Fence', 'MiscFeature', 'MiscVal', 'MoSold', 'YrSold', 'SaleType',\n",
       "       'SaleCondition', 'SalePrice'],\n",
       "      dtype='object')"
      ]
     },
     "execution_count": 121,
     "metadata": {},
     "output_type": "execute_result"
    }
   ],
   "source": [
    "HD.columns"
   ]
  },
  {
   "cell_type": "code",
   "execution_count": 122,
   "id": "9f81ec38-95b7-44b8-9811-cde1b8dfb1ed",
   "metadata": {},
   "outputs": [
    {
     "name": "stdout",
     "output_type": "stream",
     "text": [
      "0      2003-01-01\n",
      "1      1976-01-01\n",
      "2      2001-01-01\n",
      "3      1915-01-01\n",
      "4      2000-01-01\n",
      "          ...    \n",
      "1455   1999-01-01\n",
      "1456   1978-01-01\n",
      "1457   1941-01-01\n",
      "1458   1950-01-01\n",
      "1459   1965-01-01\n",
      "Name: YearBuilt, Length: 1460, dtype: datetime64[ns]\n",
      "0      2003-01-01\n",
      "1      1976-01-01\n",
      "2      2002-01-01\n",
      "3      1970-01-01\n",
      "4      2000-01-01\n",
      "          ...    \n",
      "1455   2000-01-01\n",
      "1456   1988-01-01\n",
      "1457   2006-01-01\n",
      "1458   1996-01-01\n",
      "1459   1965-01-01\n",
      "Name: YearRemodAdd, Length: 1460, dtype: datetime64[ns]\n"
     ]
    }
   ],
   "source": [
    "# Convert the yearbuild and yearremodadd columns to date time format\n",
    "\n",
    "HD['YearBuilt'] = pd.to_datetime (HD['YearBuilt'],format = '%Y')\n",
    "print(HD['YearBuilt'])\n",
    "\n",
    "HD['YearRemodAdd'] = pd.to_datetime (HD['YearRemodAdd'],format = '%Y')\n",
    "print(HD['YearRemodAdd'])\n"
   ]
  },
  {
   "cell_type": "code",
   "execution_count": 123,
   "id": "159053ca-7489-4230-b6d8-1acb80a3c3a0",
   "metadata": {},
   "outputs": [
    {
     "name": "stdout",
     "output_type": "stream",
     "text": [
      "0       2003\n",
      "1       1976\n",
      "2       2001\n",
      "3       1915\n",
      "4       2000\n",
      "        ... \n",
      "1455    1999\n",
      "1456    1978\n",
      "1457    1941\n",
      "1458    1950\n",
      "1459    1965\n",
      "Name: YearBuilt, Length: 1460, dtype: int32\n"
     ]
    }
   ],
   "source": [
    "# Extract the useful component from date like year month and day\n",
    "\n",
    "HD['YearBuilt'] = HD['YearBuilt'].dt.year\n",
    "print(HD['YearBuilt'])\n"
   ]
  },
  {
   "cell_type": "code",
   "execution_count": 124,
   "id": "e7b88f33-89b3-4c97-b1b0-f7f5ada196ac",
   "metadata": {},
   "outputs": [],
   "source": [
    "# HD['YearBuilt'] = HD['YearBuilt'].dt.month\n",
    "# print(HD['YearBuilt'])\n"
   ]
  },
  {
   "cell_type": "code",
   "execution_count": 132,
   "id": "cd2d82f5-3f70-4785-803c-7fffd131c7da",
   "metadata": {},
   "outputs": [
    {
     "data": {
      "text/plain": [
       "np.float64(10516.828082191782)"
      ]
     },
     "execution_count": 132,
     "metadata": {},
     "output_type": "execute_result"
    }
   ],
   "source": [
    "# Perform necessary sats opertions 'salesprice' ,'lotArea', mean and descriptive stats\n",
    "\n",
    "HD['LotArea'].mean()\n"
   ]
  },
  {
   "cell_type": "code",
   "execution_count": 131,
   "id": "375c7526-992e-40d1-b18a-5268d0f7c951",
   "metadata": {},
   "outputs": [
    {
     "data": {
      "text/plain": [
       "np.float64(180921.19589041095)"
      ]
     },
     "execution_count": 131,
     "metadata": {},
     "output_type": "execute_result"
    }
   ],
   "source": [
    "HD['SalePrice'].mean()\n"
   ]
  },
  {
   "cell_type": "code",
   "execution_count": 127,
   "id": "1a1eda55-1328-4267-bd29-9d4e5bb18b26",
   "metadata": {},
   "outputs": [
    {
     "data": {
      "text/plain": [
       "count      1460.000000\n",
       "mean      10516.828082\n",
       "std        9981.264932\n",
       "min        1300.000000\n",
       "25%        7553.500000\n",
       "50%        9478.500000\n",
       "75%       11601.500000\n",
       "max      215245.000000\n",
       "Name: LotArea, dtype: float64"
      ]
     },
     "execution_count": 127,
     "metadata": {},
     "output_type": "execute_result"
    }
   ],
   "source": [
    "HD['LotArea'].describe()"
   ]
  },
  {
   "cell_type": "code",
   "execution_count": 128,
   "id": "e7a927b3-bb69-48b5-9a92-c240402fc558",
   "metadata": {},
   "outputs": [
    {
     "data": {
      "text/plain": [
       "count      1460.000000\n",
       "mean     180921.195890\n",
       "std       79442.502883\n",
       "min       34900.000000\n",
       "25%      129975.000000\n",
       "50%      163000.000000\n",
       "75%      214000.000000\n",
       "max      755000.000000\n",
       "Name: SalePrice, dtype: float64"
      ]
     },
     "execution_count": 128,
     "metadata": {},
     "output_type": "execute_result"
    }
   ],
   "source": [
    "HD['SalePrice'].describe()"
   ]
  },
  {
   "cell_type": "code",
   "execution_count": 130,
   "id": "d5ca99dc-ea1c-48c1-aba1-79339df2c37a",
   "metadata": {},
   "outputs": [
    {
     "data": {
      "text/plain": [
       "LotArea       10516.828082\n",
       "SalePrice    180921.195890\n",
       "dtype: float64"
      ]
     },
     "execution_count": 130,
     "metadata": {},
     "output_type": "execute_result"
    }
   ],
   "source": [
    "HD[['LotArea','SalePrice']].mean()\n"
   ]
  },
  {
   "cell_type": "code",
   "execution_count": 133,
   "id": "5ae26f96-4d71-4c02-a4c5-0b528cf40fc6",
   "metadata": {},
   "outputs": [
    {
     "data": {
      "text/html": [
       "<div>\n",
       "<style scoped>\n",
       "    .dataframe tbody tr th:only-of-type {\n",
       "        vertical-align: middle;\n",
       "    }\n",
       "\n",
       "    .dataframe tbody tr th {\n",
       "        vertical-align: top;\n",
       "    }\n",
       "\n",
       "    .dataframe thead th {\n",
       "        text-align: right;\n",
       "    }\n",
       "</style>\n",
       "<table border=\"1\" class=\"dataframe\">\n",
       "  <thead>\n",
       "    <tr style=\"text-align: right;\">\n",
       "      <th></th>\n",
       "      <th>LotArea</th>\n",
       "      <th>SalePrice</th>\n",
       "    </tr>\n",
       "  </thead>\n",
       "  <tbody>\n",
       "    <tr>\n",
       "      <th>count</th>\n",
       "      <td>1460.000000</td>\n",
       "      <td>1460.000000</td>\n",
       "    </tr>\n",
       "    <tr>\n",
       "      <th>mean</th>\n",
       "      <td>10516.828082</td>\n",
       "      <td>180921.195890</td>\n",
       "    </tr>\n",
       "    <tr>\n",
       "      <th>std</th>\n",
       "      <td>9981.264932</td>\n",
       "      <td>79442.502883</td>\n",
       "    </tr>\n",
       "    <tr>\n",
       "      <th>min</th>\n",
       "      <td>1300.000000</td>\n",
       "      <td>34900.000000</td>\n",
       "    </tr>\n",
       "    <tr>\n",
       "      <th>25%</th>\n",
       "      <td>7553.500000</td>\n",
       "      <td>129975.000000</td>\n",
       "    </tr>\n",
       "    <tr>\n",
       "      <th>50%</th>\n",
       "      <td>9478.500000</td>\n",
       "      <td>163000.000000</td>\n",
       "    </tr>\n",
       "    <tr>\n",
       "      <th>75%</th>\n",
       "      <td>11601.500000</td>\n",
       "      <td>214000.000000</td>\n",
       "    </tr>\n",
       "    <tr>\n",
       "      <th>max</th>\n",
       "      <td>215245.000000</td>\n",
       "      <td>755000.000000</td>\n",
       "    </tr>\n",
       "  </tbody>\n",
       "</table>\n",
       "</div>"
      ],
      "text/plain": [
       "             LotArea      SalePrice\n",
       "count    1460.000000    1460.000000\n",
       "mean    10516.828082  180921.195890\n",
       "std      9981.264932   79442.502883\n",
       "min      1300.000000   34900.000000\n",
       "25%      7553.500000  129975.000000\n",
       "50%      9478.500000  163000.000000\n",
       "75%     11601.500000  214000.000000\n",
       "max    215245.000000  755000.000000"
      ]
     },
     "execution_count": 133,
     "metadata": {},
     "output_type": "execute_result"
    }
   ],
   "source": [
    "HD[['LotArea','SalePrice']].describe()\n"
   ]
  },
  {
   "cell_type": "code",
   "execution_count": 138,
   "id": "43d6d568-da8a-411a-aabb-e1c0220cd15d",
   "metadata": {},
   "outputs": [],
   "source": [
    "# Count the number of occurrences of each category in categorical features\n",
    "\n",
    "cat_var = HD.select_dtypes(include = ['object']).columns"
   ]
  },
  {
   "cell_type": "code",
   "execution_count": 140,
   "id": "90c99521-113d-4ac3-a3c5-e827266de082",
   "metadata": {},
   "outputs": [],
   "source": [
    "# Count the number of occurrences of each category in numerical features\n",
    "\n",
    "num_var=HD.select_dtypes(include = ['number']).columns"
   ]
  },
  {
   "cell_type": "code",
   "execution_count": 143,
   "id": "78a993fe-b2b2-47b0-ad03-754ab6de00b3",
   "metadata": {},
   "outputs": [
    {
     "data": {
      "text/html": [
       "<div>\n",
       "<style scoped>\n",
       "    .dataframe tbody tr th:only-of-type {\n",
       "        vertical-align: middle;\n",
       "    }\n",
       "\n",
       "    .dataframe tbody tr th {\n",
       "        vertical-align: top;\n",
       "    }\n",
       "\n",
       "    .dataframe thead th {\n",
       "        text-align: right;\n",
       "    }\n",
       "</style>\n",
       "<table border=\"1\" class=\"dataframe\">\n",
       "  <thead>\n",
       "    <tr style=\"text-align: right;\">\n",
       "      <th></th>\n",
       "      <th>Unnamed: 0</th>\n",
       "      <th>LotFrontage</th>\n",
       "      <th>LotArea</th>\n",
       "      <th>OverallQual</th>\n",
       "      <th>OverallCond</th>\n",
       "      <th>YearBuilt</th>\n",
       "      <th>MasVnrArea</th>\n",
       "      <th>BsmtFinSF1</th>\n",
       "      <th>BsmtFinSF2</th>\n",
       "      <th>BsmtUnfSF</th>\n",
       "      <th>...</th>\n",
       "      <th>GarageArea</th>\n",
       "      <th>WoodDeckSF</th>\n",
       "      <th>OpenPorchSF</th>\n",
       "      <th>EnclosedPorch</th>\n",
       "      <th>3SsnPorch</th>\n",
       "      <th>ScreenPorch</th>\n",
       "      <th>PoolArea</th>\n",
       "      <th>MiscVal</th>\n",
       "      <th>YrSold</th>\n",
       "      <th>SalePrice</th>\n",
       "    </tr>\n",
       "  </thead>\n",
       "  <tbody>\n",
       "    <tr>\n",
       "      <th>0</th>\n",
       "      <td>0</td>\n",
       "      <td>65.0</td>\n",
       "      <td>8450</td>\n",
       "      <td>7</td>\n",
       "      <td>5</td>\n",
       "      <td>2003</td>\n",
       "      <td>196.0</td>\n",
       "      <td>706</td>\n",
       "      <td>0</td>\n",
       "      <td>150</td>\n",
       "      <td>...</td>\n",
       "      <td>548</td>\n",
       "      <td>0</td>\n",
       "      <td>61</td>\n",
       "      <td>0</td>\n",
       "      <td>0</td>\n",
       "      <td>0</td>\n",
       "      <td>0</td>\n",
       "      <td>0</td>\n",
       "      <td>2008</td>\n",
       "      <td>208500</td>\n",
       "    </tr>\n",
       "    <tr>\n",
       "      <th>1</th>\n",
       "      <td>1</td>\n",
       "      <td>80.0</td>\n",
       "      <td>9600</td>\n",
       "      <td>6</td>\n",
       "      <td>8</td>\n",
       "      <td>1976</td>\n",
       "      <td>0.0</td>\n",
       "      <td>978</td>\n",
       "      <td>0</td>\n",
       "      <td>284</td>\n",
       "      <td>...</td>\n",
       "      <td>460</td>\n",
       "      <td>298</td>\n",
       "      <td>0</td>\n",
       "      <td>0</td>\n",
       "      <td>0</td>\n",
       "      <td>0</td>\n",
       "      <td>0</td>\n",
       "      <td>0</td>\n",
       "      <td>2007</td>\n",
       "      <td>181500</td>\n",
       "    </tr>\n",
       "    <tr>\n",
       "      <th>2</th>\n",
       "      <td>2</td>\n",
       "      <td>68.0</td>\n",
       "      <td>11250</td>\n",
       "      <td>7</td>\n",
       "      <td>5</td>\n",
       "      <td>2001</td>\n",
       "      <td>162.0</td>\n",
       "      <td>486</td>\n",
       "      <td>0</td>\n",
       "      <td>434</td>\n",
       "      <td>...</td>\n",
       "      <td>608</td>\n",
       "      <td>0</td>\n",
       "      <td>42</td>\n",
       "      <td>0</td>\n",
       "      <td>0</td>\n",
       "      <td>0</td>\n",
       "      <td>0</td>\n",
       "      <td>0</td>\n",
       "      <td>2008</td>\n",
       "      <td>223500</td>\n",
       "    </tr>\n",
       "    <tr>\n",
       "      <th>3</th>\n",
       "      <td>3</td>\n",
       "      <td>60.0</td>\n",
       "      <td>9550</td>\n",
       "      <td>7</td>\n",
       "      <td>5</td>\n",
       "      <td>1915</td>\n",
       "      <td>0.0</td>\n",
       "      <td>216</td>\n",
       "      <td>0</td>\n",
       "      <td>540</td>\n",
       "      <td>...</td>\n",
       "      <td>642</td>\n",
       "      <td>0</td>\n",
       "      <td>35</td>\n",
       "      <td>272</td>\n",
       "      <td>0</td>\n",
       "      <td>0</td>\n",
       "      <td>0</td>\n",
       "      <td>0</td>\n",
       "      <td>2006</td>\n",
       "      <td>140000</td>\n",
       "    </tr>\n",
       "    <tr>\n",
       "      <th>4</th>\n",
       "      <td>4</td>\n",
       "      <td>84.0</td>\n",
       "      <td>14260</td>\n",
       "      <td>8</td>\n",
       "      <td>5</td>\n",
       "      <td>2000</td>\n",
       "      <td>350.0</td>\n",
       "      <td>655</td>\n",
       "      <td>0</td>\n",
       "      <td>490</td>\n",
       "      <td>...</td>\n",
       "      <td>836</td>\n",
       "      <td>192</td>\n",
       "      <td>84</td>\n",
       "      <td>0</td>\n",
       "      <td>0</td>\n",
       "      <td>0</td>\n",
       "      <td>0</td>\n",
       "      <td>0</td>\n",
       "      <td>2008</td>\n",
       "      <td>250000</td>\n",
       "    </tr>\n",
       "    <tr>\n",
       "      <th>...</th>\n",
       "      <td>...</td>\n",
       "      <td>...</td>\n",
       "      <td>...</td>\n",
       "      <td>...</td>\n",
       "      <td>...</td>\n",
       "      <td>...</td>\n",
       "      <td>...</td>\n",
       "      <td>...</td>\n",
       "      <td>...</td>\n",
       "      <td>...</td>\n",
       "      <td>...</td>\n",
       "      <td>...</td>\n",
       "      <td>...</td>\n",
       "      <td>...</td>\n",
       "      <td>...</td>\n",
       "      <td>...</td>\n",
       "      <td>...</td>\n",
       "      <td>...</td>\n",
       "      <td>...</td>\n",
       "      <td>...</td>\n",
       "      <td>...</td>\n",
       "    </tr>\n",
       "    <tr>\n",
       "      <th>1455</th>\n",
       "      <td>1455</td>\n",
       "      <td>62.0</td>\n",
       "      <td>7917</td>\n",
       "      <td>6</td>\n",
       "      <td>5</td>\n",
       "      <td>1999</td>\n",
       "      <td>0.0</td>\n",
       "      <td>0</td>\n",
       "      <td>0</td>\n",
       "      <td>953</td>\n",
       "      <td>...</td>\n",
       "      <td>460</td>\n",
       "      <td>0</td>\n",
       "      <td>40</td>\n",
       "      <td>0</td>\n",
       "      <td>0</td>\n",
       "      <td>0</td>\n",
       "      <td>0</td>\n",
       "      <td>0</td>\n",
       "      <td>2007</td>\n",
       "      <td>175000</td>\n",
       "    </tr>\n",
       "    <tr>\n",
       "      <th>1456</th>\n",
       "      <td>1456</td>\n",
       "      <td>85.0</td>\n",
       "      <td>13175</td>\n",
       "      <td>6</td>\n",
       "      <td>6</td>\n",
       "      <td>1978</td>\n",
       "      <td>119.0</td>\n",
       "      <td>790</td>\n",
       "      <td>163</td>\n",
       "      <td>589</td>\n",
       "      <td>...</td>\n",
       "      <td>500</td>\n",
       "      <td>349</td>\n",
       "      <td>0</td>\n",
       "      <td>0</td>\n",
       "      <td>0</td>\n",
       "      <td>0</td>\n",
       "      <td>0</td>\n",
       "      <td>0</td>\n",
       "      <td>2010</td>\n",
       "      <td>210000</td>\n",
       "    </tr>\n",
       "    <tr>\n",
       "      <th>1457</th>\n",
       "      <td>1457</td>\n",
       "      <td>66.0</td>\n",
       "      <td>9042</td>\n",
       "      <td>7</td>\n",
       "      <td>9</td>\n",
       "      <td>1941</td>\n",
       "      <td>0.0</td>\n",
       "      <td>275</td>\n",
       "      <td>0</td>\n",
       "      <td>877</td>\n",
       "      <td>...</td>\n",
       "      <td>252</td>\n",
       "      <td>0</td>\n",
       "      <td>60</td>\n",
       "      <td>0</td>\n",
       "      <td>0</td>\n",
       "      <td>0</td>\n",
       "      <td>0</td>\n",
       "      <td>2500</td>\n",
       "      <td>2010</td>\n",
       "      <td>266500</td>\n",
       "    </tr>\n",
       "    <tr>\n",
       "      <th>1458</th>\n",
       "      <td>1458</td>\n",
       "      <td>68.0</td>\n",
       "      <td>9717</td>\n",
       "      <td>5</td>\n",
       "      <td>6</td>\n",
       "      <td>1950</td>\n",
       "      <td>0.0</td>\n",
       "      <td>49</td>\n",
       "      <td>1029</td>\n",
       "      <td>0</td>\n",
       "      <td>...</td>\n",
       "      <td>240</td>\n",
       "      <td>366</td>\n",
       "      <td>0</td>\n",
       "      <td>112</td>\n",
       "      <td>0</td>\n",
       "      <td>0</td>\n",
       "      <td>0</td>\n",
       "      <td>0</td>\n",
       "      <td>2010</td>\n",
       "      <td>142125</td>\n",
       "    </tr>\n",
       "    <tr>\n",
       "      <th>1459</th>\n",
       "      <td>1459</td>\n",
       "      <td>75.0</td>\n",
       "      <td>9937</td>\n",
       "      <td>5</td>\n",
       "      <td>6</td>\n",
       "      <td>1965</td>\n",
       "      <td>0.0</td>\n",
       "      <td>830</td>\n",
       "      <td>290</td>\n",
       "      <td>136</td>\n",
       "      <td>...</td>\n",
       "      <td>276</td>\n",
       "      <td>736</td>\n",
       "      <td>68</td>\n",
       "      <td>0</td>\n",
       "      <td>0</td>\n",
       "      <td>0</td>\n",
       "      <td>0</td>\n",
       "      <td>0</td>\n",
       "      <td>2008</td>\n",
       "      <td>147500</td>\n",
       "    </tr>\n",
       "  </tbody>\n",
       "</table>\n",
       "<p>1460 rows × 35 columns</p>\n",
       "</div>"
      ],
      "text/plain": [
       "      Unnamed: 0  LotFrontage  LotArea  OverallQual  OverallCond  YearBuilt  \\\n",
       "0              0         65.0     8450            7            5       2003   \n",
       "1              1         80.0     9600            6            8       1976   \n",
       "2              2         68.0    11250            7            5       2001   \n",
       "3              3         60.0     9550            7            5       1915   \n",
       "4              4         84.0    14260            8            5       2000   \n",
       "...          ...          ...      ...          ...          ...        ...   \n",
       "1455        1455         62.0     7917            6            5       1999   \n",
       "1456        1456         85.0    13175            6            6       1978   \n",
       "1457        1457         66.0     9042            7            9       1941   \n",
       "1458        1458         68.0     9717            5            6       1950   \n",
       "1459        1459         75.0     9937            5            6       1965   \n",
       "\n",
       "      MasVnrArea  BsmtFinSF1  BsmtFinSF2  BsmtUnfSF  ...  GarageArea  \\\n",
       "0          196.0         706           0        150  ...         548   \n",
       "1            0.0         978           0        284  ...         460   \n",
       "2          162.0         486           0        434  ...         608   \n",
       "3            0.0         216           0        540  ...         642   \n",
       "4          350.0         655           0        490  ...         836   \n",
       "...          ...         ...         ...        ...  ...         ...   \n",
       "1455         0.0           0           0        953  ...         460   \n",
       "1456       119.0         790         163        589  ...         500   \n",
       "1457         0.0         275           0        877  ...         252   \n",
       "1458         0.0          49        1029          0  ...         240   \n",
       "1459         0.0         830         290        136  ...         276   \n",
       "\n",
       "      WoodDeckSF  OpenPorchSF  EnclosedPorch  3SsnPorch  ScreenPorch  \\\n",
       "0              0           61              0          0            0   \n",
       "1            298            0              0          0            0   \n",
       "2              0           42              0          0            0   \n",
       "3              0           35            272          0            0   \n",
       "4            192           84              0          0            0   \n",
       "...          ...          ...            ...        ...          ...   \n",
       "1455           0           40              0          0            0   \n",
       "1456         349            0              0          0            0   \n",
       "1457           0           60              0          0            0   \n",
       "1458         366            0            112          0            0   \n",
       "1459         736           68              0          0            0   \n",
       "\n",
       "      PoolArea  MiscVal  YrSold  SalePrice  \n",
       "0            0        0    2008     208500  \n",
       "1            0        0    2007     181500  \n",
       "2            0        0    2008     223500  \n",
       "3            0        0    2006     140000  \n",
       "4            0        0    2008     250000  \n",
       "...        ...      ...     ...        ...  \n",
       "1455         0        0    2007     175000  \n",
       "1456         0        0    2010     210000  \n",
       "1457         0     2500    2010     266500  \n",
       "1458         0        0    2010     142125  \n",
       "1459         0        0    2008     147500  \n",
       "\n",
       "[1460 rows x 35 columns]"
      ]
     },
     "execution_count": 143,
     "metadata": {},
     "output_type": "execute_result"
    }
   ],
   "source": [
    "(HD[num_var])"
   ]
  },
  {
   "cell_type": "code",
   "execution_count": 144,
   "id": "096abe6f-8710-46fd-afbd-eb1e49af9387",
   "metadata": {},
   "outputs": [
    {
     "data": {
      "text/html": [
       "<div>\n",
       "<style scoped>\n",
       "    .dataframe tbody tr th:only-of-type {\n",
       "        vertical-align: middle;\n",
       "    }\n",
       "\n",
       "    .dataframe tbody tr th {\n",
       "        vertical-align: top;\n",
       "    }\n",
       "\n",
       "    .dataframe thead th {\n",
       "        text-align: right;\n",
       "    }\n",
       "</style>\n",
       "<table border=\"1\" class=\"dataframe\">\n",
       "  <thead>\n",
       "    <tr style=\"text-align: right;\">\n",
       "      <th></th>\n",
       "      <th>MSSubClass</th>\n",
       "      <th>MSZoning</th>\n",
       "      <th>Street</th>\n",
       "      <th>Alley</th>\n",
       "      <th>LotShape</th>\n",
       "      <th>LandContour</th>\n",
       "      <th>Utilities</th>\n",
       "      <th>LotConfig</th>\n",
       "      <th>LandSlope</th>\n",
       "      <th>Neighborhood</th>\n",
       "      <th>...</th>\n",
       "      <th>GarageFinish</th>\n",
       "      <th>GarageQual</th>\n",
       "      <th>GarageCond</th>\n",
       "      <th>PavedDrive</th>\n",
       "      <th>PoolQC</th>\n",
       "      <th>Fence</th>\n",
       "      <th>MiscFeature</th>\n",
       "      <th>MoSold</th>\n",
       "      <th>SaleType</th>\n",
       "      <th>SaleCondition</th>\n",
       "    </tr>\n",
       "  </thead>\n",
       "  <tbody>\n",
       "    <tr>\n",
       "      <th>0</th>\n",
       "      <td>SC60</td>\n",
       "      <td>RL</td>\n",
       "      <td>Pave</td>\n",
       "      <td>NaN</td>\n",
       "      <td>Reg</td>\n",
       "      <td>Lvl</td>\n",
       "      <td>AllPub</td>\n",
       "      <td>Inside</td>\n",
       "      <td>Gtl</td>\n",
       "      <td>CollgCr</td>\n",
       "      <td>...</td>\n",
       "      <td>RFn</td>\n",
       "      <td>TA</td>\n",
       "      <td>TA</td>\n",
       "      <td>Y</td>\n",
       "      <td>No</td>\n",
       "      <td>No</td>\n",
       "      <td>No</td>\n",
       "      <td>Feb</td>\n",
       "      <td>WD</td>\n",
       "      <td>Normal</td>\n",
       "    </tr>\n",
       "    <tr>\n",
       "      <th>1</th>\n",
       "      <td>SC20</td>\n",
       "      <td>RL</td>\n",
       "      <td>Pave</td>\n",
       "      <td>NaN</td>\n",
       "      <td>Reg</td>\n",
       "      <td>Lvl</td>\n",
       "      <td>AllPub</td>\n",
       "      <td>FR2</td>\n",
       "      <td>Gtl</td>\n",
       "      <td>Veenker</td>\n",
       "      <td>...</td>\n",
       "      <td>RFn</td>\n",
       "      <td>TA</td>\n",
       "      <td>TA</td>\n",
       "      <td>Y</td>\n",
       "      <td>No</td>\n",
       "      <td>No</td>\n",
       "      <td>No</td>\n",
       "      <td>May</td>\n",
       "      <td>WD</td>\n",
       "      <td>Normal</td>\n",
       "    </tr>\n",
       "    <tr>\n",
       "      <th>2</th>\n",
       "      <td>SC60</td>\n",
       "      <td>RL</td>\n",
       "      <td>Pave</td>\n",
       "      <td>NaN</td>\n",
       "      <td>IR1</td>\n",
       "      <td>Lvl</td>\n",
       "      <td>AllPub</td>\n",
       "      <td>Inside</td>\n",
       "      <td>Gtl</td>\n",
       "      <td>CollgCr</td>\n",
       "      <td>...</td>\n",
       "      <td>RFn</td>\n",
       "      <td>TA</td>\n",
       "      <td>TA</td>\n",
       "      <td>Y</td>\n",
       "      <td>No</td>\n",
       "      <td>No</td>\n",
       "      <td>No</td>\n",
       "      <td>Sep</td>\n",
       "      <td>WD</td>\n",
       "      <td>Normal</td>\n",
       "    </tr>\n",
       "    <tr>\n",
       "      <th>3</th>\n",
       "      <td>SC70</td>\n",
       "      <td>RL</td>\n",
       "      <td>Pave</td>\n",
       "      <td>NaN</td>\n",
       "      <td>IR1</td>\n",
       "      <td>Lvl</td>\n",
       "      <td>AllPub</td>\n",
       "      <td>Corner</td>\n",
       "      <td>Gtl</td>\n",
       "      <td>Crawfor</td>\n",
       "      <td>...</td>\n",
       "      <td>Unf</td>\n",
       "      <td>TA</td>\n",
       "      <td>TA</td>\n",
       "      <td>Y</td>\n",
       "      <td>No</td>\n",
       "      <td>No</td>\n",
       "      <td>No</td>\n",
       "      <td>Feb</td>\n",
       "      <td>WD</td>\n",
       "      <td>Abnorml</td>\n",
       "    </tr>\n",
       "    <tr>\n",
       "      <th>4</th>\n",
       "      <td>SC60</td>\n",
       "      <td>RL</td>\n",
       "      <td>Pave</td>\n",
       "      <td>NaN</td>\n",
       "      <td>IR1</td>\n",
       "      <td>Lvl</td>\n",
       "      <td>AllPub</td>\n",
       "      <td>FR2</td>\n",
       "      <td>Gtl</td>\n",
       "      <td>NoRidge</td>\n",
       "      <td>...</td>\n",
       "      <td>RFn</td>\n",
       "      <td>TA</td>\n",
       "      <td>TA</td>\n",
       "      <td>Y</td>\n",
       "      <td>No</td>\n",
       "      <td>No</td>\n",
       "      <td>No</td>\n",
       "      <td>Dec</td>\n",
       "      <td>WD</td>\n",
       "      <td>Normal</td>\n",
       "    </tr>\n",
       "    <tr>\n",
       "      <th>...</th>\n",
       "      <td>...</td>\n",
       "      <td>...</td>\n",
       "      <td>...</td>\n",
       "      <td>...</td>\n",
       "      <td>...</td>\n",
       "      <td>...</td>\n",
       "      <td>...</td>\n",
       "      <td>...</td>\n",
       "      <td>...</td>\n",
       "      <td>...</td>\n",
       "      <td>...</td>\n",
       "      <td>...</td>\n",
       "      <td>...</td>\n",
       "      <td>...</td>\n",
       "      <td>...</td>\n",
       "      <td>...</td>\n",
       "      <td>...</td>\n",
       "      <td>...</td>\n",
       "      <td>...</td>\n",
       "      <td>...</td>\n",
       "      <td>...</td>\n",
       "    </tr>\n",
       "    <tr>\n",
       "      <th>1455</th>\n",
       "      <td>SC60</td>\n",
       "      <td>RL</td>\n",
       "      <td>Pave</td>\n",
       "      <td>NaN</td>\n",
       "      <td>Reg</td>\n",
       "      <td>Lvl</td>\n",
       "      <td>AllPub</td>\n",
       "      <td>Inside</td>\n",
       "      <td>Gtl</td>\n",
       "      <td>Gilbert</td>\n",
       "      <td>...</td>\n",
       "      <td>RFn</td>\n",
       "      <td>TA</td>\n",
       "      <td>TA</td>\n",
       "      <td>Y</td>\n",
       "      <td>No</td>\n",
       "      <td>No</td>\n",
       "      <td>No</td>\n",
       "      <td>Aug</td>\n",
       "      <td>WD</td>\n",
       "      <td>Normal</td>\n",
       "    </tr>\n",
       "    <tr>\n",
       "      <th>1456</th>\n",
       "      <td>SC20</td>\n",
       "      <td>RL</td>\n",
       "      <td>Pave</td>\n",
       "      <td>NaN</td>\n",
       "      <td>Reg</td>\n",
       "      <td>Lvl</td>\n",
       "      <td>AllPub</td>\n",
       "      <td>Inside</td>\n",
       "      <td>Gtl</td>\n",
       "      <td>NWAmes</td>\n",
       "      <td>...</td>\n",
       "      <td>Unf</td>\n",
       "      <td>TA</td>\n",
       "      <td>TA</td>\n",
       "      <td>Y</td>\n",
       "      <td>No</td>\n",
       "      <td>MnPrv</td>\n",
       "      <td>No</td>\n",
       "      <td>Feb</td>\n",
       "      <td>WD</td>\n",
       "      <td>Normal</td>\n",
       "    </tr>\n",
       "    <tr>\n",
       "      <th>1457</th>\n",
       "      <td>SC70</td>\n",
       "      <td>RL</td>\n",
       "      <td>Pave</td>\n",
       "      <td>NaN</td>\n",
       "      <td>Reg</td>\n",
       "      <td>Lvl</td>\n",
       "      <td>AllPub</td>\n",
       "      <td>Inside</td>\n",
       "      <td>Gtl</td>\n",
       "      <td>Crawfor</td>\n",
       "      <td>...</td>\n",
       "      <td>RFn</td>\n",
       "      <td>TA</td>\n",
       "      <td>TA</td>\n",
       "      <td>Y</td>\n",
       "      <td>No</td>\n",
       "      <td>GdPrv</td>\n",
       "      <td>Shed</td>\n",
       "      <td>May</td>\n",
       "      <td>WD</td>\n",
       "      <td>Normal</td>\n",
       "    </tr>\n",
       "    <tr>\n",
       "      <th>1458</th>\n",
       "      <td>SC20</td>\n",
       "      <td>RL</td>\n",
       "      <td>Pave</td>\n",
       "      <td>NaN</td>\n",
       "      <td>Reg</td>\n",
       "      <td>Lvl</td>\n",
       "      <td>AllPub</td>\n",
       "      <td>Inside</td>\n",
       "      <td>Gtl</td>\n",
       "      <td>NAmes</td>\n",
       "      <td>...</td>\n",
       "      <td>Unf</td>\n",
       "      <td>TA</td>\n",
       "      <td>TA</td>\n",
       "      <td>Y</td>\n",
       "      <td>No</td>\n",
       "      <td>No</td>\n",
       "      <td>No</td>\n",
       "      <td>Apr</td>\n",
       "      <td>WD</td>\n",
       "      <td>Normal</td>\n",
       "    </tr>\n",
       "    <tr>\n",
       "      <th>1459</th>\n",
       "      <td>SC20</td>\n",
       "      <td>RL</td>\n",
       "      <td>Pave</td>\n",
       "      <td>NaN</td>\n",
       "      <td>Reg</td>\n",
       "      <td>Lvl</td>\n",
       "      <td>AllPub</td>\n",
       "      <td>Inside</td>\n",
       "      <td>Gtl</td>\n",
       "      <td>Edwards</td>\n",
       "      <td>...</td>\n",
       "      <td>Fin</td>\n",
       "      <td>TA</td>\n",
       "      <td>TA</td>\n",
       "      <td>Y</td>\n",
       "      <td>No</td>\n",
       "      <td>No</td>\n",
       "      <td>No</td>\n",
       "      <td>Jun</td>\n",
       "      <td>WD</td>\n",
       "      <td>Normal</td>\n",
       "    </tr>\n",
       "  </tbody>\n",
       "</table>\n",
       "<p>1460 rows × 45 columns</p>\n",
       "</div>"
      ],
      "text/plain": [
       "     MSSubClass MSZoning Street Alley LotShape LandContour Utilities  \\\n",
       "0          SC60       RL   Pave   NaN      Reg         Lvl    AllPub   \n",
       "1          SC20       RL   Pave   NaN      Reg         Lvl    AllPub   \n",
       "2          SC60       RL   Pave   NaN      IR1         Lvl    AllPub   \n",
       "3          SC70       RL   Pave   NaN      IR1         Lvl    AllPub   \n",
       "4          SC60       RL   Pave   NaN      IR1         Lvl    AllPub   \n",
       "...         ...      ...    ...   ...      ...         ...       ...   \n",
       "1455       SC60       RL   Pave   NaN      Reg         Lvl    AllPub   \n",
       "1456       SC20       RL   Pave   NaN      Reg         Lvl    AllPub   \n",
       "1457       SC70       RL   Pave   NaN      Reg         Lvl    AllPub   \n",
       "1458       SC20       RL   Pave   NaN      Reg         Lvl    AllPub   \n",
       "1459       SC20       RL   Pave   NaN      Reg         Lvl    AllPub   \n",
       "\n",
       "     LotConfig LandSlope Neighborhood  ... GarageFinish GarageQual GarageCond  \\\n",
       "0       Inside       Gtl      CollgCr  ...          RFn         TA         TA   \n",
       "1          FR2       Gtl      Veenker  ...          RFn         TA         TA   \n",
       "2       Inside       Gtl      CollgCr  ...          RFn         TA         TA   \n",
       "3       Corner       Gtl      Crawfor  ...          Unf         TA         TA   \n",
       "4          FR2       Gtl      NoRidge  ...          RFn         TA         TA   \n",
       "...        ...       ...          ...  ...          ...        ...        ...   \n",
       "1455    Inside       Gtl      Gilbert  ...          RFn         TA         TA   \n",
       "1456    Inside       Gtl       NWAmes  ...          Unf         TA         TA   \n",
       "1457    Inside       Gtl      Crawfor  ...          RFn         TA         TA   \n",
       "1458    Inside       Gtl        NAmes  ...          Unf         TA         TA   \n",
       "1459    Inside       Gtl      Edwards  ...          Fin         TA         TA   \n",
       "\n",
       "     PavedDrive PoolQC  Fence MiscFeature MoSold SaleType SaleCondition  \n",
       "0             Y     No     No          No    Feb       WD        Normal  \n",
       "1             Y     No     No          No    May       WD        Normal  \n",
       "2             Y     No     No          No    Sep       WD        Normal  \n",
       "3             Y     No     No          No    Feb       WD       Abnorml  \n",
       "4             Y     No     No          No    Dec       WD        Normal  \n",
       "...         ...    ...    ...         ...    ...      ...           ...  \n",
       "1455          Y     No     No          No    Aug       WD        Normal  \n",
       "1456          Y     No  MnPrv          No    Feb       WD        Normal  \n",
       "1457          Y     No  GdPrv        Shed    May       WD        Normal  \n",
       "1458          Y     No     No          No    Apr       WD        Normal  \n",
       "1459          Y     No     No          No    Jun       WD        Normal  \n",
       "\n",
       "[1460 rows x 45 columns]"
      ]
     },
     "execution_count": 144,
     "metadata": {},
     "output_type": "execute_result"
    }
   ],
   "source": [
    "(HD[cat_var])"
   ]
  },
  {
   "cell_type": "code",
   "execution_count": 146,
   "id": "58d805d6-44df-4c7b-b2cd-a7736371ce4d",
   "metadata": {},
   "outputs": [
    {
     "data": {
      "text/plain": [
       "LotShape\n",
       "Reg    925\n",
       "IR1    484\n",
       "IR2     41\n",
       "IR3     10\n",
       "Name: count, dtype: int64"
      ]
     },
     "execution_count": 146,
     "metadata": {},
     "output_type": "execute_result"
    }
   ],
   "source": [
    "# find different LotShape category  and the count\n",
    "\n",
    "HD['LotShape'].value_counts()"
   ]
  },
  {
   "cell_type": "code",
   "execution_count": null,
   "id": "71f66e61-7821-45ed-9276-46b2936ab4f0",
   "metadata": {},
   "outputs": [],
   "source": []
  },
  {
   "cell_type": "code",
   "execution_count": null,
   "id": "d973fd01-f9ac-4fd4-b7b4-bbe645be07f6",
   "metadata": {},
   "outputs": [],
   "source": []
  },
  {
   "cell_type": "code",
   "execution_count": null,
   "id": "6d2e2d66-27e5-4324-98f1-ebc819248e50",
   "metadata": {},
   "outputs": [],
   "source": []
  },
  {
   "cell_type": "code",
   "execution_count": null,
   "id": "e1e348d8-b3d7-4b29-9797-b972a2a79d5f",
   "metadata": {},
   "outputs": [],
   "source": []
  },
  {
   "cell_type": "code",
   "execution_count": null,
   "id": "cac49c95-16ad-4bd0-ac38-a836082ae2fe",
   "metadata": {},
   "outputs": [],
   "source": []
  }
 ],
 "metadata": {
  "kernelspec": {
   "display_name": "Python 3 (ipykernel)",
   "language": "python",
   "name": "python3"
  },
  "language_info": {
   "codemirror_mode": {
    "name": "ipython",
    "version": 3
   },
   "file_extension": ".py",
   "mimetype": "text/x-python",
   "name": "python",
   "nbconvert_exporter": "python",
   "pygments_lexer": "ipython3",
   "version": "3.12.4"
  }
 },
 "nbformat": 4,
 "nbformat_minor": 5
}
