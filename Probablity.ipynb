{
 "cells": [
  {
   "cell_type": "code",
   "execution_count": 5,
   "id": "5a4a06a5-6803-486c-87b9-5841d20876ce",
   "metadata": {},
   "outputs": [],
   "source": [
    "from scipy.stats import binom"
   ]
  },
  {
   "cell_type": "code",
   "execution_count": 6,
   "id": "74e041d3-96e0-460a-a173-b963fceebabf",
   "metadata": {},
   "outputs": [
    {
     "name": "stdout",
     "output_type": "stream",
     "text": [
      "The probability of exactly 2 defective bulbs out of 20 is : 0.189\n"
     ]
    }
   ],
   "source": [
    "# Number of Trials\n",
    "n=20\n",
    "\n",
    "# Probablity of success(Defective bulb)\n",
    "p=0.05       # 5%\n",
    "\n",
    "# Number of successes(Defective bulb)\n",
    "k=2\n",
    "\n",
    "# Calculate binomial probability\n",
    "prob = binom.pmf(k,n,p)\n",
    "\n",
    "print(f\"The probability of exactly 2 defective bulbs out of 20 is : {prob:.3f}\")"
   ]
  },
  {
   "cell_type": "markdown",
   "id": "418a68a8-ae37-441a-be14-2b54c5bdf46f",
   "metadata": {},
   "source": [
    "Scenario:\n",
    "A customer service center wants to evalute the performance of its representatives in handling customer calls.\n",
    "Historically, 80% of the calls are resolved on the first attempt. The center randomly selects 15 calls handled by a representative to assess their preformance\n",
    "\n",
    "problem: What is the probability that exactly 12 out of the 15 calls are resolved on the first attempt."
   ]
  },
  {
   "cell_type": "code",
   "execution_count": 10,
   "id": "621a5b8f-324b-4da8-8e5d-7cb26f47e31b",
   "metadata": {},
   "outputs": [
    {
     "name": "stdout",
     "output_type": "stream",
     "text": [
      "The probability that exactly 12 out of the 15 calls are resolved on the first attempt are 0.250\n"
     ]
    }
   ],
   "source": [
    "n=15\n",
    "p=0.20   #20%\n",
    "k=3\n",
    "\n",
    "prob1 = binom.pmf(k,n,p)\n",
    "print(f\"The probability that exactly 12 out of the 15 calls are resolved on the first attempt are {prob1 :.3f}\")"
   ]
  },
  {
   "cell_type": "code",
   "execution_count": 12,
   "id": "6b1aeeea-88fa-4ffb-b82d-3933d4c2dd87",
   "metadata": {},
   "outputs": [
    {
     "data": {
      "text/plain": [
       "0.104444862957054"
      ]
     },
     "execution_count": 12,
     "metadata": {},
     "output_type": "execute_result"
    }
   ],
   "source": [
    "import math\n",
    "\n",
    "# Given parameters\n",
    "lambda_ = 5 #Average rate customer visiting ATM per hour\n",
    "k = 7  #probability that 7 customer will visit ATM\n",
    "\n",
    "# Calculate poisson distribution\n",
    "\n",
    "poisson_prob = (lambda_**k * math.exp(-lambda_)) / math.factorial(k)\n",
    "poisson_prob"
   ]
  },
  {
   "cell_type": "markdown",
   "id": "b27537ef-a1b6-4fb0-8047-c928fdae8ff2",
   "metadata": {},
   "source": [
    "Problem statement:\n",
    "\n",
    "A city traffic management team wants to model the nummber of the cars stopping at a red light at a busy intersection during rush hour. On average 10 cars stop at the red light every 5 minutes.\n",
    "The team wants to calculate the probability that exactly 15 cars will stop at the red light in a 5 minute interval."
   ]
  },
  {
   "cell_type": "code",
   "execution_count": 15,
   "id": "dcac58f4-ae23-40c0-a7e5-7bb31d4ca00f",
   "metadata": {},
   "outputs": [
    {
     "name": "stdout",
     "output_type": "stream",
     "text": [
      "the probability that exactly 15 cars will stop at the red light in a 5 minute interval is 0.035\n"
     ]
    }
   ],
   "source": [
    "lam = 10 #cars stopping on signal in 5 minutes time\n",
    "k = 15  #Probability that 15 cars might stop on signal in 5 mins time.\n",
    "\n",
    "# calcualte the Poisson probability \n",
    "poisson_p = (lam ** k * math.exp(-lam)) / math.factorial(k)\n",
    "print(f\"the probability that exactly 15 cars will stop at the red light in a 5 minute interval is {poisson_p:.3f}\")"
   ]
  },
  {
   "cell_type": "code",
   "execution_count": null,
   "id": "a087fb26-c0d0-42ca-a3d8-23c402fd6ff8",
   "metadata": {},
   "outputs": [],
   "source": []
  },
  {
   "cell_type": "code",
   "execution_count": null,
   "id": "872edb64-f331-4602-83a6-b5e442c94851",
   "metadata": {},
   "outputs": [],
   "source": []
  },
  {
   "cell_type": "code",
   "execution_count": null,
   "id": "54231262-07db-495b-bdb2-58c7c65af795",
   "metadata": {},
   "outputs": [],
   "source": []
  },
  {
   "cell_type": "code",
   "execution_count": null,
   "id": "6f5ffc7c-5218-4d6f-b285-e89ebb253793",
   "metadata": {},
   "outputs": [],
   "source": []
  }
 ],
 "metadata": {
  "kernelspec": {
   "display_name": "Python 3 (ipykernel)",
   "language": "python",
   "name": "python3"
  },
  "language_info": {
   "codemirror_mode": {
    "name": "ipython",
    "version": 3
   },
   "file_extension": ".py",
   "mimetype": "text/x-python",
   "name": "python",
   "nbconvert_exporter": "python",
   "pygments_lexer": "ipython3",
   "version": "3.12.4"
  }
 },
 "nbformat": 4,
 "nbformat_minor": 5
}
