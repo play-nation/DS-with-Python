{
 "cells": [
  {
   "cell_type": "code",
   "execution_count": 25,
   "id": "5cd24ba3-877b-4d81-a629-7e34573205aa",
   "metadata": {},
   "outputs": [],
   "source": [
    "import numpy as np\n",
    "\n",
    "# Vectors\n",
    "\n",
    "# Define a finction to calculate dot product of two matrices\n",
    "def dot_product(x,y):\n",
    "\n",
    "# ensure that both the vectors have same length\n",
    "    return sum(i*j for i,j in zip(x,y))\n",
    "\n",
    "# The zip function pairs elements for the two sequences x and y together.\n",
    "# For Example, if x =[1,2,3] abd y=[4,5,6], zip(x,y) will create an iteratot\n",
    "# that produces tuples:\n",
    "# (1,4),(2,5) and (3,6).\n"
   ]
  },
  {
   "cell_type": "code",
   "execution_count": 26,
   "id": "12a222c3-f279-4ce2-8e60-9da393df1a42",
   "metadata": {},
   "outputs": [
    {
     "data": {
      "text/plain": [
       "86"
      ]
     },
     "execution_count": 26,
     "metadata": {},
     "output_type": "execute_result"
    }
   ],
   "source": [
    "dot_product([3,4,5],[6,7,8])       #(3*6)+(4*7)+(5*8) = 86"
   ]
  },
  {
   "cell_type": "code",
   "execution_count": 27,
   "id": "0472df34-1ee8-4c5d-9b44-199acb279d7b",
   "metadata": {},
   "outputs": [],
   "source": [
    "# 1. Minor\n",
    "# 2. Cofactor\n",
    "# 3. Adjoint matrix"
   ]
  },
  {
   "cell_type": "code",
   "execution_count": 28,
   "id": "9fc7f41a-0b70-42a5-a942-9cf97297d31c",
   "metadata": {},
   "outputs": [],
   "source": [
    "# matrix\n",
    "# Eigenvalue and Eigenvectors\n",
    "# Deferential Calculas\n",
    "# inferitial calculas"
   ]
  },
  {
   "cell_type": "code",
   "execution_count": 29,
   "id": "119338ba-7ed9-4070-8658-92b5b60ec130",
   "metadata": {},
   "outputs": [],
   "source": [
    "# 1.Dot Product\n",
    "\n",
    "# Explaination:\n",
    "\n",
    "# The dot product of two vectors measure the simmilarity or projection\n",
    "# of one vector onto another\n",
    "\n",
    "# Use Case:\n",
    "# Suppose you have vectors representing quantities sold for tow different\n",
    "# product in a day for a store. Calulate the total revenue by taking the \n",
    "# dot product of the vectors representing quantities sold and unit\n",
    "# price.\n",
    "\n",
    "quantities_sold = np.array([20,30,40])\n",
    "unit_prices = np.array([10,15,20])"
   ]
  },
  {
   "cell_type": "code",
   "execution_count": 30,
   "id": "0fc92494-b844-4121-aeb9-d36f6eed3ee9",
   "metadata": {},
   "outputs": [
    {
     "data": {
      "text/plain": [
       "np.int64(1450)"
      ]
     },
     "execution_count": 30,
     "metadata": {},
     "output_type": "execute_result"
    }
   ],
   "source": [
    "import numpy as np\n",
    "\n",
    "Total_revenue = np.dot(quantities_sold,unit_prices)\n",
    "Total_revenue"
   ]
  },
  {
   "cell_type": "code",
   "execution_count": 31,
   "id": "a8bf1777-d3b5-4d98-9f94-685ba5eda7ab",
   "metadata": {},
   "outputs": [],
   "source": [
    "# 2. Cross Product\n",
    "\n",
    "# Explaination:\n",
    "# The cross product of tow vectors result in a vector that is perpendicular\n",
    "# to both input vectors, useful in physics and engineering for calculating torque,\n",
    "# magentic feilds etc.\n",
    "\n",
    "# Use Case:\n",
    "# Imagine calculating the torque exerted on a lever by using the cross product\n",
    "# of force and lever arm vectors.\n",
    "\n",
    "force = np.array([2,3,4])\n",
    "lever_arm = np.array([0,1,0])    "
   ]
  },
  {
   "cell_type": "code",
   "execution_count": 32,
   "id": "ba4a6610-bdce-454d-b519-1f6cacc691dc",
   "metadata": {},
   "outputs": [
    {
     "data": {
      "text/plain": [
       "array([-4,  0,  2])"
      ]
     },
     "execution_count": 32,
     "metadata": {},
     "output_type": "execute_result"
    }
   ],
   "source": [
    "torque = np.cross(force, lever_arm)\n",
    "torque"
   ]
  },
  {
   "cell_type": "code",
   "execution_count": 33,
   "id": "08906ffc-839e-498d-ae4f-87141aed63ca",
   "metadata": {},
   "outputs": [],
   "source": [
    "# 3. Norm of a Vector\n",
    "\n",
    "# Explaination:\n",
    "# The norm(or magnitude) of a vector measures its length in Euclidean space,\n",
    "# often used to quantify distance and sizes.\n",
    "\n",
    "# Use Case:\n",
    "# Calculate the speed of a moving object using its velocity vector's norm\n",
    "velocity = np.array([3,4])"
   ]
  },
  {
   "cell_type": "code",
   "execution_count": 34,
   "id": "997a24ba-7ca4-414a-9762-2f013417b89f",
   "metadata": {},
   "outputs": [
    {
     "data": {
      "text/plain": [
       "np.float64(5.0)"
      ]
     },
     "execution_count": 34,
     "metadata": {},
     "output_type": "execute_result"
    }
   ],
   "source": [
    "speed = np.linalg.norm(velocity)\n",
    "speed"
   ]
  },
  {
   "cell_type": "code",
   "execution_count": 35,
   "id": "923c3a26-da97-4e46-87cf-573c7f53fd06",
   "metadata": {},
   "outputs": [],
   "source": [
    "# 4. Addition of Matrices\n",
    "\n",
    "# Explaination:\n",
    "# Matrix addition involves adding corresponding elemments of matrices useful\n",
    "# in aggrigation data and combining \n",
    "\n",
    "# Use case:\n",
    "# Combine daily sales data from two different stores respresented as matrices\n",
    "store1_sales = np.array([[100,120],[150,180]])\n",
    "store2_sales = np.array([[80,90],[160,190]])"
   ]
  },
  {
   "cell_type": "code",
   "execution_count": 36,
   "id": "2d4c5507-2d93-472b-9544-772314723acf",
   "metadata": {},
   "outputs": [
    {
     "name": "stdout",
     "output_type": "stream",
     "text": [
      "[[180 210]\n",
      " [310 370]]\n"
     ]
    }
   ],
   "source": [
    "# print(np.add(store1_sales,store2_sales))\n",
    "\n",
    "total_sales = store1_sales + store2_sales\n",
    "print(total_sales)"
   ]
  },
  {
   "cell_type": "code",
   "execution_count": 39,
   "id": "105ed65d-dcd9-47de-bc3d-4abc53669f18",
   "metadata": {},
   "outputs": [
    {
     "ename": "ValueError",
     "evalue": "matmul: Input operand 1 has a mismatch in its core dimension 0, with gufunc signature (n?,k),(k,m?)->(n?,m?) (size 3 is different from 2)",
     "output_type": "error",
     "traceback": [
      "\u001b[1;31m---------------------------------------------------------------------------\u001b[0m",
      "\u001b[1;31mValueError\u001b[0m                                Traceback (most recent call last)",
      "Cell \u001b[1;32mIn[39], line 14\u001b[0m\n\u001b[0;32m     11\u001b[0m prices \u001b[38;5;241m=\u001b[39m np\u001b[38;5;241m.\u001b[39marray([[\u001b[38;5;241m10\u001b[39m,\u001b[38;5;241m15\u001b[39m], [\u001b[38;5;241m20\u001b[39m,\u001b[38;5;241m25\u001b[39m]])\n\u001b[0;32m     12\u001b[0m quanitites_sold \u001b[38;5;241m=\u001b[39m np\u001b[38;5;241m.\u001b[39marray([[\u001b[38;5;241m100\u001b[39m,\u001b[38;5;241m120\u001b[39m], [\u001b[38;5;241m150\u001b[39m,\u001b[38;5;241m180\u001b[39m]])\n\u001b[1;32m---> 14\u001b[0m total \u001b[38;5;241m=\u001b[39m \u001b[43mnp\u001b[49m\u001b[38;5;241;43m.\u001b[39;49m\u001b[43mmatmul\u001b[49m\u001b[43m(\u001b[49m\u001b[43mprices\u001b[49m\u001b[43m,\u001b[49m\u001b[43m \u001b[49m\u001b[43mquantities_sold\u001b[49m\u001b[43m)\u001b[49m\n\u001b[0;32m     15\u001b[0m total\n",
      "\u001b[1;31mValueError\u001b[0m: matmul: Input operand 1 has a mismatch in its core dimension 0, with gufunc signature (n?,k),(k,m?)->(n?,m?) (size 3 is different from 2)"
     ]
    }
   ],
   "source": [
    "# 5. Multiplication of Matrix\n",
    "\n",
    "# Emplaination: \n",
    "# matrix multiplication involves combining rows of the first matrix and columns of the\n",
    "# second matrix, useful in transformation and linear mappings\n",
    "\n",
    "# Use Case:\n",
    "# Calculate the total cost matrix by multiplying price matrix with quantity sold\n",
    "# matrix\n",
    "\n",
    "prices = np.array([[10,15], [20,25]])\n",
    "quanitites_sold = np.array([[100,120], [150,180]])\n",
    "\n",
    "total = np.matmul(prices, quantities_sold)\n",
    "total"
   ]
  },
  {
   "cell_type": "code",
   "execution_count": 40,
   "id": "6a0ff698-a70c-4c02-8cd5-c75ec6b3ec38",
   "metadata": {},
   "outputs": [
    {
     "data": {
      "text/plain": [
       "array([[1, 4],\n",
       "       [2, 5],\n",
       "       [3, 6]])"
      ]
     },
     "execution_count": 40,
     "metadata": {},
     "output_type": "execute_result"
    }
   ],
   "source": [
    "# Transpose of a matrix Explaination:\n",
    "\n",
    "# The transpose of a matrix flips it over its diagonal, useful in various\n",
    "# operations such as finding orthogonal matrices\n",
    "\n",
    "# Use case: Find the transpose of a matrix representing employee skills and\n",
    "# preferences. \n",
    "a = np.array([[1,2,3],[4,5,6]])\n",
    "np.transpose(a)"
   ]
  },
  {
   "cell_type": "code",
   "execution_count": 43,
   "id": "aa93b079-7eba-40fa-8447-15146901b89a",
   "metadata": {},
   "outputs": [
    {
     "data": {
      "text/plain": [
       "np.int64(2)"
      ]
     },
     "execution_count": 43,
     "metadata": {},
     "output_type": "execute_result"
    }
   ],
   "source": [
    "# Rank of a matrix\n",
    "\n",
    "# The rank of a matrix is the maximum number of lineraly indeoendent row\n",
    "# or column vectors in it, useful in solving systems of linear equations.\n",
    "\n",
    "# Determine the rank of a matrix representing customer preferences accross\n",
    "# different product categories.\n",
    "\n",
    "b=np.array([[1,0,1],[0,1,0],[1,1,1]])\n",
    "np.linalg.matrix_rank(b)"
   ]
  },
  {
   "cell_type": "code",
   "execution_count": 49,
   "id": "ee04fefe-c050-4385-9e43-ebd4c98c033d",
   "metadata": {},
   "outputs": [
    {
     "data": {
      "text/plain": [
       "np.float64(2.0)"
      ]
     },
     "execution_count": 49,
     "metadata": {},
     "output_type": "execute_result"
    }
   ],
   "source": [
    "# Determinant of a Matrix\n",
    "\n",
    "# The determinant of a matrix provides information about the volume\n",
    "# scaling factor of the linear transformation described by the matrix\n",
    "\n",
    "# use case: Calculate the determinant of a matrix representing transformation\n",
    "# operations in 2D space.\n",
    "\n",
    "c = np.array([[2,1],[4,3]])\n",
    "np.linalg.det(c)"
   ]
  },
  {
   "cell_type": "code",
   "execution_count": 55,
   "id": "077e77ff-361a-487f-8f21-dbb37ddd4f6b",
   "metadata": {},
   "outputs": [
    {
     "data": {
      "text/plain": [
       "array([[1., 0.],\n",
       "       [0., 1.]])"
      ]
     },
     "execution_count": 55,
     "metadata": {},
     "output_type": "execute_result"
    }
   ],
   "source": [
    "# Creating a identitiy matrix\n",
    "\n",
    "np.eye(2)\n"
   ]
  },
  {
   "cell_type": "code",
   "execution_count": 62,
   "id": "31b46ddd-02b3-4aec-8759-76360ea13a3b",
   "metadata": {},
   "outputs": [
    {
     "data": {
      "text/plain": [
       "array([[-2. ,  1. ],\n",
       "       [ 1.5, -0.5]])"
      ]
     },
     "execution_count": 62,
     "metadata": {},
     "output_type": "execute_result"
    }
   ],
   "source": [
    "# Inverse of a matrix\n",
    "\n",
    "# The inverse of a matrix allows solving linear  equations and finding transformations that\n",
    "# undo others.\n",
    "\n",
    "# use case: Find the inverse of a matrix representing a linear transformation\n",
    "# to undo its effects.\n",
    "\n",
    "d = np.array([[1,2],[3,4]])\n",
    "e = np.linalg.inv(d)\n",
    "e"
   ]
  },
  {
   "cell_type": "code",
   "execution_count": 65,
   "id": "b9141133-810e-4002-a5f1-d29260526504",
   "metadata": {},
   "outputs": [
    {
     "data": {
      "text/plain": [
       "EigResult(eigenvalues=array([3., 1.]), eigenvectors=array([[ 0.70710678, -0.70710678],\n",
       "       [ 0.70710678,  0.70710678]]))"
      ]
     },
     "execution_count": 65,
     "metadata": {},
     "output_type": "execute_result"
    }
   ],
   "source": [
    "# Eignevalues and Eignevectors\n",
    "\n",
    "# Eignevalues and Eignevectors  describe linear transformations by\n",
    "# indicating directions that remain unchanged by transforamtion and how much they\n",
    "# are scaled.\n",
    "\n",
    "# use case: Calculate eigenvalues and eigenvectors of a matrix presenting\n",
    "# a systems characteristic behaviours.\n",
    "\n",
    "e = np.array([[2,1],[1,2]])\n",
    "np.linalg.eig(e)"
   ]
  },
  {
   "cell_type": "code",
   "execution_count": null,
   "id": "0c67d1fc-deb5-4811-8448-080938664b03",
   "metadata": {},
   "outputs": [],
   "source": []
  },
  {
   "cell_type": "code",
   "execution_count": null,
   "id": "fd96248d-4bb1-474f-aa6b-a34297c3dc51",
   "metadata": {},
   "outputs": [],
   "source": []
  },
  {
   "cell_type": "code",
   "execution_count": null,
   "id": "a0ff62f5-3af6-4e36-898f-fa1903616c61",
   "metadata": {},
   "outputs": [],
   "source": []
  },
  {
   "cell_type": "code",
   "execution_count": null,
   "id": "68e4e15c-716b-42bd-a4dc-10052edd14ba",
   "metadata": {},
   "outputs": [],
   "source": []
  },
  {
   "cell_type": "code",
   "execution_count": null,
   "id": "866663b5-dcf6-4584-bbc4-7d0deeb02be7",
   "metadata": {},
   "outputs": [],
   "source": []
  }
 ],
 "metadata": {
  "kernelspec": {
   "display_name": "Python 3 (ipykernel)",
   "language": "python",
   "name": "python3"
  },
  "language_info": {
   "codemirror_mode": {
    "name": "ipython",
    "version": 3
   },
   "file_extension": ".py",
   "mimetype": "text/x-python",
   "name": "python",
   "nbconvert_exporter": "python",
   "pygments_lexer": "ipython3",
   "version": "3.12.4"
  }
 },
 "nbformat": 4,
 "nbformat_minor": 5
}
