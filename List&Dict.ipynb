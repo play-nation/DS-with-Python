{
 "cells": [
  {
   "cell_type": "code",
   "execution_count": 1,
   "id": "1601c0db-d699-471a-a4a5-3f45c7c98bbb",
   "metadata": {},
   "outputs": [],
   "source": [
    "m = [[1,2,3],\n",
    "     [4,5,6],\n",
    "     [7,8,9]]"
   ]
  },
  {
   "cell_type": "code",
   "execution_count": 2,
   "id": "75e73b20-67d3-4e79-8be1-12a1c7190141",
   "metadata": {},
   "outputs": [
    {
     "data": {
      "text/plain": [
       "[[1, 2, 3], [4, 5, 6], [7, 8, 9]]"
      ]
     },
     "execution_count": 2,
     "metadata": {},
     "output_type": "execute_result"
    }
   ],
   "source": [
    "m"
   ]
  },
  {
   "cell_type": "code",
   "execution_count": 3,
   "id": "3679c32f-b6b4-4b0a-957f-7e187cae13e5",
   "metadata": {},
   "outputs": [
    {
     "data": {
      "text/plain": [
       "[4, 5, 6]"
      ]
     },
     "execution_count": 3,
     "metadata": {},
     "output_type": "execute_result"
    }
   ],
   "source": [
    "m[1]"
   ]
  },
  {
   "cell_type": "code",
   "execution_count": 4,
   "id": "9431f170-4997-4e74-9b6d-4e1e4c86a37f",
   "metadata": {},
   "outputs": [
    {
     "data": {
      "text/plain": [
       "[1, 2, 3]"
      ]
     },
     "execution_count": 4,
     "metadata": {},
     "output_type": "execute_result"
    }
   ],
   "source": [
    "m[0]"
   ]
  },
  {
   "cell_type": "code",
   "execution_count": 5,
   "id": "2f686c70-4ffb-4a94-8dca-a0c8d4d26415",
   "metadata": {},
   "outputs": [
    {
     "data": {
      "text/plain": [
       "[7, 8, 9]"
      ]
     },
     "execution_count": 5,
     "metadata": {},
     "output_type": "execute_result"
    }
   ],
   "source": [
    "m[2]"
   ]
  },
  {
   "cell_type": "code",
   "execution_count": 6,
   "id": "5467c9d7-0160-4ac9-8324-cd9dc599e241",
   "metadata": {},
   "outputs": [
    {
     "data": {
      "text/plain": [
       "6"
      ]
     },
     "execution_count": 6,
     "metadata": {},
     "output_type": "execute_result"
    }
   ],
   "source": [
    "m[1][2]"
   ]
  },
  {
   "cell_type": "code",
   "execution_count": 7,
   "id": "134087bb-c849-47d4-b2c1-b64ad7a37563",
   "metadata": {},
   "outputs": [],
   "source": [
    "col2 = [row[1]for row in m]"
   ]
  },
  {
   "cell_type": "code",
   "execution_count": 8,
   "id": "9731d16d-0679-4bc6-a33a-a30f223248cc",
   "metadata": {},
   "outputs": [
    {
     "data": {
      "text/plain": [
       "[2, 5, 8]"
      ]
     },
     "execution_count": 8,
     "metadata": {},
     "output_type": "execute_result"
    }
   ],
   "source": [
    "col2"
   ]
  },
  {
   "cell_type": "code",
   "execution_count": 9,
   "id": "378332f8-4644-4108-93b8-7409100a67b2",
   "metadata": {},
   "outputs": [],
   "source": [
    "col1 = [row[0] for row in m]"
   ]
  },
  {
   "cell_type": "code",
   "execution_count": 10,
   "id": "46a4cf5c-470b-4061-9aac-a885720cf5da",
   "metadata": {},
   "outputs": [
    {
     "data": {
      "text/plain": [
       "[1, 4, 7]"
      ]
     },
     "execution_count": 10,
     "metadata": {},
     "output_type": "execute_result"
    }
   ],
   "source": [
    "col1"
   ]
  },
  {
   "cell_type": "code",
   "execution_count": 11,
   "id": "c72594a2-53e3-4a4b-9e35-89c0da17afe0",
   "metadata": {},
   "outputs": [
    {
     "data": {
      "text/plain": [
       "[3, 6, 9]"
      ]
     },
     "execution_count": 11,
     "metadata": {},
     "output_type": "execute_result"
    }
   ],
   "source": [
    "[row[1]+1 for row in m]"
   ]
  },
  {
   "cell_type": "code",
   "execution_count": 13,
   "id": "1c371e84-f977-463d-9072-fb48756bf30b",
   "metadata": {},
   "outputs": [
    {
     "data": {
      "text/plain": [
       "[2, 8]"
      ]
     },
     "execution_count": 13,
     "metadata": {},
     "output_type": "execute_result"
    }
   ],
   "source": [
    "[row[1] for row in m if row[1]%2 == 0]"
   ]
  },
  {
   "cell_type": "code",
   "execution_count": 14,
   "id": "6932ed29-c3f0-46c7-8ca5-bee329e229bc",
   "metadata": {},
   "outputs": [],
   "source": [
    "diag = [m[i][i] for i in [0,1,2]]        #collecting diagnols from matrix"
   ]
  },
  {
   "cell_type": "code",
   "execution_count": 15,
   "id": "5af0c34b-255e-4859-a822-df63cebe702c",
   "metadata": {},
   "outputs": [
    {
     "data": {
      "text/plain": [
       "[1, 5, 9]"
      ]
     },
     "execution_count": 15,
     "metadata": {},
     "output_type": "execute_result"
    }
   ],
   "source": [
    "diag"
   ]
  },
  {
   "cell_type": "code",
   "execution_count": 16,
   "id": "3b44853f-9ae7-4712-a6b3-776434cddd44",
   "metadata": {},
   "outputs": [
    {
     "data": {
      "text/plain": [
       "['ss', 'pp', 'aa', 'mm']"
      ]
     },
     "execution_count": 16,
     "metadata": {},
     "output_type": "execute_result"
    }
   ],
   "source": [
    "doubles = [c*2 for c in 'spam']          #Repeating character in a string\n",
    "doubles"
   ]
  },
  {
   "cell_type": "code",
   "execution_count": 18,
   "id": "0a56cf7f-d66c-41b7-aabe-f46355feff5b",
   "metadata": {},
   "outputs": [
    {
     "data": {
      "text/plain": [
       "[0, 1, 2, 3]"
      ]
     },
     "execution_count": 18,
     "metadata": {},
     "output_type": "execute_result"
    }
   ],
   "source": [
    "list(range(4))             #prints 0-3"
   ]
  },
  {
   "cell_type": "code",
   "execution_count": 19,
   "id": "a0f434ae-dfa1-4b00-aa60-288aa742ef63",
   "metadata": {},
   "outputs": [
    {
     "data": {
      "text/plain": [
       "[-6, -4, -2, 0, 2, 4, 6]"
      ]
     },
     "execution_count": 19,
     "metadata": {},
     "output_type": "execute_result"
    }
   ],
   "source": [
    "list(range(-6,7,2))           #-6 to 6 by 2 "
   ]
  },
  {
   "cell_type": "code",
   "execution_count": 20,
   "id": "98a408f5-3189-4e37-8509-7f59cb5cb902",
   "metadata": {},
   "outputs": [
    {
     "data": {
      "text/plain": [
       "[[0, 0], [1, 1], [4, 8], [9, 27]]"
      ]
     },
     "execution_count": 20,
     "metadata": {},
     "output_type": "execute_result"
    }
   ],
   "source": [
    "[[x**2,x**3]for x in range(4)]"
   ]
  },
  {
   "cell_type": "code",
   "execution_count": 21,
   "id": "3fd0a787-7717-4d48-93c4-ceceb8797b28",
   "metadata": {},
   "outputs": [],
   "source": [
    "G = (sum(row) for row in m)"
   ]
  },
  {
   "cell_type": "code",
   "execution_count": 22,
   "id": "ecfb8961-5713-443d-9845-fd58ca1f5db7",
   "metadata": {},
   "outputs": [
    {
     "data": {
      "text/plain": [
       "<generator object <genexpr> at 0x0000022644636C20>"
      ]
     },
     "execution_count": 22,
     "metadata": {},
     "output_type": "execute_result"
    }
   ],
   "source": [
    "G"
   ]
  },
  {
   "cell_type": "code",
   "execution_count": 23,
   "id": "6fdaf9f3-7fa9-4853-9fb2-ce5fcb4123dd",
   "metadata": {},
   "outputs": [
    {
     "data": {
      "text/plain": [
       "6"
      ]
     },
     "execution_count": 23,
     "metadata": {},
     "output_type": "execute_result"
    }
   ],
   "source": [
    "next(G)"
   ]
  },
  {
   "cell_type": "code",
   "execution_count": 24,
   "id": "fc2f2971-8070-45f1-9f24-ffd5989adc97",
   "metadata": {},
   "outputs": [
    {
     "data": {
      "text/plain": [
       "15"
      ]
     },
     "execution_count": 24,
     "metadata": {},
     "output_type": "execute_result"
    }
   ],
   "source": [
    "next(G)"
   ]
  },
  {
   "cell_type": "code",
   "execution_count": 25,
   "id": "e7bd6aaa-73b2-498e-84ec-08b2306708a7",
   "metadata": {},
   "outputs": [
    {
     "data": {
      "text/plain": [
       "[[1, 2, 3], [4, 5, 6], [7, 8, 9]]"
      ]
     },
     "execution_count": 25,
     "metadata": {},
     "output_type": "execute_result"
    }
   ],
   "source": [
    "m"
   ]
  },
  {
   "cell_type": "code",
   "execution_count": 26,
   "id": "7cd9b842-09d7-476c-920f-4e771b510ed0",
   "metadata": {},
   "outputs": [],
   "source": [
    "#Dictonary ======================================================"
   ]
  },
  {
   "cell_type": "code",
   "execution_count": 51,
   "id": "d45e724e-f66e-4036-b8bb-64d8e3da0c5b",
   "metadata": {},
   "outputs": [],
   "source": [
    "D1={'food':'spam','quantity':4,'color':'pink'}"
   ]
  },
  {
   "cell_type": "code",
   "execution_count": 52,
   "id": "983c0cea-39ab-4615-bfcd-9275f0df54b7",
   "metadata": {},
   "outputs": [
    {
     "data": {
      "text/plain": [
       "{'food': 'spam', 'quantity': 4, 'color': 'pink'}"
      ]
     },
     "execution_count": 52,
     "metadata": {},
     "output_type": "execute_result"
    }
   ],
   "source": [
    "D1"
   ]
  },
  {
   "cell_type": "code",
   "execution_count": 53,
   "id": "931bd790-1177-4f1c-b676-5c489e82c6bd",
   "metadata": {},
   "outputs": [
    {
     "data": {
      "text/plain": [
       "'spam'"
      ]
     },
     "execution_count": 53,
     "metadata": {},
     "output_type": "execute_result"
    }
   ],
   "source": [
    "D1['food']"
   ]
  },
  {
   "cell_type": "code",
   "execution_count": 60,
   "id": "86afdf60-d232-4ddb-8156-46d42b77d008",
   "metadata": {},
   "outputs": [
    {
     "data": {
      "text/plain": [
       "'pink'"
      ]
     },
     "execution_count": 60,
     "metadata": {},
     "output_type": "execute_result"
    }
   ],
   "source": [
    "D1['color']"
   ]
  },
  {
   "cell_type": "code",
   "execution_count": 62,
   "id": "0b881009-122c-45d5-83ee-301429ce41a5",
   "metadata": {},
   "outputs": [],
   "source": [
    "bob1 = dict(name = 'bob',age=10,job = 'dev')"
   ]
  },
  {
   "cell_type": "code",
   "execution_count": 63,
   "id": "671f08d3-c719-46a6-959c-7ca735eda9b1",
   "metadata": {},
   "outputs": [
    {
     "data": {
      "text/plain": [
       "{'name': 'bob', 'age': 10, 'job': 'dev'}"
      ]
     },
     "execution_count": 63,
     "metadata": {},
     "output_type": "execute_result"
    }
   ],
   "source": [
    "bob1"
   ]
  },
  {
   "cell_type": "code",
   "execution_count": 64,
   "id": "e7185ca5-93b1-4bb4-b897-209f5ca14ca6",
   "metadata": {},
   "outputs": [
    {
     "data": {
      "text/plain": [
       "dict"
      ]
     },
     "execution_count": 64,
     "metadata": {},
     "output_type": "execute_result"
    }
   ],
   "source": [
    "type(bob1)"
   ]
  },
  {
   "cell_type": "code",
   "execution_count": 65,
   "id": "f6ed4232-1f16-4c87-a254-624257cb9620",
   "metadata": {},
   "outputs": [],
   "source": [
    "bob2 = dict(zip(['name','job','age'],['bob','dev',40]))      #zipping"
   ]
  },
  {
   "cell_type": "code",
   "execution_count": 66,
   "id": "9c4f044e-0c20-45de-a7ab-d42bfac8f58b",
   "metadata": {},
   "outputs": [
    {
     "data": {
      "text/plain": [
       "{'name': 'bob', 'job': 'dev', 'age': 40}"
      ]
     },
     "execution_count": 66,
     "metadata": {},
     "output_type": "execute_result"
    }
   ],
   "source": [
    "bob2"
   ]
  },
  {
   "cell_type": "code",
   "execution_count": 68,
   "id": "d275f8a1-1f35-4871-b022-da1f4b8b6207",
   "metadata": {},
   "outputs": [],
   "source": [
    "rec = {'name':{'first':'Abhi','last':\"singh\"},         #Nested Dictionary\n",
    "        'jobs':['dev','mgr'],\n",
    "            'age':28.3}"
   ]
  },
  {
   "cell_type": "code",
   "execution_count": 69,
   "id": "7adac154-3dd7-45c5-ad17-1e3ffe81bf3c",
   "metadata": {},
   "outputs": [
    {
     "data": {
      "text/plain": [
       "{'name': {'first': 'Abhi', 'last': 'singh'},\n",
       " 'jobs': ['dev', 'mgr'],\n",
       " 'age': 28.3}"
      ]
     },
     "execution_count": 69,
     "metadata": {},
     "output_type": "execute_result"
    }
   ],
   "source": [
    "rec"
   ]
  },
  {
   "cell_type": "code",
   "execution_count": 70,
   "id": "ac7d304f-990d-4312-a4e8-6db0229dc6e7",
   "metadata": {},
   "outputs": [
    {
     "data": {
      "text/plain": [
       "{'first': 'Abhi', 'last': 'singh'}"
      ]
     },
     "execution_count": 70,
     "metadata": {},
     "output_type": "execute_result"
    }
   ],
   "source": [
    "rec['name']"
   ]
  },
  {
   "cell_type": "code",
   "execution_count": 71,
   "id": "a259ad4d-6357-4faf-9ccd-b91cdb28030a",
   "metadata": {},
   "outputs": [
    {
     "data": {
      "text/plain": [
       "['dev', 'mgr']"
      ]
     },
     "execution_count": 71,
     "metadata": {},
     "output_type": "execute_result"
    }
   ],
   "source": [
    "rec['jobs']"
   ]
  },
  {
   "cell_type": "code",
   "execution_count": 72,
   "id": "d37ca56b-0dc2-4ca8-ad31-536d96479703",
   "metadata": {},
   "outputs": [],
   "source": [
    "D = {'a':1,'b':2,'c':3}"
   ]
  },
  {
   "cell_type": "code",
   "execution_count": 73,
   "id": "a0bf1e31-c88e-4328-9944-02e14a3b7c80",
   "metadata": {},
   "outputs": [
    {
     "data": {
      "text/plain": [
       "{'a': 1, 'b': 2, 'c': 3}"
      ]
     },
     "execution_count": 73,
     "metadata": {},
     "output_type": "execute_result"
    }
   ],
   "source": [
    "D"
   ]
  },
  {
   "cell_type": "code",
   "execution_count": 75,
   "id": "ee49755f-e45b-4ae5-8edc-2dd139b2f246",
   "metadata": {},
   "outputs": [],
   "source": [
    "D['e'] =99"
   ]
  },
  {
   "cell_type": "code",
   "execution_count": 76,
   "id": "510e9e9e-d4e0-489b-a955-e4d38b8ec401",
   "metadata": {},
   "outputs": [
    {
     "data": {
      "text/plain": [
       "{'a': 1, 'b': 2, 'c': 3, 'e': 99}"
      ]
     },
     "execution_count": 76,
     "metadata": {},
     "output_type": "execute_result"
    }
   ],
   "source": [
    "D"
   ]
  },
  {
   "cell_type": "code",
   "execution_count": 77,
   "id": "5411a474-c7bf-4e7e-aef5-93e6415c94af",
   "metadata": {},
   "outputs": [
    {
     "ename": "KeyError",
     "evalue": "'f'",
     "output_type": "error",
     "traceback": [
      "\u001b[1;31m---------------------------------------------------------------------------\u001b[0m",
      "\u001b[1;31mKeyError\u001b[0m                                  Traceback (most recent call last)",
      "Cell \u001b[1;32mIn[77], line 1\u001b[0m\n\u001b[1;32m----> 1\u001b[0m \u001b[43mD\u001b[49m\u001b[43m[\u001b[49m\u001b[38;5;124;43m'\u001b[39;49m\u001b[38;5;124;43mf\u001b[39;49m\u001b[38;5;124;43m'\u001b[39;49m\u001b[43m]\u001b[49m\n",
      "\u001b[1;31mKeyError\u001b[0m: 'f'"
     ]
    }
   ],
   "source": [
    "D['f']"
   ]
  },
  {
   "cell_type": "code",
   "execution_count": 78,
   "id": "bdde4946-e73b-47f4-8c5e-1a22828286ac",
   "metadata": {},
   "outputs": [
    {
     "name": "stdout",
     "output_type": "stream",
     "text": [
      "Missing\n"
     ]
    }
   ],
   "source": [
    "if not 'f' in D:\n",
    "    print('Missing')"
   ]
  },
  {
   "cell_type": "code",
   "execution_count": 83,
   "id": "ccffd5a3-1ca2-4b8a-9ebd-d3975400e675",
   "metadata": {},
   "outputs": [],
   "source": [
    "Ks =list(D.keys())"
   ]
  },
  {
   "cell_type": "code",
   "execution_count": 84,
   "id": "a64c5397-095d-4559-ae25-bfb244fc1633",
   "metadata": {},
   "outputs": [
    {
     "data": {
      "text/plain": [
       "['a', 'b', 'c', 'e']"
      ]
     },
     "execution_count": 84,
     "metadata": {},
     "output_type": "execute_result"
    }
   ],
   "source": [
    "Ks"
   ]
  },
  {
   "cell_type": "code",
   "execution_count": 85,
   "id": "e588df3f-0062-4f35-906b-46d0fd749407",
   "metadata": {},
   "outputs": [],
   "source": [
    "Ks.sort()"
   ]
  },
  {
   "cell_type": "code",
   "execution_count": 86,
   "id": "c8ee1389-c7a6-47a7-ac62-4e156378138a",
   "metadata": {},
   "outputs": [
    {
     "data": {
      "text/plain": [
       "['a', 'b', 'c', 'e']"
      ]
     },
     "execution_count": 86,
     "metadata": {},
     "output_type": "execute_result"
    }
   ],
   "source": [
    "Ks"
   ]
  },
  {
   "cell_type": "code",
   "execution_count": 89,
   "id": "4e4d77d1-e394-4bbf-8676-73bb93cec60a",
   "metadata": {},
   "outputs": [
    {
     "name": "stdout",
     "output_type": "stream",
     "text": [
      "a ==> 1\n",
      "b ==> 2\n",
      "c ==> 3\n",
      "e ==> 99\n"
     ]
    }
   ],
   "source": [
    "for key in Ks:\n",
    "    print(key, '==>',D[key])"
   ]
  },
  {
   "cell_type": "code",
   "execution_count": 1,
   "id": "433a9ca1-7249-4f34-b264-22b36e574850",
   "metadata": {},
   "outputs": [
    {
     "name": "stdout",
     "output_type": "stream",
     "text": [
      "S\n",
      "P\n",
      "A\n",
      "M\n"
     ]
    }
   ],
   "source": [
    "for c in 'spam':\n",
    "    print(c.upper())"
   ]
  },
  {
   "cell_type": "code",
   "execution_count": 3,
   "id": "b6c2313a-5a1a-4fd7-bd52-407c6d71170e",
   "metadata": {},
   "outputs": [
    {
     "name": "stdout",
     "output_type": "stream",
     "text": [
      "spam!spam!spam!spam!\n"
     ]
    }
   ],
   "source": [
    "x=4\n",
    "while x>0:\n",
    "    print('spam!'*x)\n",
    "    x=-1"
   ]
  },
  {
   "cell_type": "code",
   "execution_count": 5,
   "id": "507a83a1-db1f-4e1a-8829-2135e442eb8e",
   "metadata": {},
   "outputs": [
    {
     "data": {
      "text/plain": [
       "[1, 4, 9, 16, 25]"
      ]
     },
     "execution_count": 5,
     "metadata": {},
     "output_type": "execute_result"
    }
   ],
   "source": [
    "sqrs = [x ** 2 for x in [1,2,3,4,5]]\n",
    "sqrs"
   ]
  },
  {
   "cell_type": "code",
   "execution_count": null,
   "id": "09e13bd1-40d9-4d9f-802e-525cbc45c24f",
   "metadata": {},
   "outputs": [],
   "source": []
  }
 ],
 "metadata": {
  "kernelspec": {
   "display_name": "Python 3 (ipykernel)",
   "language": "python",
   "name": "python3"
  },
  "language_info": {
   "codemirror_mode": {
    "name": "ipython",
    "version": 3
   },
   "file_extension": ".py",
   "mimetype": "text/x-python",
   "name": "python",
   "nbconvert_exporter": "python",
   "pygments_lexer": "ipython3",
   "version": "3.12.3"
  }
 },
 "nbformat": 4,
 "nbformat_minor": 5
}
